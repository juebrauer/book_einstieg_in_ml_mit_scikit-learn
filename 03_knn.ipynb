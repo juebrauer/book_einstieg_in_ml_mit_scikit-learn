{
 "cells": [
  {
   "cell_type": "markdown",
   "id": "stupid-fishing",
   "metadata": {},
   "source": [
    "# Einleitung: Der k-NN Klassifikator\n",
    "\n",
    "Die seltsame Bezeichnung *k-NN Klassifikator* steht für *k-Nearest Neighbours*. Die Idee ist denkbar einfach:\n",
    "\n",
    "Wenn ich eine neue Eingabe x habe, schaue einfach in den Beispieldaten nach den *k* ähnlichsten Beispielen und betrachte zu welchen Klassen diese gehören:\n",
    "\n",
    "Zum Beispiel könnte als Ergebnis für *k=3* herauskommen:\n",
    "- das ähnlichste Beispiel zu x hat die Klasse A\n",
    "- das zweit-ähnlichste Beispiel zu x hat die Klasse B\n",
    "- das dritt-ähnlichste Beispiel zu x hat die Klasse A\n",
    "\n",
    "Dann wäre es sinnvoll, die neue Eingabe x vielleicht auch als \"A\" zu klassifizieren, da ja zwei der Beispiele zu \"A\" gehören und nur eines zur Klasse \"B\".\n",
    "\n",
    "Und wenn das rauskommt?\n",
    "- das ähnlichste Beispiel zu x hat die Klasse A\n",
    "- das zweit-ähnlichste Beispiel zu x hat die Klasse B\n",
    "- das dritt-ähnlichste Beispiel zu x hat die Klasse C\n",
    "\n",
    "Wenn es hier keine Mehrheit gibt, könnte man sich an der Klasse des ähnlichsten Beispiels orientieren: x wird zu \"A\" klassifiziert.\n",
    "\n",
    "Und jetzt noch ein interessanter Fall:\n",
    "- das ähnlichste Beispiel zu x hat die Klasse A\n",
    "- das zweit-ähnlichste Beispiel zu x hat die Klasse B\n",
    "- das dritt-ähnlichste Beispiel zu x hat die Klasse B\n",
    "\n",
    "Hier würde der *k-NN Klassifikator* wieder einen Mehrheitsentscheid vorziehen: x wird zu \"B\" klassifiziert.\n",
    "\n",
    "Prinzipiell betrachtet die Standardvariante des *NN Klassifikators* eine feste Anzahl *k* von Nachbarn, aber man könnte auch anders vorgehen: betrachte alle Nachbarn um x innerhalb eines festen Radius *r*. Dann könnte es z.B. mal nur ein Nachbar sein oder aber auch 139 Nachbarn. Auf Basis dieser Menge von Nachbarn kann man dann wieder einen Mehrheitsentscheid hinsichtlich der Klasse für x machen. Diese Variante wird dann nahliegenderweise *radius-basierter NN Klassifikator* genannt.\n",
    "\n",
    "Man merkt: hier kann man schnell auf neue Ideen kommen, wie man die Klassifikationsentscheidung eines *NN Klassifikators* noch verfeinern könnte. Wir könnten zum Beispiel auch die Klassen der identifizierten Nachbarn noch gewichten:\n",
    "\n",
    "- ein Nachbar, der weit weg von x ist, erhält ein kleines Gewicht\n",
    "- ein Nachbar, der nahe an x liegt, erhält ein großes Gewicht\n",
    "\n",
    "Generell handelt es sich um ein sogenanntes *lazy learning*, denn die Beispieldaten werden hier ja nur abgespeichert, um später zu einer Klassifikationsentscheidung zu kommen. Man nennt so ein Verfahren im Machine Learning dann auch *nicht generalisierend*, denn die Beispieldaten werden nicht verwendet, um generelle Zusammenhänge zu erkennen, sondern dienen später lediglich als Vergleichsbasis, wenn neue Daten reinkommen und klassifiziert werden sollen.\n",
    "\n",
    "Die Vorteile dieses Ansatzes sind:\n",
    "- einfache Implementierung / Umsetzung in Code\n",
    "- gute Nachvollziehbarkeit\n",
    "- wenige Hyperparameter, die einzustellen sind, z.B. nur den Wert *k* oder *r* (bei einem radius-basierten NN Klassifikator)"
   ]
  },
  {
   "cell_type": "markdown",
   "id": "strategic-completion",
   "metadata": {},
   "source": [
    "# Ein einfaches Beispiel\n",
    "\n",
    "Sagen wir mal unsere Beispieldaten sind zwei-dimensionale Punkte:"
   ]
  },
  {
   "cell_type": "code",
   "execution_count": null,
   "id": "second-smooth",
   "metadata": {},
   "outputs": [],
   "source": [
    "data_points = [ [0,0], [5,5], [-5,5], [10,10] ]\n",
    "data_classes = [ 3, 0, 1, 2 ]"
   ]
  },
  {
   "cell_type": "code",
   "execution_count": null,
   "id": "expired-relaxation",
   "metadata": {},
   "outputs": [],
   "source": [
    "print(data_points)\n",
    "print(data_classes)"
   ]
  },
  {
   "cell_type": "code",
   "execution_count": 3,
   "id": "starting-excitement",
   "metadata": {},
   "outputs": [
    {
     "data": {
      "image/png": "[encoded data removed]",
      "text/plain": [
       "<Figure size 432x288 with 1 Axes>"
      ]
     },
     "metadata": {
      "needs_background": "light"
     },
     "output_type": "display_data"
    }
   ],
   "source": [
    "from matplotlib import pyplot as plt\n",
    "\n",
    "xcoords = [p[0] for p in data_points]\n",
    "ycoords = [p[1] for p in data_points]\n",
    "\n",
    "plt.scatter(xcoords, ycoords)\n",
    "plt.show()"
   ]
  },
  {
   "cell_type": "markdown",
   "id": "saving-heating",
   "metadata": {},
   "source": [
    "Jetzt bauen wir uns mit scikit-learn einen *k-NN Klassifikator*:"
   ]
  },
  {
   "cell_type": "code",
   "execution_count": 4,
   "id": "sought-galaxy",
   "metadata": {},
   "outputs": [],
   "source": [
    "from sklearn.neighbors import KNeighborsClassifier\n",
    "knn = KNeighborsClassifier(n_neighbors=3, weights=\"distance\")\n",
    "knn = knn.fit(data_points, data_classes)"
   ]
  },
  {
   "cell_type": "markdown",
   "id": "gross-capitol",
   "metadata": {},
   "source": [
    "Jetzt definieren wir mal zwei neue Punkte p1,p2:"
   ]
  },
  {
   "cell_type": "code",
   "execution_count": 5,
   "id": "alike-article",
   "metadata": {},
   "outputs": [],
   "source": [
    "p1 = [ 0.3, 0.3 ]\n",
    "p2 = [ 4.0, 4.0 ]"
   ]
  },
  {
   "cell_type": "code",
   "execution_count": 6,
   "id": "flush-antarctica",
   "metadata": {},
   "outputs": [
    {
     "data": {
      "image/png": "[encoded data removed]",
      "text/plain": [
       "<Figure size 432x288 with 1 Axes>"
      ]
     },
     "metadata": {
      "needs_background": "light"
     },
     "output_type": "display_data"
    }
   ],
   "source": [
    "from matplotlib import pyplot as plt\n",
    "\n",
    "plt.scatter(xcoords, ycoords)\n",
    "plt.scatter(p1[0], p1[1], marker=\"+\", color=\"red\", label=\"p1\")\n",
    "plt.scatter(p2[0], p2[1], marker=\"+\", color=\"green\", label=\"p2\")\n",
    "plt.legend()\n",
    "plt.show()"
   ]
  },
  {
   "cell_type": "markdown",
   "id": "raised-microphone",
   "metadata": {},
   "source": [
    "Und lassen diese Punkte durch den k-NN Klassifikator gleich klassifizieren:"
   ]
  },
  {
   "cell_type": "code",
   "execution_count": 7,
   "id": "resistant-swedish",
   "metadata": {},
   "outputs": [
    {
     "data": {
      "text/plain": [
       "array([3, 0])"
      ]
     },
     "execution_count": 7,
     "metadata": {},
     "output_type": "execute_result"
    }
   ],
   "source": [
    "knn.predict( [p1, p2] )"
   ]
  },
  {
   "cell_type": "markdown",
   "id": "vocal-return",
   "metadata": {},
   "source": [
    "Man sieht, dass der Punkt p1 der Klasse 3 zugeordnet wird und der Punkt p2 der Klasse 0.\n",
    "\n",
    "Wir können uns statt einer *harten* Entscheidung für nur eine Klasse auch Wahrscheinlichkeiten für die 4 Klassen 0,1,2,3 wünschen:"
   ]
  },
  {
   "cell_type": "code",
   "execution_count": 8,
   "id": "hindu-fight",
   "metadata": {},
   "outputs": [
    {
     "name": "stdout",
     "output_type": "stream",
     "text": [
      "W'keiten für Klasse [0,1,2,3]\n"
     ]
    },
    {
     "data": {
      "text/plain": [
       "array([[0.05680211, 0.05329813, 0.        , 0.88989975],\n",
       "       [0.70588235, 0.        , 0.11764706, 0.17647059]])"
      ]
     },
     "execution_count": 8,
     "metadata": {},
     "output_type": "execute_result"
    }
   ],
   "source": [
    "print(\"W'keiten für Klasse [0,1,2,3]\")\n",
    "knn.predict_proba( [ p1, p2 ] )"
   ]
  },
  {
   "cell_type": "markdown",
   "id": "reflected-buffer",
   "metadata": {},
   "source": [
    "Man kann sich auch für jeden Punkt ausgeben lassen, wie die Distanzen zu den anderen Punkten sind:"
   ]
  },
  {
   "cell_type": "code",
   "execution_count": 9,
   "id": "straight-asthma",
   "metadata": {},
   "outputs": [
    {
     "data": {
      "text/plain": [
       "array([[ 0.        ,  7.07106781,  7.07106781, 14.14213562],\n",
       "       [ 7.07106781,  0.        , 10.        ,  7.07106781],\n",
       "       [ 7.07106781, 10.        ,  0.        , 15.8113883 ],\n",
       "       [14.14213562,  7.07106781, 15.8113883 ,  0.        ]])"
      ]
     },
     "execution_count": 9,
     "metadata": {},
     "output_type": "execute_result"
    }
   ],
   "source": [
    "from sklearn.neighbors import kneighbors_graph\n",
    "\n",
    "A = kneighbors_graph(data_points, n_neighbors=4, mode='distance', include_self=True)\n",
    "\n",
    "A.toarray()"
   ]
  },
  {
   "cell_type": "markdown",
   "id": "genuine-surveillance",
   "metadata": {},
   "source": [
    "Eine Alternative des `kneighbors_graph` ist es nicht die Distanzen zu anderen Punkten zu berechnen, sondern für jeden Punkt anzugeben, welche anderen Punkte zu den nächsten *k* Nachbarn gehören:"
   ]
  },
  {
   "cell_type": "code",
   "execution_count": 10,
   "id": "polished-drinking",
   "metadata": {},
   "outputs": [
    {
     "data": {
      "text/plain": [
       "array([[0., 1., 1., 0.],\n",
       "       [1., 0., 0., 1.],\n",
       "       [1., 1., 0., 0.],\n",
       "       [1., 1., 0., 0.]])"
      ]
     },
     "execution_count": 10,
     "metadata": {},
     "output_type": "execute_result"
    }
   ],
   "source": [
    "B = kneighbors_graph(data_points, n_neighbors=2, mode='connectivity', include_self=False)\n",
    "\n",
    "B.toarray()"
   ]
  },
  {
   "cell_type": "markdown",
   "id": "immune-bunch",
   "metadata": {},
   "source": [
    "Man sieht z.B. das für den ersten Punkt (0,0) von `data_points`:"
   ]
  },
  {
   "cell_type": "code",
   "execution_count": 11,
   "id": "suffering-swift",
   "metadata": {},
   "outputs": [
    {
     "data": {
      "text/plain": [
       "[[0, 0], [5, 5], [-5, 5], [10, 10]]"
      ]
     },
     "execution_count": 11,
     "metadata": {},
     "output_type": "execute_result"
    }
   ],
   "source": [
    "data_points"
   ]
  },
  {
   "cell_type": "markdown",
   "id": "surface-branch",
   "metadata": {},
   "source": [
    "die Punkte (5,5) und (-5,5) die nächsten *k=2* Nachbarn sind."
   ]
  },
  {
   "cell_type": "markdown",
   "id": "departmental-johns",
   "metadata": {},
   "source": [
    "# k-NN Klassifikator für den Titanic-Datensatz\n",
    "\n",
    "Wir werden jetzt einen *k-NN Klassifikator* für den Titanic-Datensatz vorbereiten.\n",
    "\n",
    "Dazu lesen wir mittels Pandas zuerst die Tabelle mit den Beispielpassagierdaten ein und bereiten eine kleine Tabelle mit ausgewählten Spalten vor:"
   ]
  },
  {
   "cell_type": "code",
   "execution_count": 12,
   "id": "divine-indicator",
   "metadata": {},
   "outputs": [
    {
     "data": {
      "text/html": [
       "<div>\n",
       "<style scoped>\n",
       "    .dataframe tbody tr th:only-of-type {\n",
       "        vertical-align: middle;\n",
       "    }\n",
       "\n",
       "    .dataframe tbody tr th {\n",
       "        vertical-align: top;\n",
       "    }\n",
       "\n",
       "    .dataframe thead th {\n",
       "        text-align: right;\n",
       "    }\n",
       "</style>\n",
       "<table border=\"1\" class=\"dataframe\">\n",
       "  <thead>\n",
       "    <tr style=\"text-align: right;\">\n",
       "      <th></th>\n",
       "      <th>Age</th>\n",
       "      <th>Pclass</th>\n",
       "      <th>Survived</th>\n",
       "      <th>Sex_female</th>\n",
       "      <th>Sex_male</th>\n",
       "    </tr>\n",
       "  </thead>\n",
       "  <tbody>\n",
       "    <tr>\n",
       "      <th>0</th>\n",
       "      <td>22.0</td>\n",
       "      <td>3</td>\n",
       "      <td>0</td>\n",
       "      <td>0</td>\n",
       "      <td>1</td>\n",
       "    </tr>\n",
       "    <tr>\n",
       "      <th>1</th>\n",
       "      <td>38.0</td>\n",
       "      <td>1</td>\n",
       "      <td>1</td>\n",
       "      <td>1</td>\n",
       "      <td>0</td>\n",
       "    </tr>\n",
       "    <tr>\n",
       "      <th>2</th>\n",
       "      <td>26.0</td>\n",
       "      <td>3</td>\n",
       "      <td>1</td>\n",
       "      <td>1</td>\n",
       "      <td>0</td>\n",
       "    </tr>\n",
       "    <tr>\n",
       "      <th>3</th>\n",
       "      <td>35.0</td>\n",
       "      <td>1</td>\n",
       "      <td>1</td>\n",
       "      <td>1</td>\n",
       "      <td>0</td>\n",
       "    </tr>\n",
       "    <tr>\n",
       "      <th>4</th>\n",
       "      <td>35.0</td>\n",
       "      <td>3</td>\n",
       "      <td>0</td>\n",
       "      <td>0</td>\n",
       "      <td>1</td>\n",
       "    </tr>\n",
       "    <tr>\n",
       "      <th>...</th>\n",
       "      <td>...</td>\n",
       "      <td>...</td>\n",
       "      <td>...</td>\n",
       "      <td>...</td>\n",
       "      <td>...</td>\n",
       "    </tr>\n",
       "    <tr>\n",
       "      <th>885</th>\n",
       "      <td>39.0</td>\n",
       "      <td>3</td>\n",
       "      <td>0</td>\n",
       "      <td>1</td>\n",
       "      <td>0</td>\n",
       "    </tr>\n",
       "    <tr>\n",
       "      <th>886</th>\n",
       "      <td>27.0</td>\n",
       "      <td>2</td>\n",
       "      <td>0</td>\n",
       "      <td>0</td>\n",
       "      <td>1</td>\n",
       "    </tr>\n",
       "    <tr>\n",
       "      <th>887</th>\n",
       "      <td>19.0</td>\n",
       "      <td>1</td>\n",
       "      <td>1</td>\n",
       "      <td>1</td>\n",
       "      <td>0</td>\n",
       "    </tr>\n",
       "    <tr>\n",
       "      <th>889</th>\n",
       "      <td>26.0</td>\n",
       "      <td>1</td>\n",
       "      <td>1</td>\n",
       "      <td>0</td>\n",
       "      <td>1</td>\n",
       "    </tr>\n",
       "    <tr>\n",
       "      <th>890</th>\n",
       "      <td>32.0</td>\n",
       "      <td>3</td>\n",
       "      <td>0</td>\n",
       "      <td>0</td>\n",
       "      <td>1</td>\n",
       "    </tr>\n",
       "  </tbody>\n",
       "</table>\n",
       "<p>714 rows × 5 columns</p>\n",
       "</div>"
      ],
      "text/plain": [
       "      Age  Pclass  Survived  Sex_female  Sex_male\n",
       "0    22.0       3         0           0         1\n",
       "1    38.0       1         1           1         0\n",
       "2    26.0       3         1           1         0\n",
       "3    35.0       1         1           1         0\n",
       "4    35.0       3         0           0         1\n",
       "..    ...     ...       ...         ...       ...\n",
       "885  39.0       3         0           1         0\n",
       "886  27.0       2         0           0         1\n",
       "887  19.0       1         1           1         0\n",
       "889  26.0       1         1           0         1\n",
       "890  32.0       3         0           0         1\n",
       "\n",
       "[714 rows x 5 columns]"
      ]
     },
     "execution_count": 12,
     "metadata": {},
     "output_type": "execute_result"
    }
   ],
   "source": [
    "import pandas as pd\n",
    "\n",
    "fname = \"daten/01_titanic/train.csv\"\n",
    "df_train = pd.read_csv( fname )\n",
    "df_train_small = df_train[ [\"Age\", \"Pclass\", \"Sex\", \"Survived\"] ]\n",
    "df_train_small_onehot = pd.get_dummies(df_train_small, columns=[\"Sex\"])\n",
    "df_train_small_onehot_nanfiltered = df_train_small_onehot.dropna()\n",
    "df_train_small_onehot_nanfiltered"
   ]
  },
  {
   "cell_type": "markdown",
   "id": "included-forestry",
   "metadata": {},
   "source": [
    "Jetzt splitten wir diese 714 Beispielpassagiere in 80% Trainings- und 20% Testdaten:"
   ]
  },
  {
   "cell_type": "code",
   "execution_count": 13,
   "id": "parliamentary-mailman",
   "metadata": {},
   "outputs": [],
   "source": [
    "x = df_train_small_onehot_nanfiltered[ [\"Age\", \"Pclass\", \"Sex_female\", \"Sex_male\"] ].values\n",
    "y = df_train_small_onehot_nanfiltered[ \"Survived\" ].values\n",
    "\n",
    "\n",
    "from sklearn.preprocessing import StandardScaler\n",
    "scaler = StandardScaler()\n",
    "x_scaled = scaler.fit_transform(x)\n",
    "\n",
    "\n",
    "from sklearn.model_selection import train_test_split\n",
    "x_train, x_test, y_train, y_test = train_test_split(x_scaled, y, test_size = 0.2, random_state = 0)"
   ]
  },
  {
   "cell_type": "code",
   "execution_count": 14,
   "id": "demonstrated-lafayette",
   "metadata": {},
   "outputs": [
    {
     "name": "stdout",
     "output_type": "stream",
     "text": [
      "(571, 4) (571,)\n"
     ]
    }
   ],
   "source": [
    "print(x_train.shape, y_train.shape)"
   ]
  },
  {
   "cell_type": "code",
   "execution_count": 15,
   "id": "cloudy-retail",
   "metadata": {},
   "outputs": [
    {
     "data": {
      "text/plain": [
       "array([[ 0.43405504, -0.28256564,  1.31743394, -1.31743394],\n",
       "       [-0.32371271, -0.28256564, -0.75905134,  0.75905134],\n",
       "       [ 0.36516706, -0.28256564, -0.75905134,  0.75905134],\n",
       "       ...,\n",
       "       [ 1.12293481, -1.47636364, -0.75905134,  0.75905134],\n",
       "       [-0.25482473,  0.91123237, -0.75905134,  0.75905134],\n",
       "       [ 1.05404683, -1.47636364,  1.31743394, -1.31743394]])"
      ]
     },
     "execution_count": 15,
     "metadata": {},
     "output_type": "execute_result"
    }
   ],
   "source": [
    "x_train"
   ]
  },
  {
   "cell_type": "code",
   "execution_count": 16,
   "id": "characteristic-database",
   "metadata": {},
   "outputs": [
    {
     "name": "stdout",
     "output_type": "stream",
     "text": [
      "(143, 4) (143,)\n"
     ]
    }
   ],
   "source": [
    "print(x_test.shape, y_test.shape)"
   ]
  },
  {
   "cell_type": "code",
   "execution_count": 17,
   "id": "regulated-header",
   "metadata": {},
   "outputs": [],
   "source": [
    "from sklearn.neighbors import KNeighborsClassifier\n",
    "\n",
    "knn2 = KNeighborsClassifier(n_neighbors=2, weights=\"distance\")\n",
    "\n",
    "knn2 = knn2.fit(x_train, y_train)"
   ]
  },
  {
   "cell_type": "code",
   "execution_count": 18,
   "id": "correct-influence",
   "metadata": {},
   "outputs": [
    {
     "data": {
      "text/plain": [
       "array([0, 1, 1, 0, 1, 0, 0, 0, 0, 0, 0, 0, 1, 0, 0, 1, 0, 1, 0, 0, 0, 1,\n",
       "       1, 0, 0, 1, 1, 0, 0, 0, 0, 0, 0, 1, 0, 0, 1, 0, 0, 1, 0, 0, 1, 0,\n",
       "       0, 1, 1, 0, 0, 0, 1, 1, 0, 1, 1, 0, 1, 0, 0, 1, 1, 0, 1, 0, 1, 0,\n",
       "       1, 0, 1, 0, 0, 0, 1, 1, 1, 0, 0, 0, 0, 0, 0, 0, 0, 1, 1, 0, 0, 0,\n",
       "       1, 0, 1, 0, 0, 0, 1, 0, 1, 0, 0, 1, 0, 0, 1, 0, 1, 1, 1, 0, 1, 0,\n",
       "       0, 0, 0, 0, 0, 0, 0, 0, 1, 1, 0, 1, 0, 0, 1, 1, 1, 0, 0, 1, 1, 0,\n",
       "       0, 1, 0, 0, 1, 1, 0, 0, 1, 0, 1])"
      ]
     },
     "execution_count": 18,
     "metadata": {},
     "output_type": "execute_result"
    }
   ],
   "source": [
    "y_pred_test = knn2.predict( x_test )\n",
    "y_pred_test"
   ]
  },
  {
   "cell_type": "code",
   "execution_count": 19,
   "id": "included-namibia",
   "metadata": {},
   "outputs": [
    {
     "data": {
      "text/plain": [
       "array([0, 0, 1, 0, 1, 0, 0, 0, 0, 0, 0, 1, 1, 0, 0, 1, 0, 1, 1, 0, 0, 1,\n",
       "       1, 0, 0, 1, 1, 0, 1, 0, 0, 0, 0, 1, 0, 0, 1, 1, 0, 1, 0, 1, 1, 0,\n",
       "       0, 1, 1, 0, 0, 0, 0, 1, 0, 1, 0, 0, 1, 0, 1, 0, 0, 0, 0, 0, 1, 0,\n",
       "       1, 0, 0, 1, 0, 1, 1, 1, 1, 1, 1, 0, 0, 0, 1, 1, 0, 1, 1, 0, 0, 0,\n",
       "       1, 0, 1, 0, 1, 0, 1, 0, 1, 0, 0, 0, 1, 1, 1, 0, 1, 1, 1, 0, 1, 0,\n",
       "       0, 0, 0, 0, 0, 0, 1, 0, 1, 1, 0, 1, 0, 0, 0, 1, 1, 0, 0, 1, 1, 1,\n",
       "       0, 1, 1, 0, 1, 1, 0, 0, 1, 0, 1])"
      ]
     },
     "execution_count": 19,
     "metadata": {},
     "output_type": "execute_result"
    }
   ],
   "source": [
    "y_test"
   ]
  },
  {
   "cell_type": "code",
   "execution_count": 20,
   "id": "angry-humidity",
   "metadata": {},
   "outputs": [
    {
     "data": {
      "text/plain": [
       "0.8111888111888111"
      ]
     },
     "execution_count": 20,
     "metadata": {},
     "output_type": "execute_result"
    }
   ],
   "source": [
    "from sklearn.metrics import accuracy_score\n",
    "\n",
    "accuracy_score(y_test, y_pred_test)"
   ]
  },
  {
   "cell_type": "markdown",
   "id": "graphic-herald",
   "metadata": {},
   "source": [
    "D.h., dass der *k-NN Klassifikator* für 81% der Testpassagiere korrekt vorhersagen kann, ob sie überlebt haben oder nicht."
   ]
  },
  {
   "cell_type": "markdown",
   "id": "proper-edinburgh",
   "metadata": {},
   "source": [
    "# Metriken gibt es viele\n",
    "\n",
    "Der *k-NN Klassifiaktor* betracht als Grundlage für seine Klassifikationsentscheidung die *k* nächsten Nachbarn. Dabei wird also irgendein Distanzmaß, eine *Metrik*, vorausgesetzt, um die nächsten *k* Nachbarn zu bestimmen.\n",
    "\n",
    "Die Standardmetrik, die eingestellt ist, ist die sog. *Minkowski-Metrik*, siehe\n",
    "\n",
    "https://scikit-learn.org/stable/modules/generated/sklearn.neighbors.DistanceMetric.html#sklearn.neighbors.DistanceMetric\n",
    "\n",
    "D.h., Sie können auch gerne einmal andere Metriken versuchen, um bessere Ergebnisse zu erzielen, z.B. die *euklidische Metrik* oder Sie können sogar eine eigene Funktion zur Berechnung der Distanz zwischen zwei Punkten spezifizieren:"
   ]
  },
  {
   "cell_type": "code",
   "execution_count": 21,
   "id": "bright-moscow",
   "metadata": {},
   "outputs": [],
   "source": [
    "from sklearn.neighbors import KNeighborsClassifier\n",
    "\n",
    "def mydist(x,y):\n",
    "    return 0.0*abs(x[0]-y[0]) + 1.0*abs(x[1]-y[1]) + 1.0*abs(x[2]-y[2])\n",
    "\n",
    "knn3 = KNeighborsClassifier(n_neighbors=1, weights=\"distance\", metric=mydist)\n",
    "\n",
    "knn3 = knn3.fit(x_train, y_train)"
   ]
  },
  {
   "cell_type": "code",
   "execution_count": 22,
   "id": "tested-tuition",
   "metadata": {},
   "outputs": [
    {
     "data": {
      "text/plain": [
       "array([1, 1, 1, 1, 1, 0, 1, 1, 1, 1, 0, 1, 1, 0, 1, 1, 1, 1, 1, 1, 0, 1,\n",
       "       1, 0, 0, 1, 1, 1, 1, 1, 0, 0, 0, 1, 0, 0, 1, 1, 0, 1, 0, 0, 1, 1,\n",
       "       0, 1, 0, 1, 0, 0, 1, 1, 1, 1, 1, 1, 1, 0, 1, 1, 1, 0, 1, 0, 1, 1,\n",
       "       1, 1, 1, 1, 0, 1, 1, 1, 1, 1, 1, 0, 0, 1, 0, 1, 1, 1, 1, 0, 0, 1,\n",
       "       1, 1, 1, 0, 1, 0, 1, 0, 1, 1, 0, 1, 1, 1, 1, 1, 1, 1, 1, 1, 1, 0,\n",
       "       0, 0, 0, 1, 1, 0, 1, 0, 1, 1, 0, 1, 0, 0, 1, 1, 1, 0, 0, 1, 1, 0,\n",
       "       1, 1, 1, 0, 1, 1, 1, 0, 1, 0, 1])"
      ]
     },
     "execution_count": 22,
     "metadata": {},
     "output_type": "execute_result"
    }
   ],
   "source": [
    "y_pred_test = knn3.predict( x_test )\n",
    "y_pred_test"
   ]
  },
  {
   "cell_type": "code",
   "execution_count": 23,
   "id": "hybrid-internet",
   "metadata": {},
   "outputs": [
    {
     "data": {
      "text/plain": [
       "array([0, 0, 1, 0, 1, 0, 0, 0, 0, 0, 0, 1, 1, 0, 0, 1, 0, 1, 1, 0, 0, 1,\n",
       "       1, 0, 0, 1, 1, 0, 1, 0, 0, 0, 0, 1, 0, 0, 1, 1, 0, 1, 0, 1, 1, 0,\n",
       "       0, 1, 1, 0, 0, 0, 0, 1, 0, 1, 0, 0, 1, 0, 1, 0, 0, 0, 0, 0, 1, 0,\n",
       "       1, 0, 0, 1, 0, 1, 1, 1, 1, 1, 1, 0, 0, 0, 1, 1, 0, 1, 1, 0, 0, 0,\n",
       "       1, 0, 1, 0, 1, 0, 1, 0, 1, 0, 0, 0, 1, 1, 1, 0, 1, 1, 1, 0, 1, 0,\n",
       "       0, 0, 0, 0, 0, 0, 1, 0, 1, 1, 0, 1, 0, 0, 0, 1, 1, 0, 0, 1, 1, 1,\n",
       "       0, 1, 1, 0, 1, 1, 0, 0, 1, 0, 1])"
      ]
     },
     "execution_count": 23,
     "metadata": {},
     "output_type": "execute_result"
    }
   ],
   "source": [
    "y_test"
   ]
  },
  {
   "cell_type": "code",
   "execution_count": 24,
   "id": "informative-librarian",
   "metadata": {},
   "outputs": [
    {
     "data": {
      "text/plain": [
       "0.7132867132867133"
      ]
     },
     "execution_count": 24,
     "metadata": {},
     "output_type": "execute_result"
    }
   ],
   "source": [
    "from sklearn.metrics import accuracy_score\n",
    "\n",
    "accuracy_score(y_test, y_pred_test)"
   ]
  }
 ],
 "metadata": {
  "kernelspec": {
   "display_name": "Python 3",
   "language": "python",
   "name": "python3"
  },
  "language_info": {
   "codemirror_mode": {
    "name": "ipython",
    "version": 3
   },
   "file_extension": ".py",
   "mimetype": "text/x-python",
   "name": "python",
   "nbconvert_exporter": "python",
   "pygments_lexer": "ipython3",
   "version": "3.8.5"
  }
 },
 "nbformat": 4,
 "nbformat_minor": 5
}
