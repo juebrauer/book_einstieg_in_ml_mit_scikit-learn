{
 "cells": [
  {
   "cell_type": "markdown",
   "id": "magnetic-polls",
   "metadata": {},
   "source": [
    "# Einleitung: MLP Klassifikator"
   ]
  },
  {
   "cell_type": "markdown",
   "id": "interesting-burner",
   "metadata": {},
   "source": [
    "# Vorbereiten der Daten"
   ]
  },
  {
   "cell_type": "code",
   "execution_count": 1,
   "id": "vital-possibility",
   "metadata": {},
   "outputs": [
    {
     "data": {
      "text/html": [
       "<div>\n",
       "<style scoped>\n",
       "    .dataframe tbody tr th:only-of-type {\n",
       "        vertical-align: middle;\n",
       "    }\n",
       "\n",
       "    .dataframe tbody tr th {\n",
       "        vertical-align: top;\n",
       "    }\n",
       "\n",
       "    .dataframe thead th {\n",
       "        text-align: right;\n",
       "    }\n",
       "</style>\n",
       "<table border=\"1\" class=\"dataframe\">\n",
       "  <thead>\n",
       "    <tr style=\"text-align: right;\">\n",
       "      <th></th>\n",
       "      <th>Age</th>\n",
       "      <th>Pclass</th>\n",
       "      <th>Survived</th>\n",
       "      <th>Sex_female</th>\n",
       "      <th>Sex_male</th>\n",
       "    </tr>\n",
       "  </thead>\n",
       "  <tbody>\n",
       "    <tr>\n",
       "      <th>0</th>\n",
       "      <td>22.0</td>\n",
       "      <td>3</td>\n",
       "      <td>0</td>\n",
       "      <td>0</td>\n",
       "      <td>1</td>\n",
       "    </tr>\n",
       "    <tr>\n",
       "      <th>1</th>\n",
       "      <td>38.0</td>\n",
       "      <td>1</td>\n",
       "      <td>1</td>\n",
       "      <td>1</td>\n",
       "      <td>0</td>\n",
       "    </tr>\n",
       "    <tr>\n",
       "      <th>2</th>\n",
       "      <td>26.0</td>\n",
       "      <td>3</td>\n",
       "      <td>1</td>\n",
       "      <td>1</td>\n",
       "      <td>0</td>\n",
       "    </tr>\n",
       "    <tr>\n",
       "      <th>3</th>\n",
       "      <td>35.0</td>\n",
       "      <td>1</td>\n",
       "      <td>1</td>\n",
       "      <td>1</td>\n",
       "      <td>0</td>\n",
       "    </tr>\n",
       "    <tr>\n",
       "      <th>4</th>\n",
       "      <td>35.0</td>\n",
       "      <td>3</td>\n",
       "      <td>0</td>\n",
       "      <td>0</td>\n",
       "      <td>1</td>\n",
       "    </tr>\n",
       "    <tr>\n",
       "      <th>...</th>\n",
       "      <td>...</td>\n",
       "      <td>...</td>\n",
       "      <td>...</td>\n",
       "      <td>...</td>\n",
       "      <td>...</td>\n",
       "    </tr>\n",
       "    <tr>\n",
       "      <th>885</th>\n",
       "      <td>39.0</td>\n",
       "      <td>3</td>\n",
       "      <td>0</td>\n",
       "      <td>1</td>\n",
       "      <td>0</td>\n",
       "    </tr>\n",
       "    <tr>\n",
       "      <th>886</th>\n",
       "      <td>27.0</td>\n",
       "      <td>2</td>\n",
       "      <td>0</td>\n",
       "      <td>0</td>\n",
       "      <td>1</td>\n",
       "    </tr>\n",
       "    <tr>\n",
       "      <th>887</th>\n",
       "      <td>19.0</td>\n",
       "      <td>1</td>\n",
       "      <td>1</td>\n",
       "      <td>1</td>\n",
       "      <td>0</td>\n",
       "    </tr>\n",
       "    <tr>\n",
       "      <th>889</th>\n",
       "      <td>26.0</td>\n",
       "      <td>1</td>\n",
       "      <td>1</td>\n",
       "      <td>0</td>\n",
       "      <td>1</td>\n",
       "    </tr>\n",
       "    <tr>\n",
       "      <th>890</th>\n",
       "      <td>32.0</td>\n",
       "      <td>3</td>\n",
       "      <td>0</td>\n",
       "      <td>0</td>\n",
       "      <td>1</td>\n",
       "    </tr>\n",
       "  </tbody>\n",
       "</table>\n",
       "<p>714 rows × 5 columns</p>\n",
       "</div>"
      ],
      "text/plain": [
       "      Age  Pclass  Survived  Sex_female  Sex_male\n",
       "0    22.0       3         0           0         1\n",
       "1    38.0       1         1           1         0\n",
       "2    26.0       3         1           1         0\n",
       "3    35.0       1         1           1         0\n",
       "4    35.0       3         0           0         1\n",
       "..    ...     ...       ...         ...       ...\n",
       "885  39.0       3         0           1         0\n",
       "886  27.0       2         0           0         1\n",
       "887  19.0       1         1           1         0\n",
       "889  26.0       1         1           0         1\n",
       "890  32.0       3         0           0         1\n",
       "\n",
       "[714 rows x 5 columns]"
      ]
     },
     "execution_count": 1,
     "metadata": {},
     "output_type": "execute_result"
    }
   ],
   "source": [
    "import pandas as pd\n",
    "\n",
    "fname = \"daten/01_titanic/train.csv\"\n",
    "df_train = pd.read_csv( fname )\n",
    "df_train_small = df_train[ [\"Age\", \"Pclass\", \"Sex\", \"Survived\"] ]\n",
    "df_train_small_onehot = pd.get_dummies(df_train_small, columns=[\"Sex\"])\n",
    "df_train_small_onehot_nanfiltered = df_train_small_onehot.dropna()\n",
    "df_train_small_onehot_nanfiltered"
   ]
  },
  {
   "cell_type": "code",
   "execution_count": 2,
   "id": "muslim-prevention",
   "metadata": {},
   "outputs": [],
   "source": [
    "x = df_train_small_onehot_nanfiltered[ [\"Age\", \"Pclass\", \"Sex_female\", \"Sex_male\"] ].values\n",
    "y = df_train_small_onehot_nanfiltered[ \"Survived\" ].values\n",
    "\n",
    "\n",
    "from sklearn.preprocessing import StandardScaler\n",
    "scaler = StandardScaler()\n",
    "x_scaled = scaler.fit_transform(x)\n",
    "\n",
    "\n",
    "from sklearn.model_selection import train_test_split\n",
    "x_train, x_test, y_train, y_test = train_test_split(x_scaled, y, test_size = 0.2, random_state = 0)"
   ]
  },
  {
   "cell_type": "markdown",
   "id": "absent-wright",
   "metadata": {},
   "source": [
    "# NN erzeugen"
   ]
  },
  {
   "cell_type": "code",
   "execution_count": 4,
   "id": "secret-baseline",
   "metadata": {},
   "outputs": [
    {
     "name": "stderr",
     "output_type": "stream",
     "text": [
      "/home/juebrauer/anaconda3/envs/env_generic/lib/python3.8/site-packages/sklearn/neural_network/_multilayer_perceptron.py:614: ConvergenceWarning: Stochastic Optimizer: Maximum iterations (300) reached and the optimization hasn't converged yet.\n",
      "  warnings.warn(\n"
     ]
    }
   ],
   "source": [
    "from sklearn.neural_network import MLPClassifier\n",
    "\n",
    "clf = MLPClassifier(random_state=1, max_iter=300).fit(x_train, y_train)"
   ]
  },
  {
   "cell_type": "markdown",
   "id": "victorian-leather",
   "metadata": {},
   "source": [
    "# NN anwenden"
   ]
  },
  {
   "cell_type": "code",
   "execution_count": 11,
   "id": "compressed-webster",
   "metadata": {},
   "outputs": [],
   "source": [
    "y_pred_test = clf.predict( x_test )"
   ]
  },
  {
   "cell_type": "code",
   "execution_count": 12,
   "id": "sixth-qatar",
   "metadata": {},
   "outputs": [
    {
     "data": {
      "text/plain": [
       "array([0, 1, 1, 0, 0])"
      ]
     },
     "execution_count": 12,
     "metadata": {},
     "output_type": "execute_result"
    }
   ],
   "source": [
    "y_pred_test[:5]"
   ]
  },
  {
   "cell_type": "code",
   "execution_count": 13,
   "id": "experienced-fishing",
   "metadata": {},
   "outputs": [
    {
     "data": {
      "text/plain": [
       "array([[0.56403083, 0.43596917],\n",
       "       [0.00795763, 0.99204237],\n",
       "       [0.08202403, 0.91797597],\n",
       "       [0.91990561, 0.08009439],\n",
       "       [0.59813567, 0.40186433]])"
      ]
     },
     "execution_count": 13,
     "metadata": {},
     "output_type": "execute_result"
    }
   ],
   "source": [
    "clf.predict_proba( x_test[:5] )"
   ]
  },
  {
   "cell_type": "markdown",
   "id": "molecular-ancient",
   "metadata": {},
   "source": [
    "# Testen wie gut das NN ist"
   ]
  },
  {
   "cell_type": "code",
   "execution_count": 14,
   "id": "devoted-destination",
   "metadata": {},
   "outputs": [
    {
     "data": {
      "text/plain": [
       "0.7972027972027972"
      ]
     },
     "execution_count": 14,
     "metadata": {},
     "output_type": "execute_result"
    }
   ],
   "source": [
    "clf.score(x_test, y_test)"
   ]
  }
 ],
 "metadata": {
  "kernelspec": {
   "display_name": "Python 3",
   "language": "python",
   "name": "python3"
  },
  "language_info": {
   "codemirror_mode": {
    "name": "ipython",
    "version": 3
   },
   "file_extension": ".py",
   "mimetype": "text/x-python",
   "name": "python",
   "nbconvert_exporter": "python",
   "pygments_lexer": "ipython3",
   "version": "3.8.5"
  },
  "toc": {
   "base_numbering": 1,
   "nav_menu": {},
   "number_sections": true,
   "sideBar": true,
   "skip_h1_title": false,
   "title_cell": "Table of Contents",
   "title_sidebar": "Contents",
   "toc_cell": false,
   "toc_position": {},
   "toc_section_display": true,
   "toc_window_display": true
  }
 },
 "nbformat": 4,
 "nbformat_minor": 5
}
