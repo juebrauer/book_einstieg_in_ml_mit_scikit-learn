{
 "cells": [
  {
   "cell_type": "markdown",
   "id": "desperate-proposition",
   "metadata": {},
   "source": [
    "# Einleitung: Lineare Regression\n",
    "\n",
    "Bei der linearen Regression liegen Beispieldatenpunkte\n",
    "\n",
    "    (x1,y1), (x2,y2), ..., (xn,yn)\n",
    "\n",
    "vor. Gehen wir davon aus, dass es einen linearen Zusammenhang zwischen den x- und y-Werten gibt, müsste es Parameter `a` und `b` geben, so dass wir jeden y-Wert aus dem zugehörigen x-Wert berechnen können:\n",
    "\n",
    "    y = a*x + b\n",
    "    \n",
    "In der Praxis liegen oft Werte vor, die einen *annähernd* linearen Zusammenhang haben. Zum Beispiel wird der Preis eines Autos in etwa mit seinem km-Stand fallen:\n",
    "\n",
    "- niedriger km-Stand --> hoher Preis\n",
    "- hoher km-Stand --> niedriger Preis\n",
    "\n",
    "Das könnte beispielhaft in etwa (bei einem speziellen Automodell) bei einem Neupreis des Automodells von b=50.000 EUR so aussehen:"
   ]
  },
  {
   "cell_type": "code",
   "execution_count": 67,
   "id": "ongoing-surprise",
   "metadata": {},
   "outputs": [],
   "source": [
    "import numpy as np\n",
    "\n",
    "nr_bsp = 10\n",
    "\n",
    "autos_km_staende = np.random.randint( low=0, high=100000, size=(nr_bsp,) )\n",
    "\n",
    "a = -0.3\n",
    "b = 50000\n",
    "rauschen = np.random.normal(loc=0, scale=1000.0, size=nr_bsp)\n",
    "autos_preise = a * autos_km_staende + b + rauschen"
   ]
  },
  {
   "cell_type": "code",
   "execution_count": 68,
   "id": "running-lending",
   "metadata": {},
   "outputs": [
    {
     "data": {
      "text/plain": [
       "array([  941, 72367, 14027, 28423,   905, 60292, 25584,  6339, 68991,\n",
       "       62167])"
      ]
     },
     "execution_count": 68,
     "metadata": {},
     "output_type": "execute_result"
    }
   ],
   "source": [
    "autos_km_staende"
   ]
  },
  {
   "cell_type": "code",
   "execution_count": 72,
   "id": "desperate-energy",
   "metadata": {},
   "outputs": [
    {
     "data": {
      "text/plain": [
       "array([  387.41964215,  1456.39432422,  1550.72809951,   254.15355699,\n",
       "        -791.20886773,   276.45846263,   198.29682562, -1693.88672468,\n",
       "         271.93934078,  -609.02389714])"
      ]
     },
     "execution_count": 72,
     "metadata": {},
     "output_type": "execute_result"
    }
   ],
   "source": [
    "rauschen"
   ]
  },
  {
   "cell_type": "code",
   "execution_count": 73,
   "id": "mediterranean-april",
   "metadata": {},
   "outputs": [
    {
     "data": {
      "text/plain": [
       "array([50105.11964215, 29746.29432422, 47342.62809951, 41727.25355699,\n",
       "       48937.29113227, 32188.85846263, 42523.09682562, 46404.41327532,\n",
       "       29574.63934078, 30740.87610286])"
      ]
     },
     "execution_count": 73,
     "metadata": {},
     "output_type": "execute_result"
    }
   ],
   "source": [
    "autos_preise"
   ]
  },
  {
   "cell_type": "code",
   "execution_count": 74,
   "id": "registered-danger",
   "metadata": {},
   "outputs": [
    {
     "data": {
      "image/png": "[encoded data removed]",
      "text/plain": [
       "<Figure size 432x288 with 1 Axes>"
      ]
     },
     "metadata": {
      "needs_background": "light"
     },
     "output_type": "display_data"
    }
   ],
   "source": [
    "from matplotlib import pyplot as plt\n",
    "\n",
    "plt.scatter(autos_km_staende, autos_preise)\n",
    "plt.xlabel(\"km-Stand\")\n",
    "plt.ylabel(\"Preis in \")\n",
    "plt.show()"
   ]
  },
  {
   "cell_type": "markdown",
   "id": "measured-employee",
   "metadata": {},
   "source": [
    "Wir haben hier absichtlich etwas *Rauschen* auf jeden Preis addiert, d.h.\n",
    "\n",
    "    Preis = Neupreis + -0.5 * km-Stand\n",
    "          = 50000 - 0.5 * km-Stand\n",
    "          \n",
    "um den linearen Zusammenhang \"aufzuweichen\". Schließlich gibt es bei jedem individuellem Verkaufsgeschäft auch viel Verhandlungsspielraum.\n",
    "\n",
    "Die Frage ist nun: können wir, wenn wir nur die beobachteten Datenpunkte haben, den linearen Zusammenhang berechnen? Mit anderen Worten: können wir `a` und `b`, die beiden Parameter, die den linearen Zusammenhang wiedergeben, aus den Datenpunkten berechnen?"
   ]
  },
  {
   "cell_type": "markdown",
   "id": "collaborative-sheep",
   "metadata": {},
   "source": [
    "# Linearen Zusammenhang berechnen\n",
    "\n",
    "scikit-learn bietet auch hierzu natürlich eine Funktionalität bzw. Klasse namens `LinearRegression`:"
   ]
  },
  {
   "cell_type": "code",
   "execution_count": 85,
   "id": "protective-grocery",
   "metadata": {},
   "outputs": [],
   "source": [
    "from sklearn.linear_model import LinearRegression\n",
    "\n",
    "linear_model = LinearRegression()\n",
    "\n",
    "reg = linear_model.fit(autos_km_staende.reshape(-1,1), autos_preise)"
   ]
  },
  {
   "cell_type": "markdown",
   "id": "gentle-death",
   "metadata": {},
   "source": [
    "Der Rückgabewert der `fit()` Methode enthält gerade die beiden Parameter `a` und `b`.\n",
    "\n",
    "Den von sciki-learn bestimmten multiplikativen Parameter `a` erhalten sie so:"
   ]
  },
  {
   "cell_type": "code",
   "execution_count": 88,
   "id": "static-stevens",
   "metadata": {},
   "outputs": [
    {
     "data": {
      "text/plain": [
       "array([-0.28930278])"
      ]
     },
     "execution_count": 88,
     "metadata": {},
     "output_type": "execute_result"
    }
   ],
   "source": [
    "reg.coef_"
   ]
  },
  {
   "cell_type": "markdown",
   "id": "opposite-verse",
   "metadata": {},
   "source": [
    "Den von sciki-learn bestimmten y-Achsenabschnitt (Parameter `b`) erhalten sie so:"
   ]
  },
  {
   "cell_type": "code",
   "execution_count": 89,
   "id": "traditional-experiment",
   "metadata": {},
   "outputs": [
    {
     "data": {
      "text/plain": [
       "49766.383097311336"
      ]
     },
     "execution_count": 89,
     "metadata": {},
     "output_type": "execute_result"
    }
   ],
   "source": [
    "reg.intercept_"
   ]
  },
  {
   "cell_type": "markdown",
   "id": "theoretical-trinidad",
   "metadata": {},
   "source": [
    "Man sieht, dass die Werte ziemlich genau den tatsächlichen Werten `a=0.3` und `b=50000` entsprechen. Nicht perfekt, denn wir haben ja auch noch ein Rauschen auf die Generierung unserer Beispieldatenpunkte addiert."
   ]
  },
  {
   "cell_type": "code",
   "execution_count": null,
   "id": "relative-woman",
   "metadata": {},
   "outputs": [],
   "source": []
  }
 ],
 "metadata": {
  "kernelspec": {
   "display_name": "Python 3",
   "language": "python",
   "name": "python3"
  },
  "language_info": {
   "codemirror_mode": {
    "name": "ipython",
    "version": 3
   },
   "file_extension": ".py",
   "mimetype": "text/x-python",
   "name": "python",
   "nbconvert_exporter": "python",
   "pygments_lexer": "ipython3",
   "version": "3.8.5"
  }
 },
 "nbformat": 4,
 "nbformat_minor": 5
}
