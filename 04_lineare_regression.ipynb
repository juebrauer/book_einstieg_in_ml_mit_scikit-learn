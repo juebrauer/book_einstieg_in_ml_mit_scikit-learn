{
 "cells": [
  {
   "cell_type": "markdown",
   "id": "embedded-scoop",
   "metadata": {},
   "source": [
    "# Einleitung: Lineare Regression\n",
    "\n",
    "Bei der linearen Regression liegen Beispieldatenpunkte\n",
    "\n",
    "    (x1,y1), (x2,y2), ..., (xn,yn)\n",
    "\n",
    "vor. Gehen wir davon aus, dass es einen linearen Zusammenhang zwischen den x- und y-Werten gibt, müsste es Parameter `a` und `b` geben, so dass wir jeden y-Wert aus dem zugehörigen x-Wert berechnen können:\n",
    "\n",
    "    y = a*x + b\n",
    "    \n",
    "In der Praxis liegen oft Werte vor, die einen *annähernd* linearen Zusammenhang haben. Zum Beispiel wird der Preis eines Autos in etwa mit seinem km-Stand fallen:\n",
    "\n",
    "- niedriger km-Stand --> hoher Preis\n",
    "- hoher km-Stand --> niedriger Preis\n",
    "\n",
    "Das könnte beispielhaft in etwa (bei einem speziellen Automodell) bei einem Neupreis des Automodells von b=50.000 EUR so aussehen:"
   ]
  },
  {
   "cell_type": "code",
   "execution_count": 1,
   "id": "hearing-extra",
   "metadata": {},
   "outputs": [],
   "source": [
    "import numpy as np\n",
    "\n",
    "nr_bsp = 10\n",
    "\n",
    "autos_km_staende = np.random.randint( low=0, high=100000, size=(nr_bsp,) )\n",
    "\n",
    "a = -0.3\n",
    "b = 50000\n",
    "rauschen = np.random.normal(loc=0, scale=1000.0, size=nr_bsp)\n",
    "autos_preise = a * autos_km_staende + b + rauschen"
   ]
  },
  {
   "cell_type": "code",
   "execution_count": 2,
   "id": "driven-credits",
   "metadata": {},
   "outputs": [
    {
     "data": {
      "text/plain": [
       "array([27642, 49488, 22670, 97598, 84928, 87457, 18344, 36037, 62260,\n",
       "       57291])"
      ]
     },
     "execution_count": 2,
     "metadata": {},
     "output_type": "execute_result"
    }
   ],
   "source": [
    "autos_km_staende"
   ]
  },
  {
   "cell_type": "code",
   "execution_count": 3,
   "id": "mathematical-context",
   "metadata": {},
   "outputs": [
    {
     "data": {
      "text/plain": [
       "array([ -177.79991784,  -184.96893563,  -330.59695988, -1291.08315134,\n",
       "        1401.07721778,   590.52715981, -1609.03753145,   840.36386877,\n",
       "       -1167.56637848,   149.13799087])"
      ]
     },
     "execution_count": 3,
     "metadata": {},
     "output_type": "execute_result"
    }
   ],
   "source": [
    "rauschen"
   ]
  },
  {
   "cell_type": "code",
   "execution_count": 4,
   "id": "removable-english",
   "metadata": {},
   "outputs": [
    {
     "data": {
      "text/plain": [
       "array([41529.60008216, 34968.63106437, 42868.40304012, 19429.51684866,\n",
       "       25922.67721778, 24353.42715981, 42887.76246855, 40029.26386877,\n",
       "       30154.43362152, 32961.83799087])"
      ]
     },
     "execution_count": 4,
     "metadata": {},
     "output_type": "execute_result"
    }
   ],
   "source": [
    "autos_preise"
   ]
  },
  {
   "cell_type": "code",
   "execution_count": 5,
   "id": "inclusive-hampton",
   "metadata": {},
   "outputs": [
    {
     "data": {
      "image/png": "[encoded data removed]",
      "text/plain": [
       "<Figure size 432x288 with 1 Axes>"
      ]
     },
     "metadata": {
      "needs_background": "light"
     },
     "output_type": "display_data"
    }
   ],
   "source": [
    "from matplotlib import pyplot as plt\n",
    "\n",
    "plt.scatter(autos_km_staende, autos_preise)\n",
    "plt.title(\"Autopreise abhängig vom km-Stand\\n\", fontsize=14)\n",
    "plt.xlabel(\"\\nkm-Stand\", fontsize=12)\n",
    "plt.ylabel(\"Preis in EUR\\n\", fontsize=12)\n",
    "plt.grid()\n",
    "plt.show()"
   ]
  },
  {
   "cell_type": "markdown",
   "id": "aggressive-jason",
   "metadata": {},
   "source": [
    "Wir haben hier absichtlich etwas *Rauschen* auf jeden Preis addiert, d.h.\n",
    "\n",
    "    Preis = Neupreis + -0.5 * km-Stand\n",
    "          = 50000 - 0.5 * km-Stand\n",
    "          \n",
    "um den linearen Zusammenhang \"aufzuweichen\". Schließlich gibt es bei jedem individuellem Verkaufsgeschäft auch viel Verhandlungsspielraum.\n",
    "\n",
    "Die Frage ist nun: können wir, wenn wir nur die beobachteten Datenpunkte haben, den linearen Zusammenhang berechnen? Mit anderen Worten: können wir `a` und `b`, die beiden Parameter, die den linearen Zusammenhang wiedergeben, aus den Datenpunkten berechnen?"
   ]
  },
  {
   "cell_type": "markdown",
   "id": "wound-taiwan",
   "metadata": {},
   "source": [
    "# Linearen Zusammenhang berechnen\n",
    "\n",
    "scikit-learn bietet auch hierzu natürlich eine Funktionalität bzw. Klasse namens `LinearRegression`:"
   ]
  },
  {
   "cell_type": "code",
   "execution_count": 6,
   "id": "possible-holiday",
   "metadata": {},
   "outputs": [],
   "source": [
    "from sklearn.linear_model import LinearRegression\n",
    "\n",
    "linear_model = LinearRegression()\n",
    "\n",
    "reg = linear_model.fit(autos_km_staende.reshape(-1,1), autos_preise)"
   ]
  },
  {
   "cell_type": "markdown",
   "id": "double-horror",
   "metadata": {},
   "source": [
    "Der Rückgabewert der `fit()` Methode enthält gerade die beiden Parameter `a` und `b`.\n",
    "\n",
    "Den von sciki-learn bestimmten multiplikativen Parameter `a` erhalten sie so:"
   ]
  },
  {
   "cell_type": "code",
   "execution_count": 7,
   "id": "greek-ground",
   "metadata": {},
   "outputs": [
    {
     "data": {
      "text/plain": [
       "array([-0.29231265])"
      ]
     },
     "execution_count": 7,
     "metadata": {},
     "output_type": "execute_result"
    }
   ],
   "source": [
    "reg.coef_"
   ]
  },
  {
   "cell_type": "markdown",
   "id": "accepted-judgment",
   "metadata": {},
   "source": [
    "Den von sciki-learn bestimmten y-Achsenabschnitt (Parameter `b`) erhalten sie so:"
   ]
  },
  {
   "cell_type": "code",
   "execution_count": 8,
   "id": "danish-guarantee",
   "metadata": {},
   "outputs": [
    {
     "data": {
      "text/plain": [
       "49404.032397173236"
      ]
     },
     "execution_count": 8,
     "metadata": {},
     "output_type": "execute_result"
    }
   ],
   "source": [
    "reg.intercept_"
   ]
  },
  {
   "cell_type": "markdown",
   "id": "meaning-philosophy",
   "metadata": {},
   "source": [
    "Man sieht, dass die Werte ziemlich genau den tatsächlichen Werten `a=0.3` und `b=50000` entsprechen. Nicht perfekt, denn wir haben ja auch noch ein Rauschen auf die Generierung unserer Beispieldatenpunkte addiert."
   ]
  },
  {
   "cell_type": "markdown",
   "id": "changed-juice",
   "metadata": {},
   "source": [
    "# Lineares Modell verwenden\n",
    "\n",
    "Genauso wie Sie vorher bei dem *Naive Bayes Klassifikator* und bei dem *k-NN Klassifikator* mittels `predict()` vorhersagen für neue Daten machen konnten, können Sie nun mittels `linear_model.predict()` für neue km-Stände eine Schätzung des Verkaufspreises machen:"
   ]
  },
  {
   "cell_type": "code",
   "execution_count": 9,
   "id": "starting-founder",
   "metadata": {},
   "outputs": [],
   "source": [
    "test_km_staende = np.array([0, 50000, 75000]).reshape(-1,1)\n",
    "\n",
    "praedizierte_preise = linear_model.predict( test_km_staende )"
   ]
  },
  {
   "cell_type": "code",
   "execution_count": 10,
   "id": "sound-ethics",
   "metadata": {},
   "outputs": [
    {
     "data": {
      "text/plain": [
       "array([49404.03239717, 34788.40007057, 27480.58390727])"
      ]
     },
     "execution_count": 10,
     "metadata": {},
     "output_type": "execute_result"
    }
   ],
   "source": [
    "praedizierte_preise"
   ]
  },
  {
   "cell_type": "code",
   "execution_count": 11,
   "id": "comfortable-triangle",
   "metadata": {},
   "outputs": [
    {
     "data": {
      "image/png": "[encoded data removed]",
      "text/plain": [
       "<Figure size 432x288 with 1 Axes>"
      ]
     },
     "metadata": {
      "needs_background": "light"
     },
     "output_type": "display_data"
    }
   ],
   "source": [
    "plt.title(\"Prädizierte Autopreise abhängig vom km-Stand\\n\", fontsize=14)\n",
    "plt.xlabel(\"\\nkm-Stand\", fontsize=12)\n",
    "plt.ylabel(\"Preis in EUR\\n\", fontsize=12)\n",
    "plt.grid()\n",
    "plt.scatter(test_km_staende, praedizierte_preise, marker=\"+\", color=\"blue\")\n",
    "\n",
    "plt.show()"
   ]
  },
  {
   "cell_type": "markdown",
   "id": "compound-excess",
   "metadata": {},
   "source": [
    " # Regresssionsgerade visualisieren\n",
    " \n",
    " Man sieht schon anhand dieser drei prädizierte Preise das *lineare Verhalten* unseres linearen Regressionmodells. Warum also nicht gleich die entsprechende *gelernte Regressionsgerade* visualisieren?"
   ]
  },
  {
   "cell_type": "code",
   "execution_count": 12,
   "id": "ahead-label",
   "metadata": {},
   "outputs": [
    {
     "data": {
      "image/png": "[encoded data removed]",
      "text/plain": [
       "<Figure size 432x288 with 1 Axes>"
      ]
     },
     "metadata": {
      "needs_background": "light"
     },
     "output_type": "display_data"
    }
   ],
   "source": [
    "x_werte = np.arange(0,100000, 10000).reshape(-1,1)\n",
    "y_werte = linear_model.predict(x_werte)\n",
    "\n",
    "plt.title(\"Erlernte Regressionsgerade\\n\", fontsize=14)\n",
    "plt.xlabel(\"\\nkm-Stand\", fontsize=12)\n",
    "plt.ylabel(\"Preis in EUR\\n\", fontsize=12)\n",
    "plt.grid()\n",
    "\n",
    "# Plotten der Linie (Datenpunkte mit Liniensegmenten verbunden)\n",
    "plt.plot(x_werte, y_werte)\n",
    "\n",
    "# Plotten der einzelnen Datenpunkte\n",
    "plt.scatter(x_werte, y_werte, marker=\"p\", color=\"red\")\n",
    "\n",
    "plt.show()"
   ]
  },
  {
   "cell_type": "markdown",
   "id": "minor-yukon",
   "metadata": {},
   "source": [
    "# Lineare Regression mit mehreren Merkmalen\n",
    "\n",
    "Jetzt wollen wir uns der Praxis noch ein Stück nähern. Bei den meisten Anwendungen / Datensätzen liegt aber nicht nur ein Eingabemerkmal (wie hier der km-Stand vor), sondern wir haben mehrere Eingabemerkmale, die wir nutzen können. Lassen Sie uns wieder ganz konkret werden. Bei Autos hängt der Verkaufspreis sicherlich auch von der PS-Zahl ab:\n",
    "\n",
    "    Ein Auto mit viel PS kostet viel tendenziell mehr als ein Auto mit weniger PS\n",
    "    \n",
    "Das wollen wir mal simulieren, indem wir jetzt sagen, dass der Preis sich als *Linearkombination* des km-Stands und der PS-Zahl berechnet:\n",
    "\n",
    "    Preis = Basispreis + -0.5 * km-Stand + 50.0 * PS-Zahl\n",
    "          =    b       +   a1 * km-Stand +   a2 * PS-Zahl\n",
    "    \n",
    "In der Simulation sagen wir mit dieser Formel sozusagen: für ein PS mehr, bezahlt man auch 50 EUR mehr.\n",
    "\n",
    "Später wird es bei dem Machine Learning darum gehen, die Parameter `a1`, `a2` und `b` anhand der Beispieldaten zu erlernen."
   ]
  },
  {
   "cell_type": "code",
   "execution_count": 13,
   "id": "extreme-chase",
   "metadata": {},
   "outputs": [],
   "source": [
    "nr_bsp = 10\n",
    "\n",
    "autos_km_staende = np.random.randint( low=0,  high=100000, size=(nr_bsp,) )\n",
    "autos_ps_zahlen  = np.random.randint( low=50, high=250, size=(nr_bsp,) )\n",
    "\n",
    "a1 = -0.3\n",
    "a2 = 50.0\n",
    "b = 50000\n",
    "rauschen = np.random.normal(loc=0, scale=1000.0, size=nr_bsp)\n",
    "autos_preise = b + a1 * autos_km_staende + a2 * autos_ps_zahlen + rauschen"
   ]
  },
  {
   "cell_type": "code",
   "execution_count": 14,
   "id": "upper-ordinary",
   "metadata": {},
   "outputs": [
    {
     "data": {
      "image/png": "[encoded data removed]",
      "text/plain": [
       "<Figure size 432x288 with 1 Axes>"
      ]
     },
     "metadata": {
      "needs_background": "light"
     },
     "output_type": "display_data"
    }
   ],
   "source": [
    "from matplotlib import pyplot as plt\n",
    "\n",
    "plt.scatter(autos_ps_zahlen, autos_preise)\n",
    "plt.title(\"Autopreise abhängig von PS-Zahl (und km-Stand)\\n\", fontsize=14)\n",
    "plt.xlabel(\"\\nPS-Zahl\", fontsize=12)\n",
    "plt.ylabel(\"Preis in EUR\\n\", fontsize=12)\n",
    "plt.grid()\n",
    "plt.show()"
   ]
  },
  {
   "cell_type": "markdown",
   "id": "relative-twist",
   "metadata": {},
   "source": [
    "Als Vorbereitung für die Berechnung der linearen Regressionsgerade benötigen wir jetzt noch eine NumPy-Eingabematrix, die beide Eingabemerkmale (1D Arrays) in eine einzelnes 2D Eingabe-Array kombiniert:\n",
    "\n",
    "        | km-Stand1   PS-Zahl1 |\n",
    "    X = | km-Stand2   PS-Zahl2 |\n",
    "        |   ...        ...     |\n",
    "        | km-StandN   PS-ZahlN |\n",
    "\n",
    "Dazu bereiten wir erstmal ein 2D Eingabe-Array entsprechender Größe mit lauter Nullen vor (eine *Null-Matrix*):"
   ]
  },
  {
   "cell_type": "code",
   "execution_count": 15,
   "id": "viral-madness",
   "metadata": {},
   "outputs": [],
   "source": [
    "anz_merkmale = 2\n",
    "X = np.zeros( (nr_bsp, anz_merkmale) )"
   ]
  },
  {
   "cell_type": "code",
   "execution_count": 16,
   "id": "higher-newcastle",
   "metadata": {},
   "outputs": [
    {
     "data": {
      "text/plain": [
       "array([[0., 0.],\n",
       "       [0., 0.],\n",
       "       [0., 0.],\n",
       "       [0., 0.],\n",
       "       [0., 0.],\n",
       "       [0., 0.],\n",
       "       [0., 0.],\n",
       "       [0., 0.],\n",
       "       [0., 0.],\n",
       "       [0., 0.]])"
      ]
     },
     "execution_count": 16,
     "metadata": {},
     "output_type": "execute_result"
    }
   ],
   "source": [
    "X"
   ]
  },
  {
   "cell_type": "markdown",
   "id": "early-latino",
   "metadata": {},
   "source": [
    "Jetzt müssen wir die erste Spalte mit den km-Ständen füllen:"
   ]
  },
  {
   "cell_type": "code",
   "execution_count": 17,
   "id": "seventh-offset",
   "metadata": {},
   "outputs": [],
   "source": [
    "X[:,0] = autos_km_staende"
   ]
  },
  {
   "cell_type": "code",
   "execution_count": 18,
   "id": "wicked-august",
   "metadata": {},
   "outputs": [
    {
     "data": {
      "text/plain": [
       "array([[20810.,     0.],\n",
       "       [26895.,     0.],\n",
       "       [69734.,     0.],\n",
       "       [35837.,     0.],\n",
       "       [53281.,     0.],\n",
       "       [32979.,     0.],\n",
       "       [83387.,     0.],\n",
       "       [21249.,     0.],\n",
       "       [10578.,     0.],\n",
       "       [83684.,     0.]])"
      ]
     },
     "execution_count": 18,
     "metadata": {},
     "output_type": "execute_result"
    }
   ],
   "source": [
    "X"
   ]
  },
  {
   "cell_type": "markdown",
   "id": "egyptian-convert",
   "metadata": {},
   "source": [
    "Jetzt noch das Gleiche mit der zwieten Spalten. Diese muss mit den PS-Zahlen gefüllt werden:"
   ]
  },
  {
   "cell_type": "code",
   "execution_count": 19,
   "id": "artificial-resource",
   "metadata": {},
   "outputs": [],
   "source": [
    "X[:,1] = autos_ps_zahlen"
   ]
  },
  {
   "cell_type": "code",
   "execution_count": 20,
   "id": "iraqi-august",
   "metadata": {},
   "outputs": [
    {
     "data": {
      "text/plain": [
       "array([[2.0810e+04, 2.4200e+02],\n",
       "       [2.6895e+04, 1.6700e+02],\n",
       "       [6.9734e+04, 9.8000e+01],\n",
       "       [3.5837e+04, 6.8000e+01],\n",
       "       [5.3281e+04, 2.2700e+02],\n",
       "       [3.2979e+04, 1.3700e+02],\n",
       "       [8.3387e+04, 2.0600e+02],\n",
       "       [2.1249e+04, 2.2800e+02],\n",
       "       [1.0578e+04, 2.2600e+02],\n",
       "       [8.3684e+04, 2.1600e+02]])"
      ]
     },
     "execution_count": 20,
     "metadata": {},
     "output_type": "execute_result"
    }
   ],
   "source": [
    "X"
   ]
  },
  {
   "cell_type": "markdown",
   "id": "extra-requirement",
   "metadata": {},
   "source": [
    "NumPy benutzt hier bei der Ausgabe die wissenschaftliche `e+..`-Notation. Die liegt nicht jedem. Hier eine Möglichkeit diese zu unterdrücken:"
   ]
  },
  {
   "cell_type": "code",
   "execution_count": 21,
   "id": "rocky-choice",
   "metadata": {},
   "outputs": [
    {
     "data": {
      "text/plain": [
       "array([[20810.,   242.],\n",
       "       [26895.,   167.],\n",
       "       [69734.,    98.],\n",
       "       [35837.,    68.],\n",
       "       [53281.,   227.],\n",
       "       [32979.,   137.],\n",
       "       [83387.,   206.],\n",
       "       [21249.,   228.],\n",
       "       [10578.,   226.],\n",
       "       [83684.,   216.]])"
      ]
     },
     "execution_count": 21,
     "metadata": {},
     "output_type": "execute_result"
    }
   ],
   "source": [
    "np.set_printoptions(suppress=True)\n",
    "X"
   ]
  },
  {
   "cell_type": "markdown",
   "id": "interim-equity",
   "metadata": {},
   "source": [
    "Jetzt haben wir unser Eingabearray mit den beiden Eingabemerkmalen für die 10 Autos zusammen und können den linearen Zusammenhang zwischen den Eingaben *km-Stand* und *PS-Zahl* und dem Verkaufspreis eines Autos erlernen:"
   ]
  },
  {
   "cell_type": "code",
   "execution_count": 22,
   "id": "maritime-category",
   "metadata": {},
   "outputs": [],
   "source": [
    "linear_model = LinearRegression()\n",
    "\n",
    "reg = linear_model.fit(X, autos_preise)"
   ]
  },
  {
   "cell_type": "markdown",
   "id": "animal-journalist",
   "metadata": {},
   "source": [
    "Wir sind gespannt! Was schätzt unser lineares Modell nach dem *Lernen* für die multiplikativen Konstanten *a1*, *a2*?"
   ]
  },
  {
   "cell_type": "code",
   "execution_count": 23,
   "id": "expired-correlation",
   "metadata": {},
   "outputs": [
    {
     "data": {
      "text/plain": [
       "array([-0.29825864, 60.20947646])"
      ]
     },
     "execution_count": 23,
     "metadata": {},
     "output_type": "execute_result"
    }
   ],
   "source": [
    "reg.coef_"
   ]
  },
  {
   "cell_type": "markdown",
   "id": "documented-confidentiality",
   "metadata": {},
   "source": [
    "Nicht schlecht! Die tatsächlichen Werte waren -0.3 und 50.0, aber wir haben ja auch noch ein zufälliges Rauschen auf den Verkaufspreis addiert. Daher können wir die exakten Werte auch nicht erwarten.\n",
    "\n",
    "Und wie sieht es mit dem *Basispreis* *b* des Autos aus, das durch einen hohen km-Stand nach unten, bzw. durch einen hohe PS-Zahl nach oben  korrigiert wird?"
   ]
  },
  {
   "cell_type": "code",
   "execution_count": 24,
   "id": "detailed-pierre",
   "metadata": {},
   "outputs": [
    {
     "data": {
      "text/plain": [
       "48266.31014033347"
      ]
     },
     "execution_count": 24,
     "metadata": {},
     "output_type": "execute_result"
    }
   ],
   "source": [
    "reg.intercept_"
   ]
  },
  {
   "cell_type": "markdown",
   "id": "abandoned-festival",
   "metadata": {},
   "source": [
    "Passt auch sehr gut! Man kann also sehen, dass hier alleine auf Grund von 10 Beispielautos die originalen Koeffizienten gut rekonstruieren ließen. Der Hintergrund ist, dass dieses Machine Learning Modell hier, der *lineare Regressor* nur 3 Parameter hat (`a1`, `a2`, `b`). So ein einfaches Modell lässt sich bereits durch wenige Beispieldaten sinnvoll parametrisieren."
   ]
  },
  {
   "cell_type": "markdown",
   "id": "editorial-falls",
   "metadata": {},
   "source": [
    "# Grenzen der linearen Regression\n",
    "\n",
    "Was ist aber, wenn der zugrunde liegende Zusammenhang gar kein linearer Zusammenhang ist, wir trotzdem versuchen eine lineare Regressionsgerade zu erlernen?\n",
    "\n",
    "Oft gibt es nicht-lineare Zusammenhänge zwischen unabhängigen Variablen `x` und abhängigen Variablen `y=f(x)`. Bleiben wir bei unserem Autopreisbeispiel. Wir wissen intuitiv:\n",
    "\n",
    "- sehr alte Autos sind als Oldtimer teuer\n",
    "- Autos von ca. 15 Jahre alt, sind manchmal kurz davor kaputt zu gehen oder zumindestens Pannenanfälliger\n",
    "- sehr neue Autos sind als Neuwagen teuer\n",
    "\n",
    "Der Zusammenhang zwischen `x=Alter des Autos` und `f(x)=Verkaufspreis` könnte also in etwas so aussehen:"
   ]
  },
  {
   "cell_type": "code",
   "execution_count": 28,
   "id": "better-hurricane",
   "metadata": {},
   "outputs": [],
   "source": [
    "nr_bsp = 100\n",
    "\n",
    "autos_alter = np.random.randint( low=0, high=40, size=(nr_bsp,) )\n",
    "\n",
    "a = 100.0\n",
    "b = 50000\n",
    "autos_preise = [b + a*(alter-15)**2 for alter in autos_alter]\n",
    "\n",
    "rauschen = np.random.normal(loc=0, scale=1000.0, size=nr_bsp)\n",
    "#autos_preise += rauschen"
   ]
  },
  {
   "cell_type": "code",
   "execution_count": 29,
   "id": "retained-ordinary",
   "metadata": {},
   "outputs": [
    {
     "data": {
      "text/plain": [
       "[50900.0, 90000.0, 69600.0, 50100.0, 72500.0]"
      ]
     },
     "execution_count": 29,
     "metadata": {},
     "output_type": "execute_result"
    }
   ],
   "source": [
    "autos_preise[:5]"
   ]
  },
  {
   "cell_type": "code",
   "execution_count": 30,
   "id": "dirty-yacht",
   "metadata": {},
   "outputs": [
    {
     "data": {
      "image/png": "[encoded data removed]",
      "text/plain": [
       "<Figure size 432x288 with 1 Axes>"
      ]
     },
     "metadata": {
      "needs_background": "light"
     },
     "output_type": "display_data"
    }
   ],
   "source": [
    "from matplotlib import pyplot as plt\n",
    "\n",
    "plt.scatter(autos_alter, autos_preise)\n",
    "plt.title(\"Autopreis abhängig vom Alter\\n\", fontsize=14)\n",
    "plt.xlabel(\"\\nAlter\", fontsize=12)\n",
    "plt.ylabel(\"Preis in EUR\\n\", fontsize=12)\n",
    "plt.grid()\n",
    "plt.show()"
   ]
  },
  {
   "cell_type": "markdown",
   "id": "obvious-diary",
   "metadata": {},
   "source": [
    "So in etwa könnte der Zusammenhang zwischen dem Alter eines Autos und dem Preis ganz grob aussehen:\n",
    "\n",
    "* ein neues Auto kostet viel\n",
    "* ein Jahreswagen mit ein paar Jahren auf dem Buckel kostet schon deutlich weniger,\n",
    "  der Preis fällt dabei nicht-linear ab\n",
    "* ein Auto mit 15 Jahren ist ganz schön fehleranfällig und kostet am wenigsten\n",
    "* danach beginnt die \"Oldtimer\"-Zeit: der Preis steigt hier nicht-linear mit dem Alter\n",
    "\n",
    "Was heißt hier eigentlich *nicht-linear*? Es bedeutet, dass man den Zusammenhang zwischen dem Preis und dem Alter eines Autos nicht durch eine Gerade\n",
    "\n",
    "    Preis = b + a*Alter\n",
    "    \n",
    "beschreiben kann.\n",
    "\n",
    "Wir versuchen es trotzdem mal! Lassen Sie uns einfach mit der linearen Regression hier versuchen den Zusammenhang abzubilden und schauen wir, was rauskommt!"
   ]
  },
  {
   "cell_type": "code",
   "execution_count": 31,
   "id": "improving-prescription",
   "metadata": {},
   "outputs": [],
   "source": [
    "from sklearn.linear_model import LinearRegression\n",
    "\n",
    "linear_model = LinearRegression()\n",
    "\n",
    "reg = linear_model.fit(autos_alter.reshape(-1,1), autos_preise)"
   ]
  },
  {
   "cell_type": "markdown",
   "id": "educated-anime",
   "metadata": {},
   "source": [
    "Jetzt lassen wir unser frisch gelerntes lineares Regressionsmodell (es dampft noch!) gleich ein paar Prädiktionen für unterschiedliche Alter von Autos vornehmen:"
   ]
  },
  {
   "cell_type": "code",
   "execution_count": 32,
   "id": "correct-deviation",
   "metadata": {},
   "outputs": [],
   "source": [
    "test_alter = np.arange(0,40,1).reshape(-1,1)\n",
    "\n",
    "praedizierte_preise = linear_model.predict( test_alter )"
   ]
  },
  {
   "cell_type": "code",
   "execution_count": 34,
   "id": "dutch-shield",
   "metadata": {},
   "outputs": [
    {
     "data": {
      "text/plain": [
       "array([45960.14046883, 47016.73321337, 48073.3259579 , 49129.91870244,\n",
       "       50186.51144698, 51243.10419151, 52299.69693605, 53356.28968058,\n",
       "       54412.88242512, 55469.47516965])"
      ]
     },
     "execution_count": 34,
     "metadata": {},
     "output_type": "execute_result"
    }
   ],
   "source": [
    "praedizierte_preise[:10]"
   ]
  },
  {
   "cell_type": "markdown",
   "id": "silent-footwear",
   "metadata": {},
   "source": [
    "Am besten sehen wir das *Generalisierungsverhalten* des Modells, indem wir die Prädiktionen plotten:"
   ]
  },
  {
   "cell_type": "code",
   "execution_count": 35,
   "id": "northern-occasions",
   "metadata": {},
   "outputs": [
    {
     "data": {
      "image/png": "[encoded data removed]",
      "text/plain": [
       "<Figure size 432x288 with 1 Axes>"
      ]
     },
     "metadata": {
      "needs_background": "light"
     },
     "output_type": "display_data"
    }
   ],
   "source": [
    "from matplotlib import pyplot as plt\n",
    "\n",
    "plt.scatter(autos_alter, autos_preise)\n",
    "plt.title(\"Autopreis abhängig vom Alter\\n\", fontsize=14)\n",
    "plt.xlabel(\"\\nAlter\", fontsize=12)\n",
    "plt.ylabel(\"Preis in EUR\\n\", fontsize=12)\n",
    "\n",
    "# und jetzt auch noch die prädizierten Preise plotten\n",
    "plt.scatter(test_alter, praedizierte_preise, marker=\"+\", color=\"red\")\n",
    "\n",
    "plt.grid()\n",
    "plt.show()"
   ]
  },
  {
   "cell_type": "markdown",
   "id": "brutal-canal",
   "metadata": {},
   "source": [
    "Wir sehen schön das lineare Verhalten unseres linearen Modells. Mehr kann so ein Modell halt nicht. Es ist eben ein lineares Regressionsmodell und passt die Parameter einer Regressionsgerade so an die Trainingsdaten (`autos_alter`, `autos_preise`) an, dass der mittlere quadratische Abstand (*Mean Squared Error = MSE*) der blauen Punkte zur Regressionsgeraden minimal wird."
   ]
  },
  {
   "cell_type": "markdown",
   "id": "thick-leadership",
   "metadata": {},
   "source": [
    "# Lineare Regression über nicht-lineare Merkmalstransformation\n",
    "\n",
    "Aber wie können wir es besser machen, wenn wir einen nicht-linearen Zusammenhang - wie hier - bereits vermuten?\n",
    "\n",
    "Wir brauchen ein nicht-lineares, flexibleres, mächtigeres Modell, dass zum Beispiel beim Vorhandensein von zwei Merkmalen `x1`, `x2` den `y-Wert` als Polynom n-ten Grades Potenzen bis zum Grad n der Merkmalsvariablen `x1`, `x2` enthält:\n",
    "\n",
    "    y = a0 + a1*x1 + a2*x2 + a3*x1*x2 + a4*x1^2 + a5*x1^2\n",
    "    \n",
    "Hier ist also n=2. Und jetzt kommt der Trick! Wenn wir den Vektor von Eingabemerkmalen [`x1`, `x2`] auf\n",
    "\n",
    "    z =: [z1, z2, z3, z4, z5] =: [x1, x2, x1*x2, x1^2, x2^2]\n",
    "    \n",
    "erweitern, können wir wieder das Ganze wieder als ein lineares Modell auffassen:\n",
    "\n",
    "    y = a0 + a1*z1 + a2*z2 + a3*z3 + a4*z4 + a5*z5\n",
    "    \n",
    "Wir erweitern also einfach den Vektor der Eingabemerkmale und können dann ganz normal eine lineare Regression durchfführen. Das Gesamtmodell ist dann nicht-linear und besteht aus:\n",
    "\n",
    "* Erweiterung des Merkmalsvektors von [x1, x2] zu [x1, x2, x1*x2, x1^2, x2^2] := z\n",
    "und\n",
    "* Lineare Regression auf dem Merkmalsvektor `z`\n",
    "\n",
    "Anders gesagt: die nicht-lineare Transformation der eigentlichen beiden Eingabemerkmale erlaubt es insgesamt nicht-lineare Zusammenhänge über die klassische lineare Regression zu erlernen!"
   ]
  },
  {
   "cell_type": "markdown",
   "id": "pending-statistics",
   "metadata": {},
   "source": [
    "# Nicht-lineare Merkmalstransformation\n",
    "\n",
    "Glücklicherweise bietet scikit-learn wieder einmal eine hilfreiche Funktionalität namens `PolynomialFeatures` um bei gegebenen Merkmalen nicht-lineare Merkmalskombinationen (genauer: polynomielle Kombinationen) zu erlernen:"
   ]
  },
  {
   "cell_type": "code",
   "execution_count": 37,
   "id": "wired-tsunami",
   "metadata": {},
   "outputs": [
    {
     "data": {
      "text/plain": [
       "array([[0, 1],\n",
       "       [2, 3],\n",
       "       [4, 5]])"
      ]
     },
     "execution_count": 37,
     "metadata": {},
     "output_type": "execute_result"
    }
   ],
   "source": [
    "from sklearn.preprocessing import PolynomialFeatures\n",
    "import numpy as np\n",
    "X = np.arange(6).reshape(3, 2)\n",
    "X"
   ]
  },
  {
   "cell_type": "markdown",
   "id": "composite-village",
   "metadata": {},
   "source": [
    "Sagen wir mal `X` wären die eigentlichen Inputbeispiele. Wir hätten hier also drei Inputbeispiele. Das erste Inputbeispiel wäre z.B. `[x1=0, x2=1]` und das zweite Inputbeispiel `[x1=2, x2=3]`."
   ]
  },
  {
   "cell_type": "markdown",
   "id": "responsible-extra",
   "metadata": {},
   "source": [
    "Jetzt verwenden wir die Klasse `PolynomialFeatures` um aus der Matrix `X` eine neue Matrix `X2` zu machen, die dann aus folgenden Spalten besteht:\n",
    "\n",
    "    |1, x1, x2, x1^2, x1*x2, x2^2|"
   ]
  },
  {
   "cell_type": "code",
   "execution_count": 42,
   "id": "monthly-hampshire",
   "metadata": {},
   "outputs": [
    {
     "data": {
      "text/plain": [
       "array([[ 1.,  0.,  1.,  0.,  0.,  1.],\n",
       "       [ 1.,  2.,  3.,  4.,  6.,  9.],\n",
       "       [ 1.,  4.,  5., 16., 20., 25.]])"
      ]
     },
     "execution_count": 42,
     "metadata": {},
     "output_type": "execute_result"
    }
   ],
   "source": [
    "poly = PolynomialFeatures(degree=2)\n",
    "X2 = poly.fit_transform(X)\n",
    "X2"
   ]
  },
  {
   "cell_type": "markdown",
   "id": "dutch-stadium",
   "metadata": {},
   "source": [
    "Statt `X` werden wir jetzt im Folgenden `X2` einfach als Merkmalsmatrix für unser lineares Regressionsmodell verwenden."
   ]
  },
  {
   "cell_type": "markdown",
   "id": "individual-raising",
   "metadata": {},
   "source": [
    "# Lineare Regression mit polynomiellen Merkmalen\n",
    "\n",
    "Die Eingabemerkmale `X` waren ja nur ein Beispiel. Jetzt zurück zu unseren eigentlichen Eingabebeispielen, den Altersangaben der Autobeispiele:"
   ]
  },
  {
   "cell_type": "code",
   "execution_count": 43,
   "id": "failing-military",
   "metadata": {},
   "outputs": [
    {
     "data": {
      "text/plain": [
       "array([18, 35, 29, 16, 30, 32, 32, 21,  1, 28, 16, 37,  8, 33, 11, 26, 14,\n",
       "       38, 27, 39, 13,  5, 39,  6, 39,  7,  1, 38, 30, 16, 19, 27, 33, 19,\n",
       "       17,  0, 39, 34, 34, 34, 26, 28, 39,  1, 16, 12,  1, 19, 30, 36,  9,\n",
       "       39, 34, 37, 20, 39, 12,  8, 16,  4,  1, 30, 20, 13, 25, 32,  4, 13,\n",
       "       33, 19,  3, 32, 34, 19, 24, 14, 16, 15, 37, 31, 16, 31, 15, 29, 37,\n",
       "        0, 19,  7, 25, 28,  5, 18,  7,  1,  8, 27, 26, 31,  8,  9])"
      ]
     },
     "execution_count": 43,
     "metadata": {},
     "output_type": "execute_result"
    }
   ],
   "source": [
    "autos_alter"
   ]
  },
  {
   "cell_type": "code",
   "execution_count": 45,
   "id": "classified-chinese",
   "metadata": {},
   "outputs": [],
   "source": [
    "poly = PolynomialFeatures(degree=2)\n",
    "autos_alter2 = poly.fit_transform( autos_alter.reshape(-1,1) )"
   ]
  },
  {
   "cell_type": "code",
   "execution_count": 47,
   "id": "cardiovascular-somewhere",
   "metadata": {},
   "outputs": [
    {
     "data": {
      "text/plain": [
       "array([[   1.,   18.,  324.],\n",
       "       [   1.,   35., 1225.],\n",
       "       [   1.,   29.,  841.],\n",
       "       [   1.,   16.,  256.],\n",
       "       [   1.,   30.,  900.],\n",
       "       [   1.,   32., 1024.],\n",
       "       [   1.,   32., 1024.],\n",
       "       [   1.,   21.,  441.],\n",
       "       [   1.,    1.,    1.],\n",
       "       [   1.,   28.,  784.]])"
      ]
     },
     "execution_count": 47,
     "metadata": {},
     "output_type": "execute_result"
    }
   ],
   "source": [
    "autos_alter2[:10]"
   ]
  },
  {
   "cell_type": "markdown",
   "id": "sorted-closer",
   "metadata": {},
   "source": [
    "Wir sehen, dass aus Alter:\n",
    "\n",
    "    | 1, Alter, Alter^2 |\n",
    "    \n",
    "gemacht wurde.\n",
    "\n",
    "Die Schritte um einen linearen Regressor für die Schätzung des Autopreises auf Basis des Autoalters zu erlernen bleiben dann die gleichen:"
   ]
  },
  {
   "cell_type": "code",
   "execution_count": 52,
   "id": "crude-therapist",
   "metadata": {},
   "outputs": [],
   "source": [
    "linear_model_on_poly_features = LinearRegression()\n",
    "\n",
    "reg = linear_model_on_poly_features.fit(autos_alter2, autos_preise)"
   ]
  },
  {
   "cell_type": "markdown",
   "id": "another-macro",
   "metadata": {},
   "source": [
    "Da wir aus dem einen Merkmal künstlich drei gemacht haben, müssten auch drei Koeffizienten erlernt worden sein:"
   ]
  },
  {
   "cell_type": "code",
   "execution_count": 53,
   "id": "metropolitan-copyright",
   "metadata": {},
   "outputs": [
    {
     "data": {
      "text/plain": [
       "array([    0., -3000.,   100.])"
      ]
     },
     "execution_count": 53,
     "metadata": {},
     "output_type": "execute_result"
    }
   ],
   "source": [
    "reg.coef_"
   ]
  },
  {
   "cell_type": "code",
   "execution_count": 54,
   "id": "steady-navigator",
   "metadata": {},
   "outputs": [
    {
     "data": {
      "text/plain": [
       "72499.99999999985"
      ]
     },
     "execution_count": 54,
     "metadata": {},
     "output_type": "execute_result"
    }
   ],
   "source": [
    "reg.intercept_"
   ]
  },
  {
   "cell_type": "markdown",
   "id": "electrical-springer",
   "metadata": {},
   "source": [
    "Wir plotten jetzt mal wieder die Prädiktionen für einige Testbeispiele, um zu sehen, wie unser *lineares Regressionsmodell mit nicht-linearen polynomiellen Merkmalen* generalisiert."
   ]
  },
  {
   "cell_type": "code",
   "execution_count": 56,
   "id": "macro-external",
   "metadata": {},
   "outputs": [],
   "source": [
    "test_alter = np.arange(0,40,1).reshape(-1,1)\n",
    "\n",
    "# Nicht vergessen: Wir müssen auch die Testeingabebeispiele erweitern!\n",
    "test_alter2 = poly.transform( test_alter )\n",
    "\n",
    "praedizierte_preise = linear_model_on_poly_features.predict( test_alter2 )"
   ]
  },
  {
   "cell_type": "code",
   "execution_count": 58,
   "id": "stuck-noise",
   "metadata": {},
   "outputs": [
    {
     "data": {
      "text/plain": [
       "array([ 72500.,  69600.,  66900.,  64400.,  62100.,  60000.,  58100.,\n",
       "        56400.,  54900.,  53600.,  52500.,  51600.,  50900.,  50400.,\n",
       "        50100.,  50000.,  50100.,  50400.,  50900.,  51600.,  52500.,\n",
       "        53600.,  54900.,  56400.,  58100.,  60000.,  62100.,  64400.,\n",
       "        66900.,  69600.,  72500.,  75600.,  78900.,  82400.,  86100.,\n",
       "        90000.,  94100.,  98400., 102900., 107600.])"
      ]
     },
     "execution_count": 58,
     "metadata": {},
     "output_type": "execute_result"
    }
   ],
   "source": [
    "praedizierte_preise"
   ]
  },
  {
   "cell_type": "code",
   "execution_count": 59,
   "id": "outstanding-coupon",
   "metadata": {},
   "outputs": [
    {
     "data": {
      "image/png": "[encoded data removed]",
      "text/plain": [
       "<Figure size 432x288 with 1 Axes>"
      ]
     },
     "metadata": {
      "needs_background": "light"
     },
     "output_type": "display_data"
    }
   ],
   "source": [
    "plt.scatter(autos_alter, autos_preise)\n",
    "plt.title(\"Autopreis abhängig vom Alter\\n\", fontsize=14)\n",
    "plt.xlabel(\"\\nAlter\", fontsize=12)\n",
    "plt.ylabel(\"Preis in EUR\\n\", fontsize=12)\n",
    "\n",
    "# und jetzt auch noch die prädizierten Preise plotten\n",
    "plt.scatter(test_alter, praedizierte_preise, marker=\"+\", color=\"red\")\n",
    "\n",
    "plt.grid()\n",
    "plt.show()"
   ]
  },
  {
   "cell_type": "markdown",
   "id": "skilled-vinyl",
   "metadata": {},
   "source": [
    "Na das sieht doch schon anders aus!\n",
    "\n",
    "Das Gesamtmodell hat es geschafft den nicht-linearen Zusammenhang zwischen Alter und Preis anhand der Trainingsdaten zu erkennen."
   ]
  }
 ],
 "metadata": {
  "kernelspec": {
   "display_name": "Python 3",
   "language": "python",
   "name": "python3"
  },
  "language_info": {
   "codemirror_mode": {
    "name": "ipython",
    "version": 3
   },
   "file_extension": ".py",
   "mimetype": "text/x-python",
   "name": "python",
   "nbconvert_exporter": "python",
   "pygments_lexer": "ipython3",
   "version": "3.8.5"
  }
 },
 "nbformat": 4,
 "nbformat_minor": 5
}
