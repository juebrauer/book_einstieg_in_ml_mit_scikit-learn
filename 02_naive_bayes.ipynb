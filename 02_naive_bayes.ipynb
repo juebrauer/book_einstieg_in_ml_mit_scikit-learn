{
 "cells": [
  {
   "cell_type": "markdown",
   "id": "coordinate-kruger",
   "metadata": {},
   "source": [
    "# Einleitung: Der Naive Bayes Klassifikator\n",
    "\n",
    "Der Naive Bayes Klassifikator ist einer der einfachsten Werkzeuge des Maschinellen Lernens, wenn es darum geht, irgendwelche einkommenden Daten zu klassifizieren, z.B.:\n",
    "\n",
    "- Ist eine eingehende eMail eine Spam-Email? (Klassifizierung Spam: ja/nein)\n",
    "- Wird der Kunde aufgrund seines Einkaufsverhaltens in meinem Webshop wieder bei mir einkaufen? (Klassifizierung: Wiedereinkaufen: ja/nein)\n",
    "- Chatbot: Um welches Thema geht es dem Kunden bei einer Anfrage? (Klassifizierung: z.B. Adressänderung / Beschwerde / Technisches Problem)"
   ]
  },
  {
   "cell_type": "markdown",
   "id": "jewish-couple",
   "metadata": {},
   "source": [
    "# Mathematik des Naiven Bayes (NB) Klassifikators\n",
    "\n",
    "Sie müssen diesen Abschnitt nicht verstehen, aber für diejenigen, die die mathematischen Hintergründe hinter dem NB-Klassifkator interessieren, möchte ich diese auch nicht vorenthalten.\n",
    "\n",
    "Falls Sie Mathematik in der Oberstufe hatten oder Sie haben mal als Student eine Vorlesung zum Thema Wahrscheinlichkeitsrechnung besucht, dann erinnern Sie sich vielleicht noch an den *Satz von Bayes*:\n",
    "\n",
    "                P(B|A) * P(A)\n",
    "    P(A|B) =  -----------------\n",
    "                     P(B)\n",
    "\n",
    "Klingt abstrakt, oder? Die einzelnen Termine in dieser Formel haben auch Namen:\n",
    "\n",
    "* P(A|B) und P(B|A) werden *bedingte Wahrscheinlichkeiten* genannt\n",
    "* P(A) und P(B) werden *a-priori Wahrscheinlichkeiten* genannt\n",
    "* A und B werden in der Wahrscheinlichkeitsrechnung *Ereignisse* genannt\n",
    "\n",
    "Machen wir es mal konkret:\n",
    "* A soll das Ereignis sein, dass eine eingehende eMail eine Spam-eMail ist\n",
    "* B soll das Ereignis sein, dass in der eingehenden eMail das Wort \"Kaufen\" vorkommt\n",
    "\n",
    "Jetzt kommt eine neue eMail mit dem Wort \"Kaufen\" im eMail-Text rein. Ein Spam-Filter muss dann die Frage beantworten: Ist dies eine Spam-eMail?\n",
    "\n",
    "Dazu wird die bedingte Wahrscheinlichkeit P(A|B) ausgerechnet, denn das ist genau die Wahrscheinlichkeit, dass eine eingehende eMail eine Spam-eMail ist unter der Voraussetzung, dass das Wort \"Kaufen\" detektiert wurde.\n",
    "\n",
    "Der Satz von Bayes sagt uns, dass wir diese Wahrscheinlichkeit jetzt auch so ausrechnen können:\n",
    "\n",
    "* wir schätzen die a-priori Wahrscheinlichkeit P(A) ab, indem wir z.B. ausrechnen, wie häufig in einem Beispieldatensatz von eMails Spam-eMails enthalten sind\n",
    "* wir schätzen die a-priori Wahrscheinlichkeit P(B) ab, indem wir uns wieder einen Beispieldatensatz von eMails anschauen und die Anzahl von eMails zählen, in denen das Wort \"Kaufen\" vorkommt\n",
    "* wir schätzen die bedingte Wahrscheinlichkeit P(B|A) ab, indem wir in unserem Beispieldatensatz von eMails zählen, wie oft eine eMail, die definitiv eine Spam-eMail war, auch das Wort \"Kaufen\" enthielt\n",
    "\n",
    "Dann haben wir alle 3 Terme für den rechten Teil des *Satzes von Bayes* und können die Wahrscheinlichkeit, dass eine eingehende eMail mit dem Wort \"Kaufen\" eine Spam eMail ist, abschätzen.\n",
    "\n",
    "Jetzt ist eine Entscheidung, ob eine eMail eine Spam eMail ist auf Basis von nur einem Wort sicherlich nicht ratsam. Den Satz von Bayes gibt es aber auch für mehrere Ereignisse (bzw. hier: Wörter) *B1, B2, ..., Bn*:\n",
    "\n",
    "\n",
    "                            P(B1,B2, ..., Bn|A) * P(A)\n",
    "    P(A|B1,B2,....,Bn) =  ----------------------------\n",
    "                                 P(B1,B2, ..., Bn)\n",
    "                                 \n",
    "Um das Ganze formelmäßig zu vereinfachen, macht der *Naive Bayes Klassifikator* jetzt eine *naive Annahme*, die in der Welt so meistens nicht stimmt: er sagt, dass die Wörter (Merkmale) B1,B2,...,Bn unabhängig voneinander betrachtet werden können:\n",
    "\n",
    "    \n",
    "                            P(B1|A) * P(B2|A) * ... * P(Bn|A) * P(A)\n",
    "    P(A|B1,B2,....,Bn) =  ------------------------------------------\n",
    "                                       P(B1,B2, ..., Bn)\n",
    "                                       \n",
    "Außerdem hängt der Wert P(B1,B2, ..., Bn) im Nenner ja nicht von A ab, so dass der *Naive Bayes Klassifikator* \"sagt\": ob es eine Spam-eMail ist (A) oder nicht (^A) kann ich einfach entscheiden, indem ich schaue, welcher Wert größer ist:\n",
    "\n",
    "    \n",
    "                            \n",
    "    P(A=eMail ist Spam|B1,B2,....,Bn) = \n",
    "                                   c * P(B1|A)* P(B2|A) * ... * P(Bn|A) * P(A)\n",
    "    \n",
    "    oder\n",
    "    \n",
    "    P(^A=eMail ist KEIN Spam|B1,B2,....,Bn) =\n",
    "                                   c * P(B1|^A) * P(B2|^A) * ... * P(Bn|^A) * P(^A)\n",
    "\n",
    "wobei c:=1/P(B1,B2, ..., Bn) nur eine Konstante ist und daher zum Vergleich welcher Wert größer ist nicht vorliegen muss."
   ]
  },
  {
   "cell_type": "markdown",
   "id": "bored-telephone",
   "metadata": {},
   "source": [
    "# Wahrscheinlichkeitsverteilungen\n",
    "\n",
    "Der Kern beim *Naiven Bayes Klassifikator* ist also das Schätzen der Wahrscheinlichkeiten P(B1|A), P(B2|A), etc. Doch was hier mit lauter \"P\"s schön mathematisch korrekt beschrieben ist, muss bei einer Implementierung im Computer konkretisiert werden. Man kann zur Modellierung von Wahrscheinlichkeiten diskrete Wahrscheinlichkeitswerte nehmen, oder aber auch, eine Wahrscheinlichkeitsverteilung zugrunde legen.\n",
    "\n",
    "In scikit-learn sind es gleich mehrere Wahrscheinlichkeitsverteilungen, die sie auswählen können, z.B:\n",
    "\n",
    "* Normalverteilung (\"Gauß-Glocke\") ==> [GaussianNB](https://scikit-learn.org/stable/modules/generated/sklearn.naive_bayes.GaussianNB.html)\n",
    "* Multinomiale Verteilung ==> [MultinomialNB](https://scikit-learn.org/stable/modules/generated/sklearn.naive_bayes.MultinomialNB.html#sklearn.naive_bayes.MultinomialNB)\n",
    "* Bernoulli Verteilung ==> [BernoulliNB](https://scikit-learn.org/stable/modules/naive_bayes.html#bernoulli-naive-bayes)"
   ]
  },
  {
   "cell_type": "markdown",
   "id": "annual-giant",
   "metadata": {},
   "source": [
    "# Datensatzauswahl\n",
    "\n",
    "Wir wollen jetzt mal mit einem *Naive Bayes Klassifikator* ein Klassifikationsproblem beispielhaft lösen.\n",
    "\n",
    "Dazu brauchen wir ein Klassifikationsproblem bzw. einen Datensatz. Ein sehr interessanter Datensatz ist der *Titanic Datensatz*.\n",
    "\n",
    "Am 14. April 1912 gegen 23:40 Uhr kam es zu einer der berühmtesten Katastrophen der Seefahrt. Die *RMS Titanic* der britischen Reederei *White Star Line* kollidierte auf Ihrer Jungfernfahrt 300 Seemeilen vor Neufundland nach einer Kollision mit einem Eisberg und sank ca. zwei Stunden und 40 Minuten später. Bei dem Unglück kamen leider 1514 der über 2200 Personen an Bord ums Leben.\n",
    "\n",
    "Der (relativ kleine) Datensatz, der auf der sehr hilfreichen Datensatzwebseite [*Kaggle*](https://www.kaggle.com/) zur Verfügung steht, enthält nun einige Informationen zu diesen Passagieren, insbesondere, ob der Passagier überlebte oder nicht.\n",
    "\n",
    "Damit stellt sich die Frage: gibt es hier in den Daten irgendwelche Muster, die es erlauben, für Testpassagiere vorherzusagen ob sie überleben oder nicht? Oder anders formuliert: Können wir nur auf Basis der Informationen über den Passagier seine Klasse *Überlebender* vs. *Nicht Überlebender* klassifizieren? "
   ]
  },
  {
   "cell_type": "markdown",
   "id": "normal-crash",
   "metadata": {},
   "source": [
    "# Datensatz einlesen\n",
    "\n",
    "Lesen wir erstmal den Datensatz mittels der Python-Bibliothek *Pandas* ein.\n",
    "\n",
    "Hinweis: Installieren Sie das Softwarepaket *Anaconda*. Es erlaubt Ihnen dann sehr komfortabel Umgebungen mit verschiedenen Python-Paketen zu verwalten und neue Pakete mittels des Befehls\n",
    "\n",
    "`conda install <paketname>`\n",
    "\n",
    "zu installieren. Sie können die Python-Bibliohtke Pandas zur Arbeit mit Tabellendaten zum Beispiel mittels\n",
    "\n",
    "`conda install pandas`\n",
    "\n",
    "rasch auf Ihrem Computer installieren.\n",
    "\n",
    "Folgender Python-Code liest nun die Trainingsdaten des *Titanic* Datensatzes ein:"
   ]
  },
  {
   "cell_type": "code",
   "execution_count": 1,
   "id": "specified-astrology",
   "metadata": {},
   "outputs": [],
   "source": [
    "import pandas as pd\n",
    "\n",
    "fname = \"daten/01_titanic/train.csv\"\n",
    "df_train = pd.read_csv( fname )"
   ]
  },
  {
   "cell_type": "markdown",
   "id": "oriented-housing",
   "metadata": {},
   "source": [
    "Schauen wir uns mal die eingelesene Tabelle an:"
   ]
  },
  {
   "cell_type": "code",
   "execution_count": 2,
   "id": "positive-spanking",
   "metadata": {},
   "outputs": [
    {
     "data": {
      "text/html": [
       "<div>\n",
       "<style scoped>\n",
       "    .dataframe tbody tr th:only-of-type {\n",
       "        vertical-align: middle;\n",
       "    }\n",
       "\n",
       "    .dataframe tbody tr th {\n",
       "        vertical-align: top;\n",
       "    }\n",
       "\n",
       "    .dataframe thead th {\n",
       "        text-align: right;\n",
       "    }\n",
       "</style>\n",
       "<table border=\"1\" class=\"dataframe\">\n",
       "  <thead>\n",
       "    <tr style=\"text-align: right;\">\n",
       "      <th></th>\n",
       "      <th>PassengerId</th>\n",
       "      <th>Survived</th>\n",
       "      <th>Pclass</th>\n",
       "      <th>Name</th>\n",
       "      <th>Sex</th>\n",
       "      <th>Age</th>\n",
       "      <th>SibSp</th>\n",
       "      <th>Parch</th>\n",
       "      <th>Ticket</th>\n",
       "      <th>Fare</th>\n",
       "      <th>Cabin</th>\n",
       "      <th>Embarked</th>\n",
       "    </tr>\n",
       "  </thead>\n",
       "  <tbody>\n",
       "    <tr>\n",
       "      <th>0</th>\n",
       "      <td>1</td>\n",
       "      <td>0</td>\n",
       "      <td>3</td>\n",
       "      <td>Braund, Mr. Owen Harris</td>\n",
       "      <td>male</td>\n",
       "      <td>22.0</td>\n",
       "      <td>1</td>\n",
       "      <td>0</td>\n",
       "      <td>A/5 21171</td>\n",
       "      <td>7.2500</td>\n",
       "      <td>NaN</td>\n",
       "      <td>S</td>\n",
       "    </tr>\n",
       "    <tr>\n",
       "      <th>1</th>\n",
       "      <td>2</td>\n",
       "      <td>1</td>\n",
       "      <td>1</td>\n",
       "      <td>Cumings, Mrs. John Bradley (Florence Briggs Th...</td>\n",
       "      <td>female</td>\n",
       "      <td>38.0</td>\n",
       "      <td>1</td>\n",
       "      <td>0</td>\n",
       "      <td>PC 17599</td>\n",
       "      <td>71.2833</td>\n",
       "      <td>C85</td>\n",
       "      <td>C</td>\n",
       "    </tr>\n",
       "    <tr>\n",
       "      <th>2</th>\n",
       "      <td>3</td>\n",
       "      <td>1</td>\n",
       "      <td>3</td>\n",
       "      <td>Heikkinen, Miss. Laina</td>\n",
       "      <td>female</td>\n",
       "      <td>26.0</td>\n",
       "      <td>0</td>\n",
       "      <td>0</td>\n",
       "      <td>STON/O2. 3101282</td>\n",
       "      <td>7.9250</td>\n",
       "      <td>NaN</td>\n",
       "      <td>S</td>\n",
       "    </tr>\n",
       "    <tr>\n",
       "      <th>3</th>\n",
       "      <td>4</td>\n",
       "      <td>1</td>\n",
       "      <td>1</td>\n",
       "      <td>Futrelle, Mrs. Jacques Heath (Lily May Peel)</td>\n",
       "      <td>female</td>\n",
       "      <td>35.0</td>\n",
       "      <td>1</td>\n",
       "      <td>0</td>\n",
       "      <td>113803</td>\n",
       "      <td>53.1000</td>\n",
       "      <td>C123</td>\n",
       "      <td>S</td>\n",
       "    </tr>\n",
       "    <tr>\n",
       "      <th>4</th>\n",
       "      <td>5</td>\n",
       "      <td>0</td>\n",
       "      <td>3</td>\n",
       "      <td>Allen, Mr. William Henry</td>\n",
       "      <td>male</td>\n",
       "      <td>35.0</td>\n",
       "      <td>0</td>\n",
       "      <td>0</td>\n",
       "      <td>373450</td>\n",
       "      <td>8.0500</td>\n",
       "      <td>NaN</td>\n",
       "      <td>S</td>\n",
       "    </tr>\n",
       "    <tr>\n",
       "      <th>...</th>\n",
       "      <td>...</td>\n",
       "      <td>...</td>\n",
       "      <td>...</td>\n",
       "      <td>...</td>\n",
       "      <td>...</td>\n",
       "      <td>...</td>\n",
       "      <td>...</td>\n",
       "      <td>...</td>\n",
       "      <td>...</td>\n",
       "      <td>...</td>\n",
       "      <td>...</td>\n",
       "      <td>...</td>\n",
       "    </tr>\n",
       "    <tr>\n",
       "      <th>886</th>\n",
       "      <td>887</td>\n",
       "      <td>0</td>\n",
       "      <td>2</td>\n",
       "      <td>Montvila, Rev. Juozas</td>\n",
       "      <td>male</td>\n",
       "      <td>27.0</td>\n",
       "      <td>0</td>\n",
       "      <td>0</td>\n",
       "      <td>211536</td>\n",
       "      <td>13.0000</td>\n",
       "      <td>NaN</td>\n",
       "      <td>S</td>\n",
       "    </tr>\n",
       "    <tr>\n",
       "      <th>887</th>\n",
       "      <td>888</td>\n",
       "      <td>1</td>\n",
       "      <td>1</td>\n",
       "      <td>Graham, Miss. Margaret Edith</td>\n",
       "      <td>female</td>\n",
       "      <td>19.0</td>\n",
       "      <td>0</td>\n",
       "      <td>0</td>\n",
       "      <td>112053</td>\n",
       "      <td>30.0000</td>\n",
       "      <td>B42</td>\n",
       "      <td>S</td>\n",
       "    </tr>\n",
       "    <tr>\n",
       "      <th>888</th>\n",
       "      <td>889</td>\n",
       "      <td>0</td>\n",
       "      <td>3</td>\n",
       "      <td>Johnston, Miss. Catherine Helen \"Carrie\"</td>\n",
       "      <td>female</td>\n",
       "      <td>NaN</td>\n",
       "      <td>1</td>\n",
       "      <td>2</td>\n",
       "      <td>W./C. 6607</td>\n",
       "      <td>23.4500</td>\n",
       "      <td>NaN</td>\n",
       "      <td>S</td>\n",
       "    </tr>\n",
       "    <tr>\n",
       "      <th>889</th>\n",
       "      <td>890</td>\n",
       "      <td>1</td>\n",
       "      <td>1</td>\n",
       "      <td>Behr, Mr. Karl Howell</td>\n",
       "      <td>male</td>\n",
       "      <td>26.0</td>\n",
       "      <td>0</td>\n",
       "      <td>0</td>\n",
       "      <td>111369</td>\n",
       "      <td>30.0000</td>\n",
       "      <td>C148</td>\n",
       "      <td>C</td>\n",
       "    </tr>\n",
       "    <tr>\n",
       "      <th>890</th>\n",
       "      <td>891</td>\n",
       "      <td>0</td>\n",
       "      <td>3</td>\n",
       "      <td>Dooley, Mr. Patrick</td>\n",
       "      <td>male</td>\n",
       "      <td>32.0</td>\n",
       "      <td>0</td>\n",
       "      <td>0</td>\n",
       "      <td>370376</td>\n",
       "      <td>7.7500</td>\n",
       "      <td>NaN</td>\n",
       "      <td>Q</td>\n",
       "    </tr>\n",
       "  </tbody>\n",
       "</table>\n",
       "<p>891 rows × 12 columns</p>\n",
       "</div>"
      ],
      "text/plain": [
       "     PassengerId  Survived  Pclass  \\\n",
       "0              1         0       3   \n",
       "1              2         1       1   \n",
       "2              3         1       3   \n",
       "3              4         1       1   \n",
       "4              5         0       3   \n",
       "..           ...       ...     ...   \n",
       "886          887         0       2   \n",
       "887          888         1       1   \n",
       "888          889         0       3   \n",
       "889          890         1       1   \n",
       "890          891         0       3   \n",
       "\n",
       "                                                  Name     Sex   Age  SibSp  \\\n",
       "0                              Braund, Mr. Owen Harris    male  22.0      1   \n",
       "1    Cumings, Mrs. John Bradley (Florence Briggs Th...  female  38.0      1   \n",
       "2                               Heikkinen, Miss. Laina  female  26.0      0   \n",
       "3         Futrelle, Mrs. Jacques Heath (Lily May Peel)  female  35.0      1   \n",
       "4                             Allen, Mr. William Henry    male  35.0      0   \n",
       "..                                                 ...     ...   ...    ...   \n",
       "886                              Montvila, Rev. Juozas    male  27.0      0   \n",
       "887                       Graham, Miss. Margaret Edith  female  19.0      0   \n",
       "888           Johnston, Miss. Catherine Helen \"Carrie\"  female   NaN      1   \n",
       "889                              Behr, Mr. Karl Howell    male  26.0      0   \n",
       "890                                Dooley, Mr. Patrick    male  32.0      0   \n",
       "\n",
       "     Parch            Ticket     Fare Cabin Embarked  \n",
       "0        0         A/5 21171   7.2500   NaN        S  \n",
       "1        0          PC 17599  71.2833   C85        C  \n",
       "2        0  STON/O2. 3101282   7.9250   NaN        S  \n",
       "3        0            113803  53.1000  C123        S  \n",
       "4        0            373450   8.0500   NaN        S  \n",
       "..     ...               ...      ...   ...      ...  \n",
       "886      0            211536  13.0000   NaN        S  \n",
       "887      0            112053  30.0000   B42        S  \n",
       "888      2        W./C. 6607  23.4500   NaN        S  \n",
       "889      0            111369  30.0000  C148        C  \n",
       "890      0            370376   7.7500   NaN        Q  \n",
       "\n",
       "[891 rows x 12 columns]"
      ]
     },
     "execution_count": 2,
     "metadata": {},
     "output_type": "execute_result"
    }
   ],
   "source": [
    "df_train"
   ]
  },
  {
   "cell_type": "markdown",
   "id": "sound-method",
   "metadata": {},
   "source": [
    "Es wurden nur die ersten fünf und die letzten fünf Zeilen der Tabelle ausgegeben, da es sehr viele sind: insgesamt 891 Zeilen. Wir bekommen aber einen ersten Eindruck für die Daten. Ein guter Datensatz auf der Datensatzwebseite *Kaggle* hat auch eine gute Beschreibung der Bedeutung (Semantik) der Daten hinterlegt. Dies ist für diesen kleineren Datensatz der Fall. Sie können die genaue Beschreibung der einzelnen Spalten der Tabelle unter\n",
    "\n",
    "https://www.kaggle.com/c/titanic/data\n",
    "\n",
    "nachlesen.\n",
    "\n",
    "Greifen wir uns zum Beispiel mal die erste Zeile (d.h. den ersten Passagier) raus:"
   ]
  },
  {
   "cell_type": "code",
   "execution_count": 3,
   "id": "meaning-robin",
   "metadata": {},
   "outputs": [
    {
     "data": {
      "text/plain": [
       "PassengerId                          1\n",
       "Survived                             0\n",
       "Pclass                               3\n",
       "Name           Braund, Mr. Owen Harris\n",
       "Sex                               male\n",
       "Age                              22.00\n",
       "SibSp                                1\n",
       "Parch                                0\n",
       "Ticket                       A/5 21171\n",
       "Fare                              7.25\n",
       "Cabin                              NaN\n",
       "Embarked                             S\n",
       "Name: 0, dtype: object"
      ]
     },
     "execution_count": 3,
     "metadata": {},
     "output_type": "execute_result"
    }
   ],
   "source": [
    "df_train.iloc[0]"
   ]
  },
  {
   "cell_type": "markdown",
   "id": "saved-experiment",
   "metadata": {},
   "source": [
    "Der männliche Passagier *Mr. Braund* mit der ID 1 hat leider nicht überlebt. Er hatte ein Ticket für die Passagierklasse 3. Er war 22 Jahre alt und hatte Familie (*SibSp=1* = Siblings or Spouses = Geschwister oder Eheparter) mit an Bord, aber keine Eltern oder Kinder (*Parch=0* = Parents or Children). Der Ticketpreis war 7.25, was auch immer die Währung war. Er stieg auf die Titanic in Southampton (C = Cherbourg, Q = Queenstown, S = Southampton).\n",
    "\n",
    "Welche Kabine *Mr. Braund* hatte, ist in dem Datensatz nicht festgehalten: *NaN* steht in den Tabellendaten für Lücken. So sind sie halt, die realen Daten! Es gibt oft Datenlücken und damit muss man in der Vorbereitung für das Machine Learning auch irgendwie umgehen, z.B.\n",
    "\n",
    "* Spalten (Merkmale) entfernen, in denen es auch nur einen fehlenden Eintrag gibt.<br>\n",
    "  Nachteil: weniger Inputs zur Verfügung.\n",
    "\n",
    "* Zeilen (hier: Passagiere) entfernen, wenn es irgendwo eine Spalte mit einem fehlerhaften Eintrag bit.<br>\n",
    "  Nachteil: weniger Beispieldaten (Beispielpassagiere) stehen für das Training zur Verfügung\n",
    "  \n",
    "* Lücken auf sinnvolle Werte setzen, z.B. auf 0<br>\n",
    "  Nachteil: Gefährlich für das Machine Learning: ein fehlender Wert ist was anderes als ein konkreter Wert\n",
    "\n",
    "* Lücken durch andere Datensätze ergänzen: gibt es eine ergänzende oder bessere Datenquelle, in der die Lücke nicht da ist?<br>\n",
    "  Nachteil: Es kann aufwändig sein, solche ergänzenden Datenquellen zu finden.\n",
    "  \n",
    "* Lücken durch benachbarte Werte interpolieren<br>\n",
    "  Nachteil: Gefährlich für das Machine Learning: Interpolierte Werte sind oft spekulative Werte.\n",
    "\n"
   ]
  },
  {
   "cell_type": "markdown",
   "id": "interim-frontier",
   "metadata": {},
   "source": [
    "# Auswahl von Inputmerkmalen\n",
    "\n",
    "Von den vorhandenen Daten wollen wir jetzt einige auswählen. Lassen Sie uns einfach mal versuchen: kann ein *Naive Bayes Klassifikator* vielleicht nur auf Basis der beiden Merkmale:\n",
    "\n",
    "* Alter\n",
    "* Passagierklasse\n",
    "\n",
    "vorhersagen, ob ein Passagier überlebt hat?"
   ]
  },
  {
   "cell_type": "code",
   "execution_count": 4,
   "id": "comparable-champion",
   "metadata": {},
   "outputs": [],
   "source": [
    "df_train_small = df_train[ [\"Age\", \"Pclass\", \"Survived\"] ]"
   ]
  },
  {
   "cell_type": "code",
   "execution_count": 5,
   "id": "grave-davis",
   "metadata": {},
   "outputs": [
    {
     "data": {
      "text/html": [
       "<div>\n",
       "<style scoped>\n",
       "    .dataframe tbody tr th:only-of-type {\n",
       "        vertical-align: middle;\n",
       "    }\n",
       "\n",
       "    .dataframe tbody tr th {\n",
       "        vertical-align: top;\n",
       "    }\n",
       "\n",
       "    .dataframe thead th {\n",
       "        text-align: right;\n",
       "    }\n",
       "</style>\n",
       "<table border=\"1\" class=\"dataframe\">\n",
       "  <thead>\n",
       "    <tr style=\"text-align: right;\">\n",
       "      <th></th>\n",
       "      <th>Age</th>\n",
       "      <th>Pclass</th>\n",
       "      <th>Survived</th>\n",
       "    </tr>\n",
       "  </thead>\n",
       "  <tbody>\n",
       "    <tr>\n",
       "      <th>0</th>\n",
       "      <td>22.0</td>\n",
       "      <td>3</td>\n",
       "      <td>0</td>\n",
       "    </tr>\n",
       "    <tr>\n",
       "      <th>1</th>\n",
       "      <td>38.0</td>\n",
       "      <td>1</td>\n",
       "      <td>1</td>\n",
       "    </tr>\n",
       "    <tr>\n",
       "      <th>2</th>\n",
       "      <td>26.0</td>\n",
       "      <td>3</td>\n",
       "      <td>1</td>\n",
       "    </tr>\n",
       "    <tr>\n",
       "      <th>3</th>\n",
       "      <td>35.0</td>\n",
       "      <td>1</td>\n",
       "      <td>1</td>\n",
       "    </tr>\n",
       "    <tr>\n",
       "      <th>4</th>\n",
       "      <td>35.0</td>\n",
       "      <td>3</td>\n",
       "      <td>0</td>\n",
       "    </tr>\n",
       "    <tr>\n",
       "      <th>...</th>\n",
       "      <td>...</td>\n",
       "      <td>...</td>\n",
       "      <td>...</td>\n",
       "    </tr>\n",
       "    <tr>\n",
       "      <th>886</th>\n",
       "      <td>27.0</td>\n",
       "      <td>2</td>\n",
       "      <td>0</td>\n",
       "    </tr>\n",
       "    <tr>\n",
       "      <th>887</th>\n",
       "      <td>19.0</td>\n",
       "      <td>1</td>\n",
       "      <td>1</td>\n",
       "    </tr>\n",
       "    <tr>\n",
       "      <th>888</th>\n",
       "      <td>NaN</td>\n",
       "      <td>3</td>\n",
       "      <td>0</td>\n",
       "    </tr>\n",
       "    <tr>\n",
       "      <th>889</th>\n",
       "      <td>26.0</td>\n",
       "      <td>1</td>\n",
       "      <td>1</td>\n",
       "    </tr>\n",
       "    <tr>\n",
       "      <th>890</th>\n",
       "      <td>32.0</td>\n",
       "      <td>3</td>\n",
       "      <td>0</td>\n",
       "    </tr>\n",
       "  </tbody>\n",
       "</table>\n",
       "<p>891 rows × 3 columns</p>\n",
       "</div>"
      ],
      "text/plain": [
       "      Age  Pclass  Survived\n",
       "0    22.0       3         0\n",
       "1    38.0       1         1\n",
       "2    26.0       3         1\n",
       "3    35.0       1         1\n",
       "4    35.0       3         0\n",
       "..    ...     ...       ...\n",
       "886  27.0       2         0\n",
       "887  19.0       1         1\n",
       "888   NaN       3         0\n",
       "889  26.0       1         1\n",
       "890  32.0       3         0\n",
       "\n",
       "[891 rows x 3 columns]"
      ]
     },
     "execution_count": 5,
     "metadata": {},
     "output_type": "execute_result"
    }
   ],
   "source": [
    "df_train_small"
   ]
  },
  {
   "cell_type": "markdown",
   "id": "hundred-milton",
   "metadata": {},
   "source": [
    "Die Tabelle hat jetzt nur noch 3 Spalten. Die letzte Spalte *Survived* ist nachher diejenige, die wir vorhersagen wollen: unser Klassifikationsergebnis. Aber schon hier sehen wir bei Passagier 888 eine Datenlücke. Wir versuchen mal einen Überblick über die Datenlücken zu bekommen:"
   ]
  },
  {
   "cell_type": "code",
   "execution_count": 6,
   "id": "apparent-treat",
   "metadata": {},
   "outputs": [
    {
     "data": {
      "text/html": [
       "<div>\n",
       "<style scoped>\n",
       "    .dataframe tbody tr th:only-of-type {\n",
       "        vertical-align: middle;\n",
       "    }\n",
       "\n",
       "    .dataframe tbody tr th {\n",
       "        vertical-align: top;\n",
       "    }\n",
       "\n",
       "    .dataframe thead th {\n",
       "        text-align: right;\n",
       "    }\n",
       "</style>\n",
       "<table border=\"1\" class=\"dataframe\">\n",
       "  <thead>\n",
       "    <tr style=\"text-align: right;\">\n",
       "      <th></th>\n",
       "      <th>Age</th>\n",
       "      <th>Pclass</th>\n",
       "      <th>Survived</th>\n",
       "    </tr>\n",
       "  </thead>\n",
       "  <tbody>\n",
       "    <tr>\n",
       "      <th>count</th>\n",
       "      <td>714.000000</td>\n",
       "      <td>891.000000</td>\n",
       "      <td>891.000000</td>\n",
       "    </tr>\n",
       "    <tr>\n",
       "      <th>mean</th>\n",
       "      <td>29.699118</td>\n",
       "      <td>2.308642</td>\n",
       "      <td>0.383838</td>\n",
       "    </tr>\n",
       "    <tr>\n",
       "      <th>std</th>\n",
       "      <td>14.526497</td>\n",
       "      <td>0.836071</td>\n",
       "      <td>0.486592</td>\n",
       "    </tr>\n",
       "    <tr>\n",
       "      <th>min</th>\n",
       "      <td>0.420000</td>\n",
       "      <td>1.000000</td>\n",
       "      <td>0.000000</td>\n",
       "    </tr>\n",
       "    <tr>\n",
       "      <th>25%</th>\n",
       "      <td>20.125000</td>\n",
       "      <td>2.000000</td>\n",
       "      <td>0.000000</td>\n",
       "    </tr>\n",
       "    <tr>\n",
       "      <th>50%</th>\n",
       "      <td>28.000000</td>\n",
       "      <td>3.000000</td>\n",
       "      <td>0.000000</td>\n",
       "    </tr>\n",
       "    <tr>\n",
       "      <th>75%</th>\n",
       "      <td>38.000000</td>\n",
       "      <td>3.000000</td>\n",
       "      <td>1.000000</td>\n",
       "    </tr>\n",
       "    <tr>\n",
       "      <th>max</th>\n",
       "      <td>80.000000</td>\n",
       "      <td>3.000000</td>\n",
       "      <td>1.000000</td>\n",
       "    </tr>\n",
       "  </tbody>\n",
       "</table>\n",
       "</div>"
      ],
      "text/plain": [
       "              Age      Pclass    Survived\n",
       "count  714.000000  891.000000  891.000000\n",
       "mean    29.699118    2.308642    0.383838\n",
       "std     14.526497    0.836071    0.486592\n",
       "min      0.420000    1.000000    0.000000\n",
       "25%     20.125000    2.000000    0.000000\n",
       "50%     28.000000    3.000000    0.000000\n",
       "75%     38.000000    3.000000    1.000000\n",
       "max     80.000000    3.000000    1.000000"
      ]
     },
     "execution_count": 6,
     "metadata": {},
     "output_type": "execute_result"
    }
   ],
   "source": [
    "df_train_small.describe()"
   ]
  },
  {
   "cell_type": "markdown",
   "id": "short-tenant",
   "metadata": {},
   "source": [
    "Die `describe()` Methode einer Pandas-Tabelle ist eine sehr rasche Art, einen Überblick bzw. eine *deskriptive Statistik* pro Spalte zu erhalten. Wir sehen nicht nur die Mittelwerte:\n",
    "\n",
    "- mittleres Alter war: 29 Jahre\n",
    "- mittlere Pclass war: 2.3\n",
    "- Anzahl der Überlebenden war (in diesen Trainingsdaten): 38%\n",
    "\n",
    "sondern auch Minima und Maxima-Werte. Zum Beispiel war der älteste Passagier anscheinend 80 Jahre alt.\n",
    "\n",
    "Um Datenlücken aufzuspüren ist diese Methode aber auch sehr hilfreich, denn der `count` Wert gibt an, wieviele Zeilen in der Tabelle einen Wert ungleich `NaN` haben. Da es 891 Zeilen sind, aber nur in 714 Zeilen in der Spalte \"Alter\" auch ein Alter eingetragen ist, müssen wir leider einige Daten verwerfen:"
   ]
  },
  {
   "cell_type": "code",
   "execution_count": 7,
   "id": "processed-military",
   "metadata": {},
   "outputs": [],
   "source": [
    "df_train_small_filtered = df_train_small.dropna()"
   ]
  },
  {
   "cell_type": "code",
   "execution_count": 8,
   "id": "inclusive-rabbit",
   "metadata": {},
   "outputs": [
    {
     "data": {
      "text/html": [
       "<div>\n",
       "<style scoped>\n",
       "    .dataframe tbody tr th:only-of-type {\n",
       "        vertical-align: middle;\n",
       "    }\n",
       "\n",
       "    .dataframe tbody tr th {\n",
       "        vertical-align: top;\n",
       "    }\n",
       "\n",
       "    .dataframe thead th {\n",
       "        text-align: right;\n",
       "    }\n",
       "</style>\n",
       "<table border=\"1\" class=\"dataframe\">\n",
       "  <thead>\n",
       "    <tr style=\"text-align: right;\">\n",
       "      <th></th>\n",
       "      <th>Age</th>\n",
       "      <th>Pclass</th>\n",
       "      <th>Survived</th>\n",
       "    </tr>\n",
       "  </thead>\n",
       "  <tbody>\n",
       "    <tr>\n",
       "      <th>0</th>\n",
       "      <td>22.0</td>\n",
       "      <td>3</td>\n",
       "      <td>0</td>\n",
       "    </tr>\n",
       "    <tr>\n",
       "      <th>1</th>\n",
       "      <td>38.0</td>\n",
       "      <td>1</td>\n",
       "      <td>1</td>\n",
       "    </tr>\n",
       "    <tr>\n",
       "      <th>2</th>\n",
       "      <td>26.0</td>\n",
       "      <td>3</td>\n",
       "      <td>1</td>\n",
       "    </tr>\n",
       "    <tr>\n",
       "      <th>3</th>\n",
       "      <td>35.0</td>\n",
       "      <td>1</td>\n",
       "      <td>1</td>\n",
       "    </tr>\n",
       "    <tr>\n",
       "      <th>4</th>\n",
       "      <td>35.0</td>\n",
       "      <td>3</td>\n",
       "      <td>0</td>\n",
       "    </tr>\n",
       "    <tr>\n",
       "      <th>...</th>\n",
       "      <td>...</td>\n",
       "      <td>...</td>\n",
       "      <td>...</td>\n",
       "    </tr>\n",
       "    <tr>\n",
       "      <th>885</th>\n",
       "      <td>39.0</td>\n",
       "      <td>3</td>\n",
       "      <td>0</td>\n",
       "    </tr>\n",
       "    <tr>\n",
       "      <th>886</th>\n",
       "      <td>27.0</td>\n",
       "      <td>2</td>\n",
       "      <td>0</td>\n",
       "    </tr>\n",
       "    <tr>\n",
       "      <th>887</th>\n",
       "      <td>19.0</td>\n",
       "      <td>1</td>\n",
       "      <td>1</td>\n",
       "    </tr>\n",
       "    <tr>\n",
       "      <th>889</th>\n",
       "      <td>26.0</td>\n",
       "      <td>1</td>\n",
       "      <td>1</td>\n",
       "    </tr>\n",
       "    <tr>\n",
       "      <th>890</th>\n",
       "      <td>32.0</td>\n",
       "      <td>3</td>\n",
       "      <td>0</td>\n",
       "    </tr>\n",
       "  </tbody>\n",
       "</table>\n",
       "<p>714 rows × 3 columns</p>\n",
       "</div>"
      ],
      "text/plain": [
       "      Age  Pclass  Survived\n",
       "0    22.0       3         0\n",
       "1    38.0       1         1\n",
       "2    26.0       3         1\n",
       "3    35.0       1         1\n",
       "4    35.0       3         0\n",
       "..    ...     ...       ...\n",
       "885  39.0       3         0\n",
       "886  27.0       2         0\n",
       "887  19.0       1         1\n",
       "889  26.0       1         1\n",
       "890  32.0       3         0\n",
       "\n",
       "[714 rows x 3 columns]"
      ]
     },
     "execution_count": 8,
     "metadata": {},
     "output_type": "execute_result"
    }
   ],
   "source": [
    "df_train_small_filtered"
   ]
  },
  {
   "cell_type": "code",
   "execution_count": 9,
   "id": "medium-enterprise",
   "metadata": {},
   "outputs": [
    {
     "data": {
      "text/html": [
       "<div>\n",
       "<style scoped>\n",
       "    .dataframe tbody tr th:only-of-type {\n",
       "        vertical-align: middle;\n",
       "    }\n",
       "\n",
       "    .dataframe tbody tr th {\n",
       "        vertical-align: top;\n",
       "    }\n",
       "\n",
       "    .dataframe thead th {\n",
       "        text-align: right;\n",
       "    }\n",
       "</style>\n",
       "<table border=\"1\" class=\"dataframe\">\n",
       "  <thead>\n",
       "    <tr style=\"text-align: right;\">\n",
       "      <th></th>\n",
       "      <th>Age</th>\n",
       "      <th>Pclass</th>\n",
       "      <th>Survived</th>\n",
       "    </tr>\n",
       "  </thead>\n",
       "  <tbody>\n",
       "    <tr>\n",
       "      <th>count</th>\n",
       "      <td>714.000000</td>\n",
       "      <td>714.000000</td>\n",
       "      <td>714.000000</td>\n",
       "    </tr>\n",
       "    <tr>\n",
       "      <th>mean</th>\n",
       "      <td>29.699118</td>\n",
       "      <td>2.236695</td>\n",
       "      <td>0.406162</td>\n",
       "    </tr>\n",
       "    <tr>\n",
       "      <th>std</th>\n",
       "      <td>14.526497</td>\n",
       "      <td>0.838250</td>\n",
       "      <td>0.491460</td>\n",
       "    </tr>\n",
       "    <tr>\n",
       "      <th>min</th>\n",
       "      <td>0.420000</td>\n",
       "      <td>1.000000</td>\n",
       "      <td>0.000000</td>\n",
       "    </tr>\n",
       "    <tr>\n",
       "      <th>25%</th>\n",
       "      <td>20.125000</td>\n",
       "      <td>1.000000</td>\n",
       "      <td>0.000000</td>\n",
       "    </tr>\n",
       "    <tr>\n",
       "      <th>50%</th>\n",
       "      <td>28.000000</td>\n",
       "      <td>2.000000</td>\n",
       "      <td>0.000000</td>\n",
       "    </tr>\n",
       "    <tr>\n",
       "      <th>75%</th>\n",
       "      <td>38.000000</td>\n",
       "      <td>3.000000</td>\n",
       "      <td>1.000000</td>\n",
       "    </tr>\n",
       "    <tr>\n",
       "      <th>max</th>\n",
       "      <td>80.000000</td>\n",
       "      <td>3.000000</td>\n",
       "      <td>1.000000</td>\n",
       "    </tr>\n",
       "  </tbody>\n",
       "</table>\n",
       "</div>"
      ],
      "text/plain": [
       "              Age      Pclass    Survived\n",
       "count  714.000000  714.000000  714.000000\n",
       "mean    29.699118    2.236695    0.406162\n",
       "std     14.526497    0.838250    0.491460\n",
       "min      0.420000    1.000000    0.000000\n",
       "25%     20.125000    1.000000    0.000000\n",
       "50%     28.000000    2.000000    0.000000\n",
       "75%     38.000000    3.000000    1.000000\n",
       "max     80.000000    3.000000    1.000000"
      ]
     },
     "execution_count": 9,
     "metadata": {},
     "output_type": "execute_result"
    }
   ],
   "source": [
    "df_train_small_filtered.describe()"
   ]
  },
  {
   "cell_type": "markdown",
   "id": "working-trouble",
   "metadata": {},
   "source": [
    "Jetzt haben wir zwar nur noch 714 Beispielpassagiere für das Training des *Naive Bayes Klassifkators*, aber dafür gibt es keine Datenlücken mehr."
   ]
  },
  {
   "cell_type": "markdown",
   "id": "impossible-agenda",
   "metadata": {},
   "source": [
    "# Aufteilung in Input- und Outputdaten\n",
    "\n",
    "Eigentlich bei jedem Machine Learning Modell werden die Daten in Input- und Outputdaten für das Training sowie das spätere Testen des Modells aufgeteilt:\n",
    "\n",
    "- `x_train`: Inputdaten für das Training des Modells:<br>\n",
    "  Das sind die Eingabemerkmale.\n",
    "  \n",
    "- `y_train`: Outputdaten für das Training des Modells:<br>\n",
    "  Das soll rauskommen: Stelle die Parameter des Modells so ein, dass das auch möglichst rauskommt.\n",
    "  \n",
    "- `x_test`: Inputdaten für das Testen des Modells<br>\n",
    "  Das sind die Eingabemerkmale von frischen Testbeispielen, auf denen das Modell nicht trainiert wurde.\n",
    "  \n",
    "- `y_test`: Outputdaten für das Testen des Modells<br>\n",
    "  Das soll rauskommen. Hat unser Modell das denn auch geschafft, also genau das ausgegeben?\n",
    "  \n",
    "Bisher bereiten wir nur die Trainingsdaten vor:"
   ]
  },
  {
   "cell_type": "code",
   "execution_count": 10,
   "id": "legislative-possibility",
   "metadata": {},
   "outputs": [],
   "source": [
    "x_train = df_train_small_filtered[ [\"Age\", \"Pclass\"] ].values"
   ]
  },
  {
   "cell_type": "code",
   "execution_count": 11,
   "id": "solar-messenger",
   "metadata": {},
   "outputs": [
    {
     "data": {
      "text/plain": [
       "array([[22.,  3.],\n",
       "       [38.,  1.],\n",
       "       [26.,  3.],\n",
       "       ...,\n",
       "       [19.,  1.],\n",
       "       [26.,  1.],\n",
       "       [32.,  3.]])"
      ]
     },
     "execution_count": 11,
     "metadata": {},
     "output_type": "execute_result"
    }
   ],
   "source": [
    "x_train"
   ]
  },
  {
   "cell_type": "code",
   "execution_count": 12,
   "id": "after-charger",
   "metadata": {},
   "outputs": [
    {
     "data": {
      "text/plain": [
       "(714, 2)"
      ]
     },
     "execution_count": 12,
     "metadata": {},
     "output_type": "execute_result"
    }
   ],
   "source": [
    "x_train.shape"
   ]
  },
  {
   "cell_type": "code",
   "execution_count": 13,
   "id": "rubber-lemon",
   "metadata": {},
   "outputs": [],
   "source": [
    "y_train = df_train_small_filtered[ [\"Survived\"] ].values"
   ]
  },
  {
   "cell_type": "code",
   "execution_count": 14,
   "id": "polished-mapping",
   "metadata": {},
   "outputs": [
    {
     "data": {
      "text/plain": [
       "array([[0],\n",
       "       [1],\n",
       "       [1],\n",
       "       [1],\n",
       "       [0],\n",
       "       [0]])"
      ]
     },
     "execution_count": 14,
     "metadata": {},
     "output_type": "execute_result"
    }
   ],
   "source": [
    "y_train[:6]"
   ]
  },
  {
   "cell_type": "code",
   "execution_count": 15,
   "id": "standing-timber",
   "metadata": {},
   "outputs": [
    {
     "data": {
      "text/plain": [
       "(714, 1)"
      ]
     },
     "execution_count": 15,
     "metadata": {},
     "output_type": "execute_result"
    }
   ],
   "source": [
    "y_train.shape"
   ]
  },
  {
   "cell_type": "code",
   "execution_count": 16,
   "id": "suspected-desktop",
   "metadata": {},
   "outputs": [],
   "source": [
    "y_train = y_train.reshape(-1)"
   ]
  },
  {
   "cell_type": "code",
   "execution_count": 17,
   "id": "adjusted-accuracy",
   "metadata": {},
   "outputs": [
    {
     "data": {
      "text/plain": [
       "array([0, 1, 1, 1, 0, 0, 0, 1, 1, 1, 1, 0, 0, 0, 1, 0, 0, 0, 1, 1, 1, 0,\n",
       "       1, 0, 0, 0, 0, 0, 0, 0, 1, 0, 0, 1, 1, 0, 0, 0, 1, 1, 0, 1, 0, 1,\n",
       "       0, 0, 1, 0, 0, 1, 0, 1, 0, 0, 0, 0, 0, 1, 0, 1, 1, 0, 1, 0, 1, 1,\n",
       "       0, 1, 0, 0, 0, 0, 0, 0, 0, 1, 1, 0, 0, 0, 0, 0, 0, 1, 0, 0, 0, 0,\n",
       "       0, 0, 0, 0, 0, 0, 0, 0, 0, 1, 0, 1, 1, 0, 0, 0, 0, 1, 0, 0, 1, 0,\n",
       "       0, 0, 1, 1, 0, 0, 0, 1, 0, 0, 0, 0, 1, 0, 0, 0, 1, 0, 0, 1, 0, 0,\n",
       "       0, 1, 0, 0, 0, 0, 1, 0, 0, 0, 0, 0, 0, 0, 1, 1, 1, 0, 0, 1, 0, 1,\n",
       "       1, 1, 1, 0, 0, 0, 0, 0, 1, 0, 0, 1, 1, 1, 0, 1, 0, 0, 1, 1, 0, 1,\n",
       "       0, 1, 0, 0, 1, 0, 1, 0, 0, 1, 0, 0, 1, 0, 0, 1, 0, 0, 0, 0, 0, 0,\n",
       "       0, 1, 1, 0, 0, 0, 0, 0, 1, 1, 1, 1, 1, 0, 0, 0, 0, 1, 1, 1, 1, 1,\n",
       "       0, 1, 0, 0, 1, 0, 0, 0, 1, 0, 1, 0, 1, 1, 1, 1, 0, 0, 0, 0, 0, 1,\n",
       "       0, 1, 1, 0, 1, 1, 1, 0, 0, 0, 1, 1, 0, 1, 1, 0, 0, 1, 1, 1, 0, 1,\n",
       "       1, 1, 0, 0, 0, 0, 1, 1, 0, 1, 1, 0, 0, 0, 1, 1, 1, 0, 0, 0, 0, 0,\n",
       "       1, 0, 0, 0, 0, 0, 0, 1, 1, 1, 0, 0, 0, 0, 1, 0, 0, 0, 1, 1, 0, 1,\n",
       "       0, 0, 1, 1, 1, 1, 0, 1, 1, 0, 0, 0, 0, 1, 1, 0, 0, 0, 0, 0, 0, 1,\n",
       "       0, 1, 1, 1, 1, 0, 0, 0, 0, 0, 0, 1, 1, 1, 1, 1, 0, 0, 1, 0, 1, 0,\n",
       "       0, 1, 0, 0, 1, 1, 1, 1, 1, 1, 0, 0, 1, 1, 0, 1, 1, 0, 0, 0, 0, 0,\n",
       "       1, 0, 1, 1, 0, 0, 0, 0, 1, 0, 0, 1, 1, 1, 0, 0, 1, 0, 0, 0, 0, 1,\n",
       "       0, 0, 0, 0, 0, 1, 0, 1, 0, 1, 1, 1, 1, 0, 0, 1, 1, 0, 1, 0, 1, 0,\n",
       "       1, 0, 0, 1, 0, 0, 1, 0, 1, 1, 1, 0, 0, 1, 0, 0, 1, 0, 1, 1, 0, 1,\n",
       "       1, 0, 1, 1, 1, 0, 0, 0, 0, 0, 1, 1, 1, 1, 0, 0, 1, 1, 1, 1, 1, 0,\n",
       "       0, 1, 0, 1, 0, 0, 1, 0, 0, 0, 0, 1, 1, 0, 1, 0, 0, 1, 1, 1, 0, 0,\n",
       "       1, 0, 0, 1, 0, 0, 1, 1, 0, 0, 0, 0, 1, 0, 1, 0, 1, 0, 1, 0, 0, 0,\n",
       "       0, 1, 0, 1, 1, 0, 1, 1, 1, 0, 0, 0, 0, 0, 0, 1, 0, 0, 0, 1, 0, 0,\n",
       "       0, 1, 0, 0, 1, 0, 0, 1, 0, 1, 1, 0, 0, 0, 0, 0, 0, 0, 1, 1, 1, 0,\n",
       "       0, 0, 0, 0, 0, 1, 1, 0, 0, 0, 0, 1, 1, 1, 1, 1, 0, 0, 0, 1, 1, 0,\n",
       "       1, 0, 0, 0, 1, 0, 1, 0, 0, 1, 0, 0, 0, 0, 0, 1, 0, 1, 0, 1, 0, 0,\n",
       "       1, 0, 0, 1, 1, 0, 0, 1, 1, 0, 0, 0, 1, 0, 1, 1, 0, 1, 0, 0, 0, 0,\n",
       "       0, 1, 0, 1, 1, 1, 1, 0, 0, 0, 1, 0, 1, 0, 0, 0, 0, 1, 1, 0, 0, 0,\n",
       "       1, 1, 1, 1, 0, 0, 0, 0, 1, 0, 0, 0, 0, 0, 0, 0, 0, 0, 1, 1, 0, 1,\n",
       "       0, 1, 1, 1, 1, 0, 0, 1, 0, 1, 0, 0, 1, 0, 0, 0, 0, 0, 0, 0, 0, 1,\n",
       "       0, 1, 1, 1, 1, 0, 0, 1, 0, 1, 1, 0, 1, 0, 1, 0, 0, 1, 1, 0, 0, 1,\n",
       "       1, 0, 0, 0, 0, 0, 0, 1, 1, 0])"
      ]
     },
     "execution_count": 17,
     "metadata": {},
     "output_type": "execute_result"
    }
   ],
   "source": [
    "y_train"
   ]
  },
  {
   "cell_type": "markdown",
   "id": "permanent-quantum",
   "metadata": {},
   "source": [
    "# Skalieren der Inputdaten\n",
    "\n",
    "Das Training der meisten Machine Learning Modelle fällt besser aus, wenn die Inputmerkmale im gleichen Wertebereich sind, z.B. zwischen -1.0 und 1.0. Hintergrund ist, dass viele Machine Learning Modelle sogenannte *Hyperparameter* besitzen, die auf Werte eingestellt sind, die für skalierte Inputmerkmale vorbereitet wurden.\n",
    "\n",
    "Hier verwenden wir den [`StandardScaler`](https://scikit-learn.org/stable/modules/generated/sklearn.preprocessing.StandardScaler.html) von scikit-learn, der spaltenweise die Daten *mittelwertfrei* macht (d.h. den Mittelwert von jedem Datum abzieht; man spricht auch von *Zentrierung*) und auch noch so skaliert, dass die Standardabweichung der Daten 1.0 ist. In der Statistik spricht man von der [*z-Transformation*](https://de.wikipedia.org/wiki/Standardisierung_(Statistik) und in der Mathematik von *standardisierten Zufallsvariabeln*:\n",
    "\n",
    "Für jeden Wert `x` wird also ein neuer Wert `z` berechnet:\n",
    "\n",
    "         x-µ  \n",
    "    z = ------\n",
    "          σ\n",
    "      \n",
    "wenn `µ` der Mittelwert ist und `σ` die Standardabweichung der Daten in einer Spalte.\n",
    "\n"
   ]
  },
  {
   "cell_type": "code",
   "execution_count": 18,
   "id": "earned-beatles",
   "metadata": {},
   "outputs": [],
   "source": [
    "from sklearn.preprocessing import StandardScaler\n",
    "\n",
    "scaler = StandardScaler()\n",
    "x_train_scaled = scaler.fit_transform(x_train)"
   ]
  },
  {
   "cell_type": "code",
   "execution_count": 19,
   "id": "planned-meeting",
   "metadata": {},
   "outputs": [
    {
     "data": {
      "text/plain": [
       "array([[-0.53037664,  0.91123237],\n",
       "       [ 0.57183099, -1.47636364],\n",
       "       [-0.25482473,  0.91123237],\n",
       "       ...,\n",
       "       [-0.73704057, -1.47636364],\n",
       "       [-0.25482473, -1.47636364],\n",
       "       [ 0.15850313,  0.91123237]])"
      ]
     },
     "execution_count": 19,
     "metadata": {},
     "output_type": "execute_result"
    }
   ],
   "source": [
    "x_train_scaled"
   ]
  },
  {
   "cell_type": "code",
   "execution_count": 20,
   "id": "extra-karaoke",
   "metadata": {},
   "outputs": [
    {
     "data": {
      "text/plain": [
       "(714, 2)"
      ]
     },
     "execution_count": 20,
     "metadata": {},
     "output_type": "execute_result"
    }
   ],
   "source": [
    "x_train_scaled.shape"
   ]
  },
  {
   "cell_type": "code",
   "execution_count": 21,
   "id": "motivated-paris",
   "metadata": {},
   "outputs": [],
   "source": [
    "column1 = x_train_scaled[:,0]\n",
    "column2 = x_train_scaled[:,1]"
   ]
  },
  {
   "cell_type": "code",
   "execution_count": 22,
   "id": "sharing-pollution",
   "metadata": {},
   "outputs": [
    {
     "data": {
      "text/plain": [
       "(-2.0169791879680417, 3.4651260350566906, 2.338621049070358e-16, 1.0)"
      ]
     },
     "execution_count": 22,
     "metadata": {},
     "output_type": "execute_result"
    }
   ],
   "source": [
    "column1.min(), column1.max(), column1.mean(), column1.std()"
   ]
  },
  {
   "cell_type": "code",
   "execution_count": 23,
   "id": "concerned-people",
   "metadata": {},
   "outputs": [
    {
     "data": {
      "text/plain": [
       "(-1.4763636433368303, 0.9112323732939666, -5.473368412717859e-17, 1.0)"
      ]
     },
     "execution_count": 23,
     "metadata": {},
     "output_type": "execute_result"
    }
   ],
   "source": [
    "column2.min(), column2.max(), column2.mean(), column2.std()"
   ]
  },
  {
   "cell_type": "markdown",
   "id": "great-remark",
   "metadata": {},
   "source": [
    "Übrigens ist der `StandardScaler()` nicht der einzige Skalierer, den scitkit-learn zu bieten hat. Es gibt zum Beispiel auch noch:\n",
    "\n",
    "- den [`MinMaxScaler`](https://scikit-learn.org/stable/modules/generated/sklearn.preprocessing.MinMaxScaler.html#sklearn.preprocessing.MinMaxScaler), der den kleinsten Wert auf z.B. 0.0, den größten Wert auf z.B. 1.0 und alle Werte dazwischen linear abbildet\n",
    "- den [`RobustScaler`](https://scikit-learn.org/stable/modules/generated/sklearn.preprocessing.RobustScaler.html#sklearn.preprocessing.RobustScaler), eine robuste Variante eines Skalierers, der robust gegenüber Ausreißern ist, indem zur Berechnung der Skalierungsparameter nur Werte aus bestimmten Quantile einfließen: und zwar solche, die zwischen dem 25. und dem 75. Percentil liegen (dem sog. *Interquantilbereich* = *Interquantile Range (IQR)*).\n",
    "\n",
    "Hinweis:\n",
    "- das 25. Percentil bedeutet: 25 Prozent aller Werte in den Daten sind niedriger als dieser Wert\n",
    "- das 75. Percentil bedeutet: 75 Prozent aller Werte in den Daten sind niedriger als dieser Wert"
   ]
  },
  {
   "cell_type": "markdown",
   "id": "pharmaceutical-novelty",
   "metadata": {},
   "source": [
    "# Erzeugen und Trainieren des Klassifikators\n",
    "\n",
    "Das Erzeugen eines *Naive Bayes Klassifikators* ist dank scikit-learn denkbar einfach. Durch den Aufruf der `fit()`-Methode des Klassifikators werden anhand der Trainingsdaten in x_train_scaled die Parameter der zugrunde liegenden Wahrscheinlichkeitsverteilungen für\n",
    "\n",
    "* die a-priori Wahrscheinlichkeiten P(A=Überlebender) bzw. P(^A=Nicht Überlebender)\n",
    "* die bedingten Wahrscheinlichkeiten\n",
    "  * P(B1=Alter=x|A=Überlebender) bzw. P(B1=Alter=x|^A=Nicht Überlebender)\n",
    "  * P(B2=Passagierklasse=y|A=Überlebender) bzw. P(B2=Passagierklasse=y|^A=Nicht Überlebender)\n",
    "  \n",
    "geschätzt, die wir später brauchen, wenn wir die Wahrscheinlichkeiten für alle möglichen Klassen (hier nur 2) ausrechnen wollen:\n",
    "\n",
    "* P(Klasse1=A=Überlebender|B1=Alter=x, B2=Passagierklasse=y)\n",
    "* P(Klasse2=^A=Nicht Überlebender|B1⁼Alter=x, B2=Passagierklasse=y)\n",
    "\n",
    "Man beachten, dass es hier nur zwei mögliche Klassifikationsergebnisse gibt. Es handelt sich also um ein *binäres* Klassifkationsproblem. Das muss aber nicht immer so ein, man hätte z.B. auch hier klassifizieren können (wenn man denn entsprechende Traininsdaten hätte):\n",
    "\n",
    "* Klasse1 = Überlebend ohne Folgeschäden\n",
    "* Klasse2 = Überlebend mit Folgeschäden (z.B. Erfrierungen)\n",
    "* Klasse3 = Nicht überlebend\n",
    "\n"
   ]
  },
  {
   "cell_type": "code",
   "execution_count": 24,
   "id": "vertical-jonathan",
   "metadata": {},
   "outputs": [
    {
     "data": {
      "text/plain": [
       "GaussianNB()"
      ]
     },
     "execution_count": 24,
     "metadata": {},
     "output_type": "execute_result"
    }
   ],
   "source": [
    "from sklearn.naive_bayes import GaussianNB\n",
    "\n",
    "classifier = GaussianNB()\n",
    "classifier.fit(x_train_scaled, y_train)"
   ]
  },
  {
   "cell_type": "markdown",
   "id": "weighted-nerve",
   "metadata": {},
   "source": [
    "# Testen des Klassifikators auf den Trainingsdaten\n",
    "\n",
    "Jetzt wollen wir mal sehen, wie gut der Klassifikator die Klasse pro Passagier auf den Trainingsdaten vorhersagt. Der richtige Test muss später natürlich auf Daten erfolgen, die *nicht* in das Training miteingeflossen sind, d.h. auf *frischen Testdaten*."
   ]
  },
  {
   "cell_type": "code",
   "execution_count": 25,
   "id": "delayed-script",
   "metadata": {},
   "outputs": [],
   "source": [
    "y_pred_train = classifier.predict(x_train_scaled)"
   ]
  },
  {
   "cell_type": "markdown",
   "id": "simplified-publicity",
   "metadata": {},
   "source": [
    "Unser Modell, der *Naive Bayes Klassifkator* sagt jetzt Folgendes voraus:"
   ]
  },
  {
   "cell_type": "code",
   "execution_count": 26,
   "id": "pointed-rider",
   "metadata": {},
   "outputs": [
    {
     "data": {
      "text/plain": [
       "array([0, 1, 0, 1, 0, 1, 0, 0, 0, 0, 1, 0, 0, 0, 0, 0, 0, 0, 0, 0, 1, 0,\n",
       "       0, 1, 1, 0, 1, 1, 0, 0, 0, 0, 0, 1, 0, 0, 0, 0, 1, 0, 1, 0, 0, 1,\n",
       "       0, 0, 1, 1, 0, 0, 0, 0, 0, 0, 0, 0, 0, 0, 0, 1, 0, 0, 0, 1, 0, 0,\n",
       "       0, 1, 0, 0, 0, 1, 0, 0, 1, 1, 0, 0, 0, 1, 0, 0, 0, 0, 0, 1, 0, 0,\n",
       "       0, 0, 0, 0, 0, 1, 0, 0, 0, 0, 1, 0, 0, 0, 0, 0, 0, 0, 0, 0, 1, 1,\n",
       "       0, 1, 0, 0, 0, 0, 0, 0, 0, 0, 0, 0, 1, 0, 0, 1, 0, 0, 0, 0, 0, 0,\n",
       "       0, 0, 0, 0, 1, 0, 0, 0, 1, 0, 1, 0, 0, 0, 1, 0, 1, 0, 0, 0, 0, 0,\n",
       "       1, 1, 1, 0, 0, 0, 0, 0, 0, 0, 0, 0, 0, 1, 0, 0, 0, 0, 1, 0, 0, 1,\n",
       "       0, 0, 0, 0, 1, 0, 0, 0, 0, 1, 0, 0, 0, 0, 0, 1, 0, 0, 0, 0, 0, 1,\n",
       "       0, 0, 1, 0, 0, 1, 0, 0, 0, 1, 1, 0, 0, 1, 1, 0, 0, 0, 1, 1, 0, 0,\n",
       "       1, 1, 0, 0, 0, 0, 0, 0, 0, 0, 0, 0, 0, 0, 1, 1, 0, 0, 0, 0, 1, 1,\n",
       "       0, 1, 1, 0, 1, 1, 1, 0, 0, 0, 0, 0, 0, 1, 1, 0, 0, 0, 0, 1, 0, 0,\n",
       "       0, 1, 1, 1, 0, 1, 1, 0, 1, 1, 1, 0, 0, 0, 0, 0, 0, 0, 0, 0, 0, 0,\n",
       "       1, 0, 0, 0, 0, 0, 0, 1, 1, 1, 0, 0, 1, 0, 0, 1, 0, 0, 1, 0, 0, 1,\n",
       "       0, 0, 0, 0, 1, 0, 0, 1, 0, 0, 0, 0, 0, 0, 0, 0, 0, 0, 0, 0, 0, 1,\n",
       "       0, 1, 0, 0, 0, 0, 0, 0, 0, 0, 0, 0, 0, 0, 1, 0, 0, 1, 1, 0, 0, 1,\n",
       "       0, 0, 0, 0, 0, 1, 0, 1, 0, 1, 0, 1, 1, 0, 1, 0, 1, 0, 1, 0, 0, 1,\n",
       "       0, 0, 0, 0, 0, 0, 0, 0, 0, 0, 0, 0, 1, 1, 1, 0, 0, 0, 1, 1, 0, 1,\n",
       "       1, 0, 0, 0, 0, 1, 1, 0, 0, 0, 0, 1, 1, 0, 1, 0, 0, 0, 1, 0, 1, 0,\n",
       "       0, 0, 0, 1, 0, 0, 1, 1, 1, 1, 1, 0, 0, 0, 1, 1, 0, 0, 1, 1, 0, 0,\n",
       "       0, 1, 1, 1, 0, 0, 0, 0, 0, 0, 0, 0, 1, 1, 0, 0, 0, 1, 0, 0, 1, 0,\n",
       "       1, 1, 0, 1, 0, 0, 1, 0, 0, 0, 0, 1, 0, 0, 1, 0, 0, 1, 0, 1, 0, 0,\n",
       "       0, 0, 0, 1, 0, 0, 1, 0, 0, 0, 1, 0, 1, 0, 1, 0, 1, 0, 0, 0, 0, 0,\n",
       "       0, 1, 0, 0, 1, 0, 1, 0, 0, 0, 0, 0, 0, 0, 1, 1, 0, 1, 0, 0, 0, 0,\n",
       "       0, 0, 1, 0, 0, 0, 0, 0, 0, 1, 1, 0, 0, 0, 0, 0, 0, 0, 1, 1, 0, 0,\n",
       "       1, 0, 0, 1, 0, 1, 1, 0, 0, 0, 0, 0, 1, 1, 1, 1, 0, 0, 0, 1, 0, 0,\n",
       "       1, 0, 0, 0, 1, 0, 0, 0, 0, 1, 0, 0, 0, 0, 0, 1, 1, 1, 0, 0, 1, 0,\n",
       "       0, 1, 0, 1, 0, 0, 0, 0, 1, 0, 0, 0, 1, 0, 0, 1, 0, 1, 0, 0, 0, 0,\n",
       "       0, 0, 0, 0, 1, 0, 1, 1, 0, 0, 0, 0, 0, 1, 0, 0, 0, 1, 0, 0, 0, 0,\n",
       "       0, 1, 0, 0, 0, 1, 0, 0, 1, 0, 0, 0, 0, 0, 0, 0, 0, 0, 1, 0, 1, 0,\n",
       "       0, 1, 1, 0, 1, 0, 0, 1, 0, 0, 0, 0, 1, 0, 0, 0, 0, 0, 0, 0, 0, 1,\n",
       "       0, 0, 1, 1, 0, 0, 0, 1, 0, 0, 0, 1, 0, 0, 1, 1, 0, 0, 0, 0, 0, 1,\n",
       "       0, 0, 0, 0, 0, 0, 0, 1, 1, 0])"
      ]
     },
     "execution_count": 26,
     "metadata": {},
     "output_type": "execute_result"
    }
   ],
   "source": [
    "y_pred_train"
   ]
  },
  {
   "cell_type": "markdown",
   "id": "opposed-associate",
   "metadata": {},
   "source": [
    "Vergleichen wir das mal mit den *Grundwahrheitsdaten* (Englisch: *Ground truth data*) für die ersten 10 Passagiere:"
   ]
  },
  {
   "cell_type": "code",
   "execution_count": 27,
   "id": "functioning-conservation",
   "metadata": {},
   "outputs": [
    {
     "data": {
      "text/plain": [
       "array([0, 1, 1, 1, 0, 0, 0, 1, 1, 1])"
      ]
     },
     "execution_count": 27,
     "metadata": {},
     "output_type": "execute_result"
    }
   ],
   "source": [
    "y_train[:10]"
   ]
  },
  {
   "cell_type": "code",
   "execution_count": 28,
   "id": "functional-mexican",
   "metadata": {},
   "outputs": [
    {
     "data": {
      "text/plain": [
       "array([0, 1, 0, 1, 0, 1, 0, 0, 0, 0])"
      ]
     },
     "execution_count": 28,
     "metadata": {},
     "output_type": "execute_result"
    }
   ],
   "source": [
    "y_pred_train[:10]"
   ]
  },
  {
   "cell_type": "code",
   "execution_count": 29,
   "id": "suffering-style",
   "metadata": {},
   "outputs": [],
   "source": [
    "errors = y_train - y_pred_train"
   ]
  },
  {
   "cell_type": "code",
   "execution_count": 30,
   "id": "pacific-found",
   "metadata": {},
   "outputs": [
    {
     "data": {
      "text/plain": [
       "array([ 0,  0,  1,  0,  0, -1,  0,  1,  1,  1,  0,  0,  0,  0,  1,  0,  0,\n",
       "        0,  1,  1,  0,  0,  1, -1, -1,  0, -1, -1,  0,  0,  1,  0,  0,  0,\n",
       "        1,  0,  0,  0,  0,  1, -1,  1,  0,  0,  0,  0,  0, -1,  0,  1,  0,\n",
       "        1,  0,  0,  0,  0,  0,  1,  0,  0,  1,  0,  1, -1,  1,  1,  0,  0,\n",
       "        0,  0,  0, -1,  0,  0, -1,  0,  1,  0,  0, -1,  0,  0,  0,  1,  0,\n",
       "       -1,  0,  0,  0,  0,  0,  0,  0, -1,  0,  0,  0,  1, -1,  1,  1,  0,\n",
       "        0,  0,  0,  1,  0,  0,  0, -1,  0, -1,  1,  1,  0,  0,  0,  1,  0,\n",
       "        0,  0,  0,  0,  0,  0, -1,  1,  0,  0,  1,  0,  0,  0,  1,  0,  0,\n",
       "       -1,  0,  1,  0, -1,  0, -1,  0,  0,  0,  0,  1,  0,  0,  0,  1,  0,\n",
       "        1,  0,  0,  0,  0,  0,  0,  0,  0,  1,  0,  0,  1,  1,  0,  0,  1,\n",
       "        0,  0,  0,  1,  0,  0,  0,  1,  0,  0,  0,  0,  1,  0,  0,  0,  0,\n",
       "        0,  1,  0,  0,  0,  0,  0,  0,  0,  0, -1,  0,  1,  0,  0,  0, -1,\n",
       "        0,  0,  1,  0,  0,  1,  1, -1, -1,  0,  0,  1,  0,  0,  1,  1, -1,\n",
       "        0,  0,  0,  1,  0,  0,  0,  1,  0,  1,  0,  1,  1,  0,  0,  0,  0,\n",
       "        0,  0, -1,  0,  0,  0,  0,  0,  0,  0,  0,  0,  0,  0,  1,  1,  0,\n",
       "        0,  0,  0,  0,  1,  1,  0,  0,  1,  1,  0, -1, -1,  0, -1,  0,  1,\n",
       "       -1,  0,  0,  0,  0,  0,  1,  1,  1,  0,  0,  0,  0,  0,  0,  0,  0,\n",
       "        0,  0,  0,  0,  0,  0,  0,  0,  0, -1,  0,  1, -1,  0,  0,  0,  1,\n",
       "        0,  0,  0,  0,  1,  1,  0,  1,  0,  0,  1,  0,  0,  0,  0,  1,  1,\n",
       "        0,  0,  0,  0,  0,  0,  0,  0,  0,  1,  1,  1,  0,  0,  0,  0,  0,\n",
       "        0,  1,  1,  1,  0,  1,  0, -1,  0,  0,  1, -1,  0,  1,  0,  0,  1,\n",
       "        0,  1,  0,  1,  0,  0, -1,  0,  1, -1,  1,  0,  0, -1,  0,  0, -1,\n",
       "        1,  0,  1,  1,  0,  0,  0,  0,  1,  0,  0,  1,  0,  0, -1,  0,  1,\n",
       "        0, -1, -1,  0,  0, -1,  0,  0,  0,  0,  0, -1,  1,  0,  1,  1,  0,\n",
       "        0,  0, -1,  1,  1,  0,  0,  0,  0,  0,  1,  0,  0,  0,  0,  0,  0,\n",
       "       -1,  0,  0,  0,  0,  0,  1, -1, -1,  1,  0,  0,  0,  0,  1,  1, -1,\n",
       "        0,  0,  1,  0,  0,  0,  0,  0,  1,  1,  0,  0,  0,  0,  1,  0,  1,\n",
       "        1,  0,  0, -1,  0,  0,  0,  0,  0,  0,  0,  0,  0,  0,  0,  1,  0,\n",
       "        0,  0,  0,  0,  1,  0,  0,  0,  1,  0,  0,  0,  0,  0,  0,  1,  0,\n",
       "        0, -1,  0,  0,  0,  0,  0,  0,  0,  1,  0,  0,  0,  0,  0,  0,  1,\n",
       "        0,  0,  0,  1,  1,  0,  0,  0,  0,  0, -1,  0,  0, -1,  0,  1,  0,\n",
       "        0,  0,  1, -1,  0,  1,  0,  0,  1,  0,  0,  0,  0,  0,  0,  0,  0,\n",
       "        0,  0,  0,  0,  1,  0, -1,  0,  0, -1,  0,  0,  0,  0,  0,  0,  0,\n",
       "        1,  0,  0,  0,  0,  0,  0,  0,  0,  1,  0,  0,  0,  0,  0,  0,  0,\n",
       "        1,  0,  0,  0,  0,  0,  0,  0,  0,  0, -1,  0,  0,  1, -1,  0,  1,\n",
       "       -1,  0,  0,  1,  0,  0,  1,  0,  0,  0,  0,  0,  0,  1,  0,  0,  0,\n",
       "        0,  0,  0,  0,  0,  1,  0,  1,  0,  1,  0, -1,  0,  0,  1,  0,  1,\n",
       "       -1,  0,  0,  0,  0,  1,  0,  0,  0,  1,  0,  1,  1,  0, -1,  0,  0,\n",
       "        0,  0,  0,  0,  0,  0,  0,  0,  0,  0,  0,  1, -1,  1,  0,  0,  0,\n",
       "        1,  0,  0,  0,  0,  0,  1,  0,  0,  0,  0,  0,  0,  0,  0,  0,  0,\n",
       "        0,  0,  0,  1,  0,  0,  1,  0,  0,  0,  0,  1,  1, -1,  1,  0,  0,\n",
       "       -1,  0,  1,  1,  0,  0,  0,  1,  0,  0,  0,  0,  0,  0,  0,  0,  0])"
      ]
     },
     "execution_count": 30,
     "metadata": {},
     "output_type": "execute_result"
    }
   ],
   "source": [
    "errors"
   ]
  },
  {
   "cell_type": "markdown",
   "id": "sweet-treaty",
   "metadata": {},
   "source": [
    "Wir sehen hier also drei mögliche Fälle:\n",
    "\n",
    "- Fehler = 0: der Klassifkator lag richtig<br>\n",
    "  Entweder: es war Klasse 0 und es wurde 0 vorhergesagt<br>\n",
    "  Oder: es war Klasse 1 und es wurde 1 vorhergesagt\n",
    "  \n",
    "- Fehler = +1: der Klassifkator lag falsch<br>\n",
    "  Es war Klasse 1 und es wurde 0 vorhergesagt\n",
    "  \n",
    "- Fehler = -1: der Klassifkator lag falsch<br>\n",
    "  Es war Klasse 0 und es wurde 1 vorhergesagt\n",
    "  \n",
    "Wenn wir die Anzahl der Einträge ungleich 0 berechnen, können wir schnell ausrechnen, in wieviel Prozent der Klassifkator richtig lag:"
   ]
  },
  {
   "cell_type": "code",
   "execution_count": 31,
   "id": "embedded-ebony",
   "metadata": {},
   "outputs": [
    {
     "data": {
      "text/plain": [
       "215"
      ]
     },
     "execution_count": 31,
     "metadata": {},
     "output_type": "execute_result"
    }
   ],
   "source": [
    "import numpy as np\n",
    "\n",
    "anzahl_fehler = np.sum(np.abs(errors))\n",
    "anzahl_fehler"
   ]
  },
  {
   "cell_type": "code",
   "execution_count": 32,
   "id": "opening-circus",
   "metadata": {},
   "outputs": [
    {
     "data": {
      "text/plain": [
       "714"
      ]
     },
     "execution_count": 32,
     "metadata": {},
     "output_type": "execute_result"
    }
   ],
   "source": [
    "anzahl_testdaten_gesamt = len(y_train)\n",
    "anzahl_testdaten_gesamt"
   ]
  },
  {
   "cell_type": "code",
   "execution_count": 33,
   "id": "agreed-registrar",
   "metadata": {},
   "outputs": [
    {
     "data": {
      "text/plain": [
       "499"
      ]
     },
     "execution_count": 33,
     "metadata": {},
     "output_type": "execute_result"
    }
   ],
   "source": [
    "korrekt_klassifizierte_faelle = anzahl_testdaten_gesamt - anzahl_fehler\n",
    "korrekt_klassifizierte_faelle"
   ]
  },
  {
   "cell_type": "code",
   "execution_count": 34,
   "id": "built-sustainability",
   "metadata": {},
   "outputs": [
    {
     "data": {
      "text/plain": [
       "69.88795518207283"
      ]
     },
     "execution_count": 34,
     "metadata": {},
     "output_type": "execute_result"
    }
   ],
   "source": [
    "korrekt_klassifiziert_prozent = (korrekt_klassifizierte_faelle / anzahl_testdaten_gesamt) * 100.0\n",
    "korrekt_klassifiziert_prozent"
   ]
  },
  {
   "cell_type": "markdown",
   "id": "diagnostic-cleanup",
   "metadata": {},
   "source": [
    "# Berechnung der Genauigkeit des Klassifikators\n",
    "\n",
    "Um die tatsächlichen Klassen mit den prädizierten Klassen des Modells komfortabel zu vergleichen und zu berechnen, wieviel Prozent richtig sind, bietet scikit-learn wieder eine hilfreiche Funktion, nämlich `accuracy_score()`:"
   ]
  },
  {
   "cell_type": "code",
   "execution_count": 35,
   "id": "western-cheese",
   "metadata": {},
   "outputs": [
    {
     "data": {
      "text/plain": [
       "0.5"
      ]
     },
     "execution_count": 35,
     "metadata": {},
     "output_type": "execute_result"
    }
   ],
   "source": [
    "from sklearn.metrics import accuracy_score\n",
    "\n",
    "bsp_y_pred  = [0, 1, 0, 1, 1, 1]\n",
    "bsp_y_train = [0, 1, 1, 0, 1, 0]\n",
    "accuracy_score(bsp_y_train, bsp_y_pred)"
   ]
  },
  {
   "cell_type": "markdown",
   "id": "substantial-profession",
   "metadata": {},
   "source": [
    "In diesem kleinen Beispiel sind 0.5 = 50% der Daten richtig vorhergesagt, da von den 6 Prädiktionen 3 korrekt sind.\n",
    "\n",
    "Jetzt wenden wir diese Hilfsfunktion auf unsere prädizierten Daten `y_pred_train` und `y_train` an."
   ]
  },
  {
   "cell_type": "code",
   "execution_count": 36,
   "id": "lyric-doctrine",
   "metadata": {},
   "outputs": [
    {
     "data": {
      "text/plain": [
       "0.6988795518207283"
      ]
     },
     "execution_count": 36,
     "metadata": {},
     "output_type": "execute_result"
    }
   ],
   "source": [
    "accuracy_score(y_train, y_pred_train)"
   ]
  },
  {
   "cell_type": "markdown",
   "id": "derived-illustration",
   "metadata": {},
   "source": [
    "# Testen des Klassifikators auf frischen Testdaten\n",
    "\n",
    "Eine Korrektklassifikationsrate von knapp 70% ist schon mal deutlich besser als die Ratewahrscheinlichkeit von 50%. Da aber nach einer ersten einfachen Analyse festgestellt werden konnte, dass die Überlebenswahrscheinlichkeit pauschal 38% war bzw. die Sterblichkeitsrate 62%, wäre ein Rateansatz bei dem bei jedem Passagier pauschal gesagt wird, dass er nicht überleben wird, bereits in 62% der Fälle richtig. D.h. wir gewinnen durch die zusätzlichen Informationen in etwa 8% mehr korrekte Klassifikation als jemand der \"nur rät\".\n",
    "\n",
    "Um besser zu werden benötigen wir wahrscheinlich noch mehr Informationen über den Passagier, z.B. sein Geschlecht.\n",
    "\n",
    "Aber jetzt wollen wir mal testen, wie gut der Klassifikator wirklich für frische Daten ist, die nicht in das Training miteingeflossen sind.\n",
    "\n",
    "Dazu durchlaufen wir nochmal alle Schritte, trennen aber unsere Beispieldaten in zwei Teile: den ersten für das Training und den zweiten für das Testen."
   ]
  },
  {
   "cell_type": "code",
   "execution_count": 37,
   "id": "remarkable-mercy",
   "metadata": {},
   "outputs": [
    {
     "data": {
      "text/html": [
       "<div>\n",
       "<style scoped>\n",
       "    .dataframe tbody tr th:only-of-type {\n",
       "        vertical-align: middle;\n",
       "    }\n",
       "\n",
       "    .dataframe tbody tr th {\n",
       "        vertical-align: top;\n",
       "    }\n",
       "\n",
       "    .dataframe thead th {\n",
       "        text-align: right;\n",
       "    }\n",
       "</style>\n",
       "<table border=\"1\" class=\"dataframe\">\n",
       "  <thead>\n",
       "    <tr style=\"text-align: right;\">\n",
       "      <th></th>\n",
       "      <th>Age</th>\n",
       "      <th>Pclass</th>\n",
       "      <th>Survived</th>\n",
       "    </tr>\n",
       "  </thead>\n",
       "  <tbody>\n",
       "    <tr>\n",
       "      <th>0</th>\n",
       "      <td>22.0</td>\n",
       "      <td>3</td>\n",
       "      <td>0</td>\n",
       "    </tr>\n",
       "    <tr>\n",
       "      <th>1</th>\n",
       "      <td>38.0</td>\n",
       "      <td>1</td>\n",
       "      <td>1</td>\n",
       "    </tr>\n",
       "    <tr>\n",
       "      <th>2</th>\n",
       "      <td>26.0</td>\n",
       "      <td>3</td>\n",
       "      <td>1</td>\n",
       "    </tr>\n",
       "    <tr>\n",
       "      <th>3</th>\n",
       "      <td>35.0</td>\n",
       "      <td>1</td>\n",
       "      <td>1</td>\n",
       "    </tr>\n",
       "    <tr>\n",
       "      <th>4</th>\n",
       "      <td>35.0</td>\n",
       "      <td>3</td>\n",
       "      <td>0</td>\n",
       "    </tr>\n",
       "    <tr>\n",
       "      <th>...</th>\n",
       "      <td>...</td>\n",
       "      <td>...</td>\n",
       "      <td>...</td>\n",
       "    </tr>\n",
       "    <tr>\n",
       "      <th>885</th>\n",
       "      <td>39.0</td>\n",
       "      <td>3</td>\n",
       "      <td>0</td>\n",
       "    </tr>\n",
       "    <tr>\n",
       "      <th>886</th>\n",
       "      <td>27.0</td>\n",
       "      <td>2</td>\n",
       "      <td>0</td>\n",
       "    </tr>\n",
       "    <tr>\n",
       "      <th>887</th>\n",
       "      <td>19.0</td>\n",
       "      <td>1</td>\n",
       "      <td>1</td>\n",
       "    </tr>\n",
       "    <tr>\n",
       "      <th>889</th>\n",
       "      <td>26.0</td>\n",
       "      <td>1</td>\n",
       "      <td>1</td>\n",
       "    </tr>\n",
       "    <tr>\n",
       "      <th>890</th>\n",
       "      <td>32.0</td>\n",
       "      <td>3</td>\n",
       "      <td>0</td>\n",
       "    </tr>\n",
       "  </tbody>\n",
       "</table>\n",
       "<p>714 rows × 3 columns</p>\n",
       "</div>"
      ],
      "text/plain": [
       "      Age  Pclass  Survived\n",
       "0    22.0       3         0\n",
       "1    38.0       1         1\n",
       "2    26.0       3         1\n",
       "3    35.0       1         1\n",
       "4    35.0       3         0\n",
       "..    ...     ...       ...\n",
       "885  39.0       3         0\n",
       "886  27.0       2         0\n",
       "887  19.0       1         1\n",
       "889  26.0       1         1\n",
       "890  32.0       3         0\n",
       "\n",
       "[714 rows x 3 columns]"
      ]
     },
     "execution_count": 37,
     "metadata": {},
     "output_type": "execute_result"
    }
   ],
   "source": [
    "df_train_small_filtered"
   ]
  },
  {
   "cell_type": "code",
   "execution_count": 38,
   "id": "contained-complement",
   "metadata": {},
   "outputs": [],
   "source": [
    "x = df_train_small_filtered[ [\"Age\", \"Pclass\"] ].values\n",
    "y = df_train_small_filtered[ \"Survived\" ].values"
   ]
  },
  {
   "cell_type": "code",
   "execution_count": 39,
   "id": "expanded-thong",
   "metadata": {},
   "outputs": [
    {
     "data": {
      "text/plain": [
       "(714, 2)"
      ]
     },
     "execution_count": 39,
     "metadata": {},
     "output_type": "execute_result"
    }
   ],
   "source": [
    "x.shape"
   ]
  },
  {
   "cell_type": "code",
   "execution_count": 40,
   "id": "mighty-astronomy",
   "metadata": {},
   "outputs": [
    {
     "data": {
      "text/plain": [
       "(714,)"
      ]
     },
     "execution_count": 40,
     "metadata": {},
     "output_type": "execute_result"
    }
   ],
   "source": [
    "y.shape"
   ]
  },
  {
   "cell_type": "code",
   "execution_count": 41,
   "id": "hazardous-coaching",
   "metadata": {},
   "outputs": [],
   "source": [
    "scaler = StandardScaler()\n",
    "x_scaled = scaler.fit_transform(x)"
   ]
  },
  {
   "cell_type": "markdown",
   "id": "labeled-coupon",
   "metadata": {},
   "source": [
    "Von unseren 714 Beispielpassagieren nehmen wir jetzt im Folgenden mittels der hilfreichen Methode `train_test_split()` 80% für das Training und 20% für das Testen:"
   ]
  },
  {
   "cell_type": "code",
   "execution_count": 42,
   "id": "secure-field",
   "metadata": {},
   "outputs": [],
   "source": [
    "from sklearn.model_selection import train_test_split\n",
    "\n",
    "x_train, x_test, y_train, y_test = train_test_split(x_scaled, y, test_size = 0.2, random_state = 0)"
   ]
  },
  {
   "cell_type": "code",
   "execution_count": 43,
   "id": "seasonal-seminar",
   "metadata": {},
   "outputs": [
    {
     "data": {
      "text/plain": [
       "(571, 2)"
      ]
     },
     "execution_count": 43,
     "metadata": {},
     "output_type": "execute_result"
    }
   ],
   "source": [
    "x_train.shape"
   ]
  },
  {
   "cell_type": "code",
   "execution_count": 44,
   "id": "distinct-bonus",
   "metadata": {},
   "outputs": [
    {
     "data": {
      "text/plain": [
       "(571,)"
      ]
     },
     "execution_count": 44,
     "metadata": {},
     "output_type": "execute_result"
    }
   ],
   "source": [
    "y_train.shape"
   ]
  },
  {
   "cell_type": "code",
   "execution_count": 45,
   "id": "extreme-malaysia",
   "metadata": {},
   "outputs": [
    {
     "data": {
      "text/plain": [
       "(143, 2)"
      ]
     },
     "execution_count": 45,
     "metadata": {},
     "output_type": "execute_result"
    }
   ],
   "source": [
    "x_test.shape"
   ]
  },
  {
   "cell_type": "code",
   "execution_count": 46,
   "id": "found-opera",
   "metadata": {},
   "outputs": [
    {
     "data": {
      "text/plain": [
       "(143,)"
      ]
     },
     "execution_count": 46,
     "metadata": {},
     "output_type": "execute_result"
    }
   ],
   "source": [
    "y_test.shape"
   ]
  },
  {
   "cell_type": "markdown",
   "id": "blocked-accessory",
   "metadata": {},
   "source": [
    "Wir lernen jetzt einen neuen *Naive Bayes Klassifikator*:"
   ]
  },
  {
   "cell_type": "code",
   "execution_count": 47,
   "id": "norwegian-gospel",
   "metadata": {},
   "outputs": [
    {
     "data": {
      "text/plain": [
       "GaussianNB()"
      ]
     },
     "execution_count": 47,
     "metadata": {},
     "output_type": "execute_result"
    }
   ],
   "source": [
    "from sklearn.naive_bayes import GaussianNB\n",
    "\n",
    "classifier = GaussianNB()\n",
    "classifier.fit(x_train, y_train)"
   ]
  },
  {
   "cell_type": "markdown",
   "id": "comfortable-shade",
   "metadata": {},
   "source": [
    "Dieses Mal testen wir den neuen Klassifizierer auf den *Testdaten* und nicht den *Trainingsdaten*:"
   ]
  },
  {
   "cell_type": "code",
   "execution_count": 48,
   "id": "fuzzy-border",
   "metadata": {},
   "outputs": [],
   "source": [
    "y_pred_test = classifier.predict(x_test)"
   ]
  },
  {
   "cell_type": "code",
   "execution_count": 49,
   "id": "broad-explanation",
   "metadata": {},
   "outputs": [
    {
     "data": {
      "text/plain": [
       "array([0, 1, 1, 0, 1, 0, 0, 1, 1, 1, 0, 0, 0, 0, 0, 0, 0, 0, 0, 0, 0, 0,\n",
       "       0, 0, 0, 0, 1, 0, 1, 0, 0, 0, 0, 1, 0, 0, 1, 1, 0, 0, 0, 0, 1, 1,\n",
       "       0, 0, 0, 0, 0, 0, 1, 0, 0, 1, 0, 0, 0, 0, 0, 1, 1, 0, 0, 0, 1, 0,\n",
       "       1, 0, 1, 1, 0, 1, 0, 1, 1, 1, 0, 0, 0, 0, 0, 1, 1, 0, 1, 0, 0, 0,\n",
       "       1, 0, 1, 0, 0, 0, 1, 0, 1, 0, 0, 0, 0, 1, 0, 1, 1, 0, 1, 1, 1, 0,\n",
       "       0, 0, 0, 0, 1, 0, 0, 0, 0, 0, 0, 0, 0, 0, 1, 0, 0, 0, 0, 0, 1, 0,\n",
       "       1, 1, 1, 0, 1, 0, 0, 0, 0, 0, 0])"
      ]
     },
     "execution_count": 49,
     "metadata": {},
     "output_type": "execute_result"
    }
   ],
   "source": [
    "y_pred_test"
   ]
  },
  {
   "cell_type": "code",
   "execution_count": 50,
   "id": "activated-halifax",
   "metadata": {},
   "outputs": [
    {
     "data": {
      "text/plain": [
       "array([0, 0, 1, 0, 1, 0, 0, 0, 0, 0, 0, 1, 1, 0, 0, 1, 0, 1, 1, 0, 0, 1,\n",
       "       1, 0, 0, 1, 1, 0, 1, 0, 0, 0, 0, 1, 0, 0, 1, 1, 0, 1, 0, 1, 1, 0,\n",
       "       0, 1, 1, 0, 0, 0, 0, 1, 0, 1, 0, 0, 1, 0, 1, 0, 0, 0, 0, 0, 1, 0,\n",
       "       1, 0, 0, 1, 0, 1, 1, 1, 1, 1, 1, 0, 0, 0, 1, 1, 0, 1, 1, 0, 0, 0,\n",
       "       1, 0, 1, 0, 1, 0, 1, 0, 1, 0, 0, 0, 1, 1, 1, 0, 1, 1, 1, 0, 1, 0,\n",
       "       0, 0, 0, 0, 0, 0, 1, 0, 1, 1, 0, 1, 0, 0, 0, 1, 1, 0, 0, 1, 1, 1,\n",
       "       0, 1, 1, 0, 1, 1, 0, 0, 1, 0, 1])"
      ]
     },
     "execution_count": 50,
     "metadata": {},
     "output_type": "execute_result"
    }
   ],
   "source": [
    "y_test"
   ]
  },
  {
   "cell_type": "markdown",
   "id": "composed-sudan",
   "metadata": {},
   "source": [
    "Jetzt berechnen wir wieder wie gut der Klassifikator ist:"
   ]
  },
  {
   "cell_type": "code",
   "execution_count": 51,
   "id": "floppy-mechanism",
   "metadata": {},
   "outputs": [
    {
     "data": {
      "text/plain": [
       "0.6573426573426573"
      ]
     },
     "execution_count": 51,
     "metadata": {},
     "output_type": "execute_result"
    }
   ],
   "source": [
    "accuracy_score(y_test, y_pred_test)"
   ]
  },
  {
   "cell_type": "markdown",
   "id": "premier-lunch",
   "metadata": {},
   "source": [
    "Der neue Klassifikator, der 20% weniger Trainingsdaten erhalten hat, damit wir noch ein paar frische Testdaten zurück halten, hat nun eine reduzierte Genauigkeit von 65%."
   ]
  },
  {
   "cell_type": "markdown",
   "id": "familiar-yugoslavia",
   "metadata": {},
   "source": [
    "# Mehr Inputdaten\n",
    "\n",
    "Wir wollen schauen, ob der *Naive Bayes Klassifikator* mit mehr Merkmalen als nur dem Alter und der Passagierklasse als Input noch besser werden kann."
   ]
  },
  {
   "cell_type": "code",
   "execution_count": 52,
   "id": "alternative-monitor",
   "metadata": {},
   "outputs": [
    {
     "data": {
      "text/html": [
       "<div>\n",
       "<style scoped>\n",
       "    .dataframe tbody tr th:only-of-type {\n",
       "        vertical-align: middle;\n",
       "    }\n",
       "\n",
       "    .dataframe tbody tr th {\n",
       "        vertical-align: top;\n",
       "    }\n",
       "\n",
       "    .dataframe thead th {\n",
       "        text-align: right;\n",
       "    }\n",
       "</style>\n",
       "<table border=\"1\" class=\"dataframe\">\n",
       "  <thead>\n",
       "    <tr style=\"text-align: right;\">\n",
       "      <th></th>\n",
       "      <th>PassengerId</th>\n",
       "      <th>Survived</th>\n",
       "      <th>Pclass</th>\n",
       "      <th>Name</th>\n",
       "      <th>Sex</th>\n",
       "      <th>Age</th>\n",
       "      <th>SibSp</th>\n",
       "      <th>Parch</th>\n",
       "      <th>Ticket</th>\n",
       "      <th>Fare</th>\n",
       "      <th>Cabin</th>\n",
       "      <th>Embarked</th>\n",
       "    </tr>\n",
       "  </thead>\n",
       "  <tbody>\n",
       "    <tr>\n",
       "      <th>0</th>\n",
       "      <td>1</td>\n",
       "      <td>0</td>\n",
       "      <td>3</td>\n",
       "      <td>Braund, Mr. Owen Harris</td>\n",
       "      <td>male</td>\n",
       "      <td>22.0</td>\n",
       "      <td>1</td>\n",
       "      <td>0</td>\n",
       "      <td>A/5 21171</td>\n",
       "      <td>7.2500</td>\n",
       "      <td>NaN</td>\n",
       "      <td>S</td>\n",
       "    </tr>\n",
       "    <tr>\n",
       "      <th>1</th>\n",
       "      <td>2</td>\n",
       "      <td>1</td>\n",
       "      <td>1</td>\n",
       "      <td>Cumings, Mrs. John Bradley (Florence Briggs Th...</td>\n",
       "      <td>female</td>\n",
       "      <td>38.0</td>\n",
       "      <td>1</td>\n",
       "      <td>0</td>\n",
       "      <td>PC 17599</td>\n",
       "      <td>71.2833</td>\n",
       "      <td>C85</td>\n",
       "      <td>C</td>\n",
       "    </tr>\n",
       "    <tr>\n",
       "      <th>2</th>\n",
       "      <td>3</td>\n",
       "      <td>1</td>\n",
       "      <td>3</td>\n",
       "      <td>Heikkinen, Miss. Laina</td>\n",
       "      <td>female</td>\n",
       "      <td>26.0</td>\n",
       "      <td>0</td>\n",
       "      <td>0</td>\n",
       "      <td>STON/O2. 3101282</td>\n",
       "      <td>7.9250</td>\n",
       "      <td>NaN</td>\n",
       "      <td>S</td>\n",
       "    </tr>\n",
       "    <tr>\n",
       "      <th>3</th>\n",
       "      <td>4</td>\n",
       "      <td>1</td>\n",
       "      <td>1</td>\n",
       "      <td>Futrelle, Mrs. Jacques Heath (Lily May Peel)</td>\n",
       "      <td>female</td>\n",
       "      <td>35.0</td>\n",
       "      <td>1</td>\n",
       "      <td>0</td>\n",
       "      <td>113803</td>\n",
       "      <td>53.1000</td>\n",
       "      <td>C123</td>\n",
       "      <td>S</td>\n",
       "    </tr>\n",
       "    <tr>\n",
       "      <th>4</th>\n",
       "      <td>5</td>\n",
       "      <td>0</td>\n",
       "      <td>3</td>\n",
       "      <td>Allen, Mr. William Henry</td>\n",
       "      <td>male</td>\n",
       "      <td>35.0</td>\n",
       "      <td>0</td>\n",
       "      <td>0</td>\n",
       "      <td>373450</td>\n",
       "      <td>8.0500</td>\n",
       "      <td>NaN</td>\n",
       "      <td>S</td>\n",
       "    </tr>\n",
       "    <tr>\n",
       "      <th>...</th>\n",
       "      <td>...</td>\n",
       "      <td>...</td>\n",
       "      <td>...</td>\n",
       "      <td>...</td>\n",
       "      <td>...</td>\n",
       "      <td>...</td>\n",
       "      <td>...</td>\n",
       "      <td>...</td>\n",
       "      <td>...</td>\n",
       "      <td>...</td>\n",
       "      <td>...</td>\n",
       "      <td>...</td>\n",
       "    </tr>\n",
       "    <tr>\n",
       "      <th>886</th>\n",
       "      <td>887</td>\n",
       "      <td>0</td>\n",
       "      <td>2</td>\n",
       "      <td>Montvila, Rev. Juozas</td>\n",
       "      <td>male</td>\n",
       "      <td>27.0</td>\n",
       "      <td>0</td>\n",
       "      <td>0</td>\n",
       "      <td>211536</td>\n",
       "      <td>13.0000</td>\n",
       "      <td>NaN</td>\n",
       "      <td>S</td>\n",
       "    </tr>\n",
       "    <tr>\n",
       "      <th>887</th>\n",
       "      <td>888</td>\n",
       "      <td>1</td>\n",
       "      <td>1</td>\n",
       "      <td>Graham, Miss. Margaret Edith</td>\n",
       "      <td>female</td>\n",
       "      <td>19.0</td>\n",
       "      <td>0</td>\n",
       "      <td>0</td>\n",
       "      <td>112053</td>\n",
       "      <td>30.0000</td>\n",
       "      <td>B42</td>\n",
       "      <td>S</td>\n",
       "    </tr>\n",
       "    <tr>\n",
       "      <th>888</th>\n",
       "      <td>889</td>\n",
       "      <td>0</td>\n",
       "      <td>3</td>\n",
       "      <td>Johnston, Miss. Catherine Helen \"Carrie\"</td>\n",
       "      <td>female</td>\n",
       "      <td>NaN</td>\n",
       "      <td>1</td>\n",
       "      <td>2</td>\n",
       "      <td>W./C. 6607</td>\n",
       "      <td>23.4500</td>\n",
       "      <td>NaN</td>\n",
       "      <td>S</td>\n",
       "    </tr>\n",
       "    <tr>\n",
       "      <th>889</th>\n",
       "      <td>890</td>\n",
       "      <td>1</td>\n",
       "      <td>1</td>\n",
       "      <td>Behr, Mr. Karl Howell</td>\n",
       "      <td>male</td>\n",
       "      <td>26.0</td>\n",
       "      <td>0</td>\n",
       "      <td>0</td>\n",
       "      <td>111369</td>\n",
       "      <td>30.0000</td>\n",
       "      <td>C148</td>\n",
       "      <td>C</td>\n",
       "    </tr>\n",
       "    <tr>\n",
       "      <th>890</th>\n",
       "      <td>891</td>\n",
       "      <td>0</td>\n",
       "      <td>3</td>\n",
       "      <td>Dooley, Mr. Patrick</td>\n",
       "      <td>male</td>\n",
       "      <td>32.0</td>\n",
       "      <td>0</td>\n",
       "      <td>0</td>\n",
       "      <td>370376</td>\n",
       "      <td>7.7500</td>\n",
       "      <td>NaN</td>\n",
       "      <td>Q</td>\n",
       "    </tr>\n",
       "  </tbody>\n",
       "</table>\n",
       "<p>891 rows × 12 columns</p>\n",
       "</div>"
      ],
      "text/plain": [
       "     PassengerId  Survived  Pclass  \\\n",
       "0              1         0       3   \n",
       "1              2         1       1   \n",
       "2              3         1       3   \n",
       "3              4         1       1   \n",
       "4              5         0       3   \n",
       "..           ...       ...     ...   \n",
       "886          887         0       2   \n",
       "887          888         1       1   \n",
       "888          889         0       3   \n",
       "889          890         1       1   \n",
       "890          891         0       3   \n",
       "\n",
       "                                                  Name     Sex   Age  SibSp  \\\n",
       "0                              Braund, Mr. Owen Harris    male  22.0      1   \n",
       "1    Cumings, Mrs. John Bradley (Florence Briggs Th...  female  38.0      1   \n",
       "2                               Heikkinen, Miss. Laina  female  26.0      0   \n",
       "3         Futrelle, Mrs. Jacques Heath (Lily May Peel)  female  35.0      1   \n",
       "4                             Allen, Mr. William Henry    male  35.0      0   \n",
       "..                                                 ...     ...   ...    ...   \n",
       "886                              Montvila, Rev. Juozas    male  27.0      0   \n",
       "887                       Graham, Miss. Margaret Edith  female  19.0      0   \n",
       "888           Johnston, Miss. Catherine Helen \"Carrie\"  female   NaN      1   \n",
       "889                              Behr, Mr. Karl Howell    male  26.0      0   \n",
       "890                                Dooley, Mr. Patrick    male  32.0      0   \n",
       "\n",
       "     Parch            Ticket     Fare Cabin Embarked  \n",
       "0        0         A/5 21171   7.2500   NaN        S  \n",
       "1        0          PC 17599  71.2833   C85        C  \n",
       "2        0  STON/O2. 3101282   7.9250   NaN        S  \n",
       "3        0            113803  53.1000  C123        S  \n",
       "4        0            373450   8.0500   NaN        S  \n",
       "..     ...               ...      ...   ...      ...  \n",
       "886      0            211536  13.0000   NaN        S  \n",
       "887      0            112053  30.0000   B42        S  \n",
       "888      2        W./C. 6607  23.4500   NaN        S  \n",
       "889      0            111369  30.0000  C148        C  \n",
       "890      0            370376   7.7500   NaN        Q  \n",
       "\n",
       "[891 rows x 12 columns]"
      ]
     },
     "execution_count": 52,
     "metadata": {},
     "output_type": "execute_result"
    }
   ],
   "source": [
    "df_train"
   ]
  },
  {
   "cell_type": "markdown",
   "id": "operating-given",
   "metadata": {},
   "source": [
    "Lassen Sie uns doch auch noch die Spalte über das Geschlecht des Passagiers hinzunehmen:"
   ]
  },
  {
   "cell_type": "code",
   "execution_count": 53,
   "id": "educational-repository",
   "metadata": {},
   "outputs": [],
   "source": [
    "df_train_small = df_train[ [\"Age\", \"Pclass\", \"Sex\", \"Survived\"] ]"
   ]
  },
  {
   "cell_type": "code",
   "execution_count": 54,
   "id": "mighty-learning",
   "metadata": {},
   "outputs": [
    {
     "data": {
      "text/html": [
       "<div>\n",
       "<style scoped>\n",
       "    .dataframe tbody tr th:only-of-type {\n",
       "        vertical-align: middle;\n",
       "    }\n",
       "\n",
       "    .dataframe tbody tr th {\n",
       "        vertical-align: top;\n",
       "    }\n",
       "\n",
       "    .dataframe thead th {\n",
       "        text-align: right;\n",
       "    }\n",
       "</style>\n",
       "<table border=\"1\" class=\"dataframe\">\n",
       "  <thead>\n",
       "    <tr style=\"text-align: right;\">\n",
       "      <th></th>\n",
       "      <th>Age</th>\n",
       "      <th>Pclass</th>\n",
       "      <th>Sex</th>\n",
       "      <th>Survived</th>\n",
       "    </tr>\n",
       "  </thead>\n",
       "  <tbody>\n",
       "    <tr>\n",
       "      <th>0</th>\n",
       "      <td>22.0</td>\n",
       "      <td>3</td>\n",
       "      <td>male</td>\n",
       "      <td>0</td>\n",
       "    </tr>\n",
       "    <tr>\n",
       "      <th>1</th>\n",
       "      <td>38.0</td>\n",
       "      <td>1</td>\n",
       "      <td>female</td>\n",
       "      <td>1</td>\n",
       "    </tr>\n",
       "    <tr>\n",
       "      <th>2</th>\n",
       "      <td>26.0</td>\n",
       "      <td>3</td>\n",
       "      <td>female</td>\n",
       "      <td>1</td>\n",
       "    </tr>\n",
       "    <tr>\n",
       "      <th>3</th>\n",
       "      <td>35.0</td>\n",
       "      <td>1</td>\n",
       "      <td>female</td>\n",
       "      <td>1</td>\n",
       "    </tr>\n",
       "    <tr>\n",
       "      <th>4</th>\n",
       "      <td>35.0</td>\n",
       "      <td>3</td>\n",
       "      <td>male</td>\n",
       "      <td>0</td>\n",
       "    </tr>\n",
       "    <tr>\n",
       "      <th>...</th>\n",
       "      <td>...</td>\n",
       "      <td>...</td>\n",
       "      <td>...</td>\n",
       "      <td>...</td>\n",
       "    </tr>\n",
       "    <tr>\n",
       "      <th>886</th>\n",
       "      <td>27.0</td>\n",
       "      <td>2</td>\n",
       "      <td>male</td>\n",
       "      <td>0</td>\n",
       "    </tr>\n",
       "    <tr>\n",
       "      <th>887</th>\n",
       "      <td>19.0</td>\n",
       "      <td>1</td>\n",
       "      <td>female</td>\n",
       "      <td>1</td>\n",
       "    </tr>\n",
       "    <tr>\n",
       "      <th>888</th>\n",
       "      <td>NaN</td>\n",
       "      <td>3</td>\n",
       "      <td>female</td>\n",
       "      <td>0</td>\n",
       "    </tr>\n",
       "    <tr>\n",
       "      <th>889</th>\n",
       "      <td>26.0</td>\n",
       "      <td>1</td>\n",
       "      <td>male</td>\n",
       "      <td>1</td>\n",
       "    </tr>\n",
       "    <tr>\n",
       "      <th>890</th>\n",
       "      <td>32.0</td>\n",
       "      <td>3</td>\n",
       "      <td>male</td>\n",
       "      <td>0</td>\n",
       "    </tr>\n",
       "  </tbody>\n",
       "</table>\n",
       "<p>891 rows × 4 columns</p>\n",
       "</div>"
      ],
      "text/plain": [
       "      Age  Pclass     Sex  Survived\n",
       "0    22.0       3    male         0\n",
       "1    38.0       1  female         1\n",
       "2    26.0       3  female         1\n",
       "3    35.0       1  female         1\n",
       "4    35.0       3    male         0\n",
       "..    ...     ...     ...       ...\n",
       "886  27.0       2    male         0\n",
       "887  19.0       1  female         1\n",
       "888   NaN       3  female         0\n",
       "889  26.0       1    male         1\n",
       "890  32.0       3    male         0\n",
       "\n",
       "[891 rows x 4 columns]"
      ]
     },
     "execution_count": 54,
     "metadata": {},
     "output_type": "execute_result"
    }
   ],
   "source": [
    "df_train_small"
   ]
  },
  {
   "cell_type": "markdown",
   "id": "regulated-conservative",
   "metadata": {},
   "source": [
    "Jetzt müssen wir aber noch etwas berücksichtigen: während das Alter und die Passagierklasse *numerische Merkmale* sind, ist das Geschlechtsmerkmal ein *kategorisches Merkmal*, das noch irgendwie numerisch für den Klassifikator repräsentiert werden muss.\n",
    "\n",
    "Pandas stellt dazu glücklicherweise eine nette Hilfsfunktion `get_dummies()` zur Verfügung:"
   ]
  },
  {
   "cell_type": "code",
   "execution_count": 55,
   "id": "accredited-globe",
   "metadata": {},
   "outputs": [
    {
     "data": {
      "text/html": [
       "<div>\n",
       "<style scoped>\n",
       "    .dataframe tbody tr th:only-of-type {\n",
       "        vertical-align: middle;\n",
       "    }\n",
       "\n",
       "    .dataframe tbody tr th {\n",
       "        vertical-align: top;\n",
       "    }\n",
       "\n",
       "    .dataframe thead th {\n",
       "        text-align: right;\n",
       "    }\n",
       "</style>\n",
       "<table border=\"1\" class=\"dataframe\">\n",
       "  <thead>\n",
       "    <tr style=\"text-align: right;\">\n",
       "      <th></th>\n",
       "      <th>Age</th>\n",
       "      <th>Pclass</th>\n",
       "      <th>Survived</th>\n",
       "      <th>Sex_female</th>\n",
       "      <th>Sex_male</th>\n",
       "    </tr>\n",
       "  </thead>\n",
       "  <tbody>\n",
       "    <tr>\n",
       "      <th>0</th>\n",
       "      <td>22.0</td>\n",
       "      <td>3</td>\n",
       "      <td>0</td>\n",
       "      <td>0</td>\n",
       "      <td>1</td>\n",
       "    </tr>\n",
       "    <tr>\n",
       "      <th>1</th>\n",
       "      <td>38.0</td>\n",
       "      <td>1</td>\n",
       "      <td>1</td>\n",
       "      <td>1</td>\n",
       "      <td>0</td>\n",
       "    </tr>\n",
       "    <tr>\n",
       "      <th>2</th>\n",
       "      <td>26.0</td>\n",
       "      <td>3</td>\n",
       "      <td>1</td>\n",
       "      <td>1</td>\n",
       "      <td>0</td>\n",
       "    </tr>\n",
       "    <tr>\n",
       "      <th>3</th>\n",
       "      <td>35.0</td>\n",
       "      <td>1</td>\n",
       "      <td>1</td>\n",
       "      <td>1</td>\n",
       "      <td>0</td>\n",
       "    </tr>\n",
       "    <tr>\n",
       "      <th>4</th>\n",
       "      <td>35.0</td>\n",
       "      <td>3</td>\n",
       "      <td>0</td>\n",
       "      <td>0</td>\n",
       "      <td>1</td>\n",
       "    </tr>\n",
       "    <tr>\n",
       "      <th>...</th>\n",
       "      <td>...</td>\n",
       "      <td>...</td>\n",
       "      <td>...</td>\n",
       "      <td>...</td>\n",
       "      <td>...</td>\n",
       "    </tr>\n",
       "    <tr>\n",
       "      <th>886</th>\n",
       "      <td>27.0</td>\n",
       "      <td>2</td>\n",
       "      <td>0</td>\n",
       "      <td>0</td>\n",
       "      <td>1</td>\n",
       "    </tr>\n",
       "    <tr>\n",
       "      <th>887</th>\n",
       "      <td>19.0</td>\n",
       "      <td>1</td>\n",
       "      <td>1</td>\n",
       "      <td>1</td>\n",
       "      <td>0</td>\n",
       "    </tr>\n",
       "    <tr>\n",
       "      <th>888</th>\n",
       "      <td>NaN</td>\n",
       "      <td>3</td>\n",
       "      <td>0</td>\n",
       "      <td>1</td>\n",
       "      <td>0</td>\n",
       "    </tr>\n",
       "    <tr>\n",
       "      <th>889</th>\n",
       "      <td>26.0</td>\n",
       "      <td>1</td>\n",
       "      <td>1</td>\n",
       "      <td>0</td>\n",
       "      <td>1</td>\n",
       "    </tr>\n",
       "    <tr>\n",
       "      <th>890</th>\n",
       "      <td>32.0</td>\n",
       "      <td>3</td>\n",
       "      <td>0</td>\n",
       "      <td>0</td>\n",
       "      <td>1</td>\n",
       "    </tr>\n",
       "  </tbody>\n",
       "</table>\n",
       "<p>891 rows × 5 columns</p>\n",
       "</div>"
      ],
      "text/plain": [
       "      Age  Pclass  Survived  Sex_female  Sex_male\n",
       "0    22.0       3         0           0         1\n",
       "1    38.0       1         1           1         0\n",
       "2    26.0       3         1           1         0\n",
       "3    35.0       1         1           1         0\n",
       "4    35.0       3         0           0         1\n",
       "..    ...     ...       ...         ...       ...\n",
       "886  27.0       2         0           0         1\n",
       "887  19.0       1         1           1         0\n",
       "888   NaN       3         0           1         0\n",
       "889  26.0       1         1           0         1\n",
       "890  32.0       3         0           0         1\n",
       "\n",
       "[891 rows x 5 columns]"
      ]
     },
     "execution_count": 55,
     "metadata": {},
     "output_type": "execute_result"
    }
   ],
   "source": [
    "df_train_small_onehot = pd.get_dummies(df_train_small, columns=[\"Sex\"])\n",
    "df_train_small_onehot"
   ]
  },
  {
   "cell_type": "markdown",
   "id": "promotional-highlight",
   "metadata": {},
   "source": [
    "Man sieht die Auswirkung ganz gut: aus einer Spalte `Sex` wurden zwei neue Spalten für die Kodierung des Geschlechts des Passagiers: `Sex_female` und `Sex_male`. Ist es ein Mann, steht in der Spalte `Sex_male` eine 1 und in `Sex_female` eine 0 und umgekehrt für Frauen. Es handelt sich um eine *one-hot Kodierung*.\n",
    "\n",
    "Jetzt müssen wir trotzdem wieder noch alle Beispiele mit Lücken in den Daten verwerfen:"
   ]
  },
  {
   "cell_type": "code",
   "execution_count": 56,
   "id": "bibliographic-vienna",
   "metadata": {},
   "outputs": [],
   "source": [
    "df_train_small_onehot_nanfiltered = df_train_small_onehot.dropna()"
   ]
  },
  {
   "cell_type": "code",
   "execution_count": 57,
   "id": "private-arrival",
   "metadata": {},
   "outputs": [],
   "source": [
    "x = df_train_small_onehot_nanfiltered[ [\"Age\", \"Pclass\", \"Sex_female\", \"Sex_male\"] ].values\n",
    "y = df_train_small_onehot_nanfiltered[ \"Survived\" ].values\n",
    "\n",
    "scaler = StandardScaler()\n",
    "x_scaled = scaler.fit_transform(x)\n",
    "\n",
    "x_train, x_test, y_train, y_test = train_test_split(x_scaled, y, test_size = 0.2, random_state = 0)"
   ]
  },
  {
   "cell_type": "markdown",
   "id": "popular-contribution",
   "metadata": {},
   "source": [
    "Jetzt haben wir also vier Inputs statt den bisherigen zwei, was sich in der Form (*Shape*) der Daten widerspiegelt:"
   ]
  },
  {
   "cell_type": "code",
   "execution_count": 58,
   "id": "negative-camcorder",
   "metadata": {},
   "outputs": [
    {
     "name": "stdout",
     "output_type": "stream",
     "text": [
      "(571, 4) (571,)\n"
     ]
    }
   ],
   "source": [
    "print(x_train.shape, y_train.shape)"
   ]
  },
  {
   "cell_type": "code",
   "execution_count": 59,
   "id": "blocked-power",
   "metadata": {},
   "outputs": [
    {
     "name": "stdout",
     "output_type": "stream",
     "text": [
      "(143, 4) (143,)\n"
     ]
    }
   ],
   "source": [
    "print(x_test.shape, y_test.shape)"
   ]
  },
  {
   "cell_type": "code",
   "execution_count": 60,
   "id": "accompanied-contrary",
   "metadata": {},
   "outputs": [],
   "source": [
    "from sklearn.naive_bayes import GaussianNB\n",
    "\n",
    "classifier = GaussianNB()\n",
    "\n",
    "classifier.fit(x_train, y_train)\n",
    "\n",
    "y_pred_test = classifier.predict(x_test)"
   ]
  },
  {
   "cell_type": "code",
   "execution_count": 61,
   "id": "korean-leeds",
   "metadata": {},
   "outputs": [
    {
     "data": {
      "text/plain": [
       "0.7972027972027972"
      ]
     },
     "execution_count": 61,
     "metadata": {},
     "output_type": "execute_result"
    }
   ],
   "source": [
    "accuracy_score(y_test, y_pred_test)"
   ]
  },
  {
   "cell_type": "markdown",
   "id": "headed-incident",
   "metadata": {},
   "source": [
    "Wow! Das hat es echt gebracht! Die Korrekt-Klassifikationsrate ist stark gestiegen! Sie beträgt nun 79%. Vermutlich weil ein Geschlecht eher überlebt hat als das andere?"
   ]
  },
  {
   "cell_type": "markdown",
   "id": "dated-information",
   "metadata": {},
   "source": [
    "# \"Frauen und Kinder zuerst in die Boote\""
   ]
  },
  {
   "cell_type": "markdown",
   "id": "congressional-praise",
   "metadata": {},
   "source": [
    "Lassen Sie uns der Sache auf den Grund gehen. Unsere Daten auf denen wir den *Naive Bayes Klassifikator* stehen originär in dieser Pandas-Tabelle:"
   ]
  },
  {
   "cell_type": "code",
   "execution_count": 65,
   "id": "painful-corner",
   "metadata": {},
   "outputs": [
    {
     "data": {
      "text/html": [
       "<div>\n",
       "<style scoped>\n",
       "    .dataframe tbody tr th:only-of-type {\n",
       "        vertical-align: middle;\n",
       "    }\n",
       "\n",
       "    .dataframe tbody tr th {\n",
       "        vertical-align: top;\n",
       "    }\n",
       "\n",
       "    .dataframe thead th {\n",
       "        text-align: right;\n",
       "    }\n",
       "</style>\n",
       "<table border=\"1\" class=\"dataframe\">\n",
       "  <thead>\n",
       "    <tr style=\"text-align: right;\">\n",
       "      <th></th>\n",
       "      <th>Age</th>\n",
       "      <th>Pclass</th>\n",
       "      <th>Survived</th>\n",
       "      <th>Sex_female</th>\n",
       "      <th>Sex_male</th>\n",
       "    </tr>\n",
       "  </thead>\n",
       "  <tbody>\n",
       "    <tr>\n",
       "      <th>0</th>\n",
       "      <td>22.0</td>\n",
       "      <td>3</td>\n",
       "      <td>0</td>\n",
       "      <td>0</td>\n",
       "      <td>1</td>\n",
       "    </tr>\n",
       "    <tr>\n",
       "      <th>1</th>\n",
       "      <td>38.0</td>\n",
       "      <td>1</td>\n",
       "      <td>1</td>\n",
       "      <td>1</td>\n",
       "      <td>0</td>\n",
       "    </tr>\n",
       "    <tr>\n",
       "      <th>2</th>\n",
       "      <td>26.0</td>\n",
       "      <td>3</td>\n",
       "      <td>1</td>\n",
       "      <td>1</td>\n",
       "      <td>0</td>\n",
       "    </tr>\n",
       "    <tr>\n",
       "      <th>3</th>\n",
       "      <td>35.0</td>\n",
       "      <td>1</td>\n",
       "      <td>1</td>\n",
       "      <td>1</td>\n",
       "      <td>0</td>\n",
       "    </tr>\n",
       "    <tr>\n",
       "      <th>4</th>\n",
       "      <td>35.0</td>\n",
       "      <td>3</td>\n",
       "      <td>0</td>\n",
       "      <td>0</td>\n",
       "      <td>1</td>\n",
       "    </tr>\n",
       "    <tr>\n",
       "      <th>...</th>\n",
       "      <td>...</td>\n",
       "      <td>...</td>\n",
       "      <td>...</td>\n",
       "      <td>...</td>\n",
       "      <td>...</td>\n",
       "    </tr>\n",
       "    <tr>\n",
       "      <th>885</th>\n",
       "      <td>39.0</td>\n",
       "      <td>3</td>\n",
       "      <td>0</td>\n",
       "      <td>1</td>\n",
       "      <td>0</td>\n",
       "    </tr>\n",
       "    <tr>\n",
       "      <th>886</th>\n",
       "      <td>27.0</td>\n",
       "      <td>2</td>\n",
       "      <td>0</td>\n",
       "      <td>0</td>\n",
       "      <td>1</td>\n",
       "    </tr>\n",
       "    <tr>\n",
       "      <th>887</th>\n",
       "      <td>19.0</td>\n",
       "      <td>1</td>\n",
       "      <td>1</td>\n",
       "      <td>1</td>\n",
       "      <td>0</td>\n",
       "    </tr>\n",
       "    <tr>\n",
       "      <th>889</th>\n",
       "      <td>26.0</td>\n",
       "      <td>1</td>\n",
       "      <td>1</td>\n",
       "      <td>0</td>\n",
       "      <td>1</td>\n",
       "    </tr>\n",
       "    <tr>\n",
       "      <th>890</th>\n",
       "      <td>32.0</td>\n",
       "      <td>3</td>\n",
       "      <td>0</td>\n",
       "      <td>0</td>\n",
       "      <td>1</td>\n",
       "    </tr>\n",
       "  </tbody>\n",
       "</table>\n",
       "<p>714 rows × 5 columns</p>\n",
       "</div>"
      ],
      "text/plain": [
       "      Age  Pclass  Survived  Sex_female  Sex_male\n",
       "0    22.0       3         0           0         1\n",
       "1    38.0       1         1           1         0\n",
       "2    26.0       3         1           1         0\n",
       "3    35.0       1         1           1         0\n",
       "4    35.0       3         0           0         1\n",
       "..    ...     ...       ...         ...       ...\n",
       "885  39.0       3         0           1         0\n",
       "886  27.0       2         0           0         1\n",
       "887  19.0       1         1           1         0\n",
       "889  26.0       1         1           0         1\n",
       "890  32.0       3         0           0         1\n",
       "\n",
       "[714 rows x 5 columns]"
      ]
     },
     "execution_count": 65,
     "metadata": {},
     "output_type": "execute_result"
    }
   ],
   "source": [
    "d = df_train_small_onehot_nanfiltered\n",
    "d"
   ]
  },
  {
   "cell_type": "markdown",
   "id": "danish-saudi",
   "metadata": {},
   "source": [
    "Mit folgendem Ausdruck können wir zählen wie oft Passagiere Frauen sind und überlebt haben:"
   ]
  },
  {
   "cell_type": "code",
   "execution_count": 66,
   "id": "binary-performer",
   "metadata": {},
   "outputs": [],
   "source": [
    "tabelle_frauen_die_ueberlebten = d[ (d[\"Sex_female\"]==1) & (d[\"Survived\"]==1) ]"
   ]
  },
  {
   "cell_type": "code",
   "execution_count": 67,
   "id": "spectacular-compensation",
   "metadata": {},
   "outputs": [
    {
     "data": {
      "text/html": [
       "<div>\n",
       "<style scoped>\n",
       "    .dataframe tbody tr th:only-of-type {\n",
       "        vertical-align: middle;\n",
       "    }\n",
       "\n",
       "    .dataframe tbody tr th {\n",
       "        vertical-align: top;\n",
       "    }\n",
       "\n",
       "    .dataframe thead th {\n",
       "        text-align: right;\n",
       "    }\n",
       "</style>\n",
       "<table border=\"1\" class=\"dataframe\">\n",
       "  <thead>\n",
       "    <tr style=\"text-align: right;\">\n",
       "      <th></th>\n",
       "      <th>Age</th>\n",
       "      <th>Pclass</th>\n",
       "      <th>Survived</th>\n",
       "      <th>Sex_female</th>\n",
       "      <th>Sex_male</th>\n",
       "    </tr>\n",
       "  </thead>\n",
       "  <tbody>\n",
       "    <tr>\n",
       "      <th>1</th>\n",
       "      <td>38.0</td>\n",
       "      <td>1</td>\n",
       "      <td>1</td>\n",
       "      <td>1</td>\n",
       "      <td>0</td>\n",
       "    </tr>\n",
       "    <tr>\n",
       "      <th>2</th>\n",
       "      <td>26.0</td>\n",
       "      <td>3</td>\n",
       "      <td>1</td>\n",
       "      <td>1</td>\n",
       "      <td>0</td>\n",
       "    </tr>\n",
       "    <tr>\n",
       "      <th>3</th>\n",
       "      <td>35.0</td>\n",
       "      <td>1</td>\n",
       "      <td>1</td>\n",
       "      <td>1</td>\n",
       "      <td>0</td>\n",
       "    </tr>\n",
       "    <tr>\n",
       "      <th>8</th>\n",
       "      <td>27.0</td>\n",
       "      <td>3</td>\n",
       "      <td>1</td>\n",
       "      <td>1</td>\n",
       "      <td>0</td>\n",
       "    </tr>\n",
       "    <tr>\n",
       "      <th>9</th>\n",
       "      <td>14.0</td>\n",
       "      <td>2</td>\n",
       "      <td>1</td>\n",
       "      <td>1</td>\n",
       "      <td>0</td>\n",
       "    </tr>\n",
       "    <tr>\n",
       "      <th>...</th>\n",
       "      <td>...</td>\n",
       "      <td>...</td>\n",
       "      <td>...</td>\n",
       "      <td>...</td>\n",
       "      <td>...</td>\n",
       "    </tr>\n",
       "    <tr>\n",
       "      <th>874</th>\n",
       "      <td>28.0</td>\n",
       "      <td>2</td>\n",
       "      <td>1</td>\n",
       "      <td>1</td>\n",
       "      <td>0</td>\n",
       "    </tr>\n",
       "    <tr>\n",
       "      <th>875</th>\n",
       "      <td>15.0</td>\n",
       "      <td>3</td>\n",
       "      <td>1</td>\n",
       "      <td>1</td>\n",
       "      <td>0</td>\n",
       "    </tr>\n",
       "    <tr>\n",
       "      <th>879</th>\n",
       "      <td>56.0</td>\n",
       "      <td>1</td>\n",
       "      <td>1</td>\n",
       "      <td>1</td>\n",
       "      <td>0</td>\n",
       "    </tr>\n",
       "    <tr>\n",
       "      <th>880</th>\n",
       "      <td>25.0</td>\n",
       "      <td>2</td>\n",
       "      <td>1</td>\n",
       "      <td>1</td>\n",
       "      <td>0</td>\n",
       "    </tr>\n",
       "    <tr>\n",
       "      <th>887</th>\n",
       "      <td>19.0</td>\n",
       "      <td>1</td>\n",
       "      <td>1</td>\n",
       "      <td>1</td>\n",
       "      <td>0</td>\n",
       "    </tr>\n",
       "  </tbody>\n",
       "</table>\n",
       "<p>197 rows × 5 columns</p>\n",
       "</div>"
      ],
      "text/plain": [
       "      Age  Pclass  Survived  Sex_female  Sex_male\n",
       "1    38.0       1         1           1         0\n",
       "2    26.0       3         1           1         0\n",
       "3    35.0       1         1           1         0\n",
       "8    27.0       3         1           1         0\n",
       "9    14.0       2         1           1         0\n",
       "..    ...     ...       ...         ...       ...\n",
       "874  28.0       2         1           1         0\n",
       "875  15.0       3         1           1         0\n",
       "879  56.0       1         1           1         0\n",
       "880  25.0       2         1           1         0\n",
       "887  19.0       1         1           1         0\n",
       "\n",
       "[197 rows x 5 columns]"
      ]
     },
     "execution_count": 67,
     "metadata": {},
     "output_type": "execute_result"
    }
   ],
   "source": [
    "tabelle_frauen_die_ueberlebten"
   ]
  },
  {
   "cell_type": "code",
   "execution_count": 69,
   "id": "recreational-norwegian",
   "metadata": {},
   "outputs": [],
   "source": [
    "tabelle_frauen = d[ d[\"Sex_female\"] == 1 ]"
   ]
  },
  {
   "cell_type": "code",
   "execution_count": 70,
   "id": "creative-large",
   "metadata": {},
   "outputs": [
    {
     "data": {
      "text/html": [
       "<div>\n",
       "<style scoped>\n",
       "    .dataframe tbody tr th:only-of-type {\n",
       "        vertical-align: middle;\n",
       "    }\n",
       "\n",
       "    .dataframe tbody tr th {\n",
       "        vertical-align: top;\n",
       "    }\n",
       "\n",
       "    .dataframe thead th {\n",
       "        text-align: right;\n",
       "    }\n",
       "</style>\n",
       "<table border=\"1\" class=\"dataframe\">\n",
       "  <thead>\n",
       "    <tr style=\"text-align: right;\">\n",
       "      <th></th>\n",
       "      <th>Age</th>\n",
       "      <th>Pclass</th>\n",
       "      <th>Survived</th>\n",
       "      <th>Sex_female</th>\n",
       "      <th>Sex_male</th>\n",
       "    </tr>\n",
       "  </thead>\n",
       "  <tbody>\n",
       "    <tr>\n",
       "      <th>1</th>\n",
       "      <td>38.0</td>\n",
       "      <td>1</td>\n",
       "      <td>1</td>\n",
       "      <td>1</td>\n",
       "      <td>0</td>\n",
       "    </tr>\n",
       "    <tr>\n",
       "      <th>2</th>\n",
       "      <td>26.0</td>\n",
       "      <td>3</td>\n",
       "      <td>1</td>\n",
       "      <td>1</td>\n",
       "      <td>0</td>\n",
       "    </tr>\n",
       "    <tr>\n",
       "      <th>3</th>\n",
       "      <td>35.0</td>\n",
       "      <td>1</td>\n",
       "      <td>1</td>\n",
       "      <td>1</td>\n",
       "      <td>0</td>\n",
       "    </tr>\n",
       "    <tr>\n",
       "      <th>8</th>\n",
       "      <td>27.0</td>\n",
       "      <td>3</td>\n",
       "      <td>1</td>\n",
       "      <td>1</td>\n",
       "      <td>0</td>\n",
       "    </tr>\n",
       "    <tr>\n",
       "      <th>9</th>\n",
       "      <td>14.0</td>\n",
       "      <td>2</td>\n",
       "      <td>1</td>\n",
       "      <td>1</td>\n",
       "      <td>0</td>\n",
       "    </tr>\n",
       "    <tr>\n",
       "      <th>...</th>\n",
       "      <td>...</td>\n",
       "      <td>...</td>\n",
       "      <td>...</td>\n",
       "      <td>...</td>\n",
       "      <td>...</td>\n",
       "    </tr>\n",
       "    <tr>\n",
       "      <th>879</th>\n",
       "      <td>56.0</td>\n",
       "      <td>1</td>\n",
       "      <td>1</td>\n",
       "      <td>1</td>\n",
       "      <td>0</td>\n",
       "    </tr>\n",
       "    <tr>\n",
       "      <th>880</th>\n",
       "      <td>25.0</td>\n",
       "      <td>2</td>\n",
       "      <td>1</td>\n",
       "      <td>1</td>\n",
       "      <td>0</td>\n",
       "    </tr>\n",
       "    <tr>\n",
       "      <th>882</th>\n",
       "      <td>22.0</td>\n",
       "      <td>3</td>\n",
       "      <td>0</td>\n",
       "      <td>1</td>\n",
       "      <td>0</td>\n",
       "    </tr>\n",
       "    <tr>\n",
       "      <th>885</th>\n",
       "      <td>39.0</td>\n",
       "      <td>3</td>\n",
       "      <td>0</td>\n",
       "      <td>1</td>\n",
       "      <td>0</td>\n",
       "    </tr>\n",
       "    <tr>\n",
       "      <th>887</th>\n",
       "      <td>19.0</td>\n",
       "      <td>1</td>\n",
       "      <td>1</td>\n",
       "      <td>1</td>\n",
       "      <td>0</td>\n",
       "    </tr>\n",
       "  </tbody>\n",
       "</table>\n",
       "<p>261 rows × 5 columns</p>\n",
       "</div>"
      ],
      "text/plain": [
       "      Age  Pclass  Survived  Sex_female  Sex_male\n",
       "1    38.0       1         1           1         0\n",
       "2    26.0       3         1           1         0\n",
       "3    35.0       1         1           1         0\n",
       "8    27.0       3         1           1         0\n",
       "9    14.0       2         1           1         0\n",
       "..    ...     ...       ...         ...       ...\n",
       "879  56.0       1         1           1         0\n",
       "880  25.0       2         1           1         0\n",
       "882  22.0       3         0           1         0\n",
       "885  39.0       3         0           1         0\n",
       "887  19.0       1         1           1         0\n",
       "\n",
       "[261 rows x 5 columns]"
      ]
     },
     "execution_count": 70,
     "metadata": {},
     "output_type": "execute_result"
    }
   ],
   "source": [
    "tabelle_frauen"
   ]
  },
  {
   "cell_type": "code",
   "execution_count": 71,
   "id": "broadband-casting",
   "metadata": {},
   "outputs": [
    {
     "data": {
      "text/plain": [
       "0.7547892720306514"
      ]
     },
     "execution_count": 71,
     "metadata": {},
     "output_type": "execute_result"
    }
   ],
   "source": [
    "len(tabelle_frauen_die_ueberlebten) / len(tabelle_frauen)"
   ]
  },
  {
   "cell_type": "code",
   "execution_count": 72,
   "id": "noble-expense",
   "metadata": {},
   "outputs": [],
   "source": [
    "tabelle_maenner_die_ueberlebten = d[ (d[\"Sex_male\"]==1) & (d[\"Survived\"]==1) ]"
   ]
  },
  {
   "cell_type": "code",
   "execution_count": 73,
   "id": "purple-canal",
   "metadata": {},
   "outputs": [
    {
     "data": {
      "text/html": [
       "<div>\n",
       "<style scoped>\n",
       "    .dataframe tbody tr th:only-of-type {\n",
       "        vertical-align: middle;\n",
       "    }\n",
       "\n",
       "    .dataframe tbody tr th {\n",
       "        vertical-align: top;\n",
       "    }\n",
       "\n",
       "    .dataframe thead th {\n",
       "        text-align: right;\n",
       "    }\n",
       "</style>\n",
       "<table border=\"1\" class=\"dataframe\">\n",
       "  <thead>\n",
       "    <tr style=\"text-align: right;\">\n",
       "      <th></th>\n",
       "      <th>Age</th>\n",
       "      <th>Pclass</th>\n",
       "      <th>Survived</th>\n",
       "      <th>Sex_female</th>\n",
       "      <th>Sex_male</th>\n",
       "    </tr>\n",
       "  </thead>\n",
       "  <tbody>\n",
       "    <tr>\n",
       "      <th>21</th>\n",
       "      <td>34.00</td>\n",
       "      <td>2</td>\n",
       "      <td>1</td>\n",
       "      <td>0</td>\n",
       "      <td>1</td>\n",
       "    </tr>\n",
       "    <tr>\n",
       "      <th>23</th>\n",
       "      <td>28.00</td>\n",
       "      <td>1</td>\n",
       "      <td>1</td>\n",
       "      <td>0</td>\n",
       "      <td>1</td>\n",
       "    </tr>\n",
       "    <tr>\n",
       "      <th>74</th>\n",
       "      <td>32.00</td>\n",
       "      <td>3</td>\n",
       "      <td>1</td>\n",
       "      <td>0</td>\n",
       "      <td>1</td>\n",
       "    </tr>\n",
       "    <tr>\n",
       "      <th>78</th>\n",
       "      <td>0.83</td>\n",
       "      <td>2</td>\n",
       "      <td>1</td>\n",
       "      <td>0</td>\n",
       "      <td>1</td>\n",
       "    </tr>\n",
       "    <tr>\n",
       "      <th>81</th>\n",
       "      <td>29.00</td>\n",
       "      <td>3</td>\n",
       "      <td>1</td>\n",
       "      <td>0</td>\n",
       "      <td>1</td>\n",
       "    </tr>\n",
       "    <tr>\n",
       "      <th>...</th>\n",
       "      <td>...</td>\n",
       "      <td>...</td>\n",
       "      <td>...</td>\n",
       "      <td>...</td>\n",
       "      <td>...</td>\n",
       "    </tr>\n",
       "    <tr>\n",
       "      <th>831</th>\n",
       "      <td>0.83</td>\n",
       "      <td>2</td>\n",
       "      <td>1</td>\n",
       "      <td>0</td>\n",
       "      <td>1</td>\n",
       "    </tr>\n",
       "    <tr>\n",
       "      <th>838</th>\n",
       "      <td>32.00</td>\n",
       "      <td>3</td>\n",
       "      <td>1</td>\n",
       "      <td>0</td>\n",
       "      <td>1</td>\n",
       "    </tr>\n",
       "    <tr>\n",
       "      <th>857</th>\n",
       "      <td>51.00</td>\n",
       "      <td>1</td>\n",
       "      <td>1</td>\n",
       "      <td>0</td>\n",
       "      <td>1</td>\n",
       "    </tr>\n",
       "    <tr>\n",
       "      <th>869</th>\n",
       "      <td>4.00</td>\n",
       "      <td>3</td>\n",
       "      <td>1</td>\n",
       "      <td>0</td>\n",
       "      <td>1</td>\n",
       "    </tr>\n",
       "    <tr>\n",
       "      <th>889</th>\n",
       "      <td>26.00</td>\n",
       "      <td>1</td>\n",
       "      <td>1</td>\n",
       "      <td>0</td>\n",
       "      <td>1</td>\n",
       "    </tr>\n",
       "  </tbody>\n",
       "</table>\n",
       "<p>93 rows × 5 columns</p>\n",
       "</div>"
      ],
      "text/plain": [
       "       Age  Pclass  Survived  Sex_female  Sex_male\n",
       "21   34.00       2         1           0         1\n",
       "23   28.00       1         1           0         1\n",
       "74   32.00       3         1           0         1\n",
       "78    0.83       2         1           0         1\n",
       "81   29.00       3         1           0         1\n",
       "..     ...     ...       ...         ...       ...\n",
       "831   0.83       2         1           0         1\n",
       "838  32.00       3         1           0         1\n",
       "857  51.00       1         1           0         1\n",
       "869   4.00       3         1           0         1\n",
       "889  26.00       1         1           0         1\n",
       "\n",
       "[93 rows x 5 columns]"
      ]
     },
     "execution_count": 73,
     "metadata": {},
     "output_type": "execute_result"
    }
   ],
   "source": [
    "tabelle_maenner_die_ueberlebten"
   ]
  },
  {
   "cell_type": "code",
   "execution_count": 74,
   "id": "human-local",
   "metadata": {},
   "outputs": [],
   "source": [
    "tabelle_maenner = d[ d[\"Sex_male\"] == 1 ]"
   ]
  },
  {
   "cell_type": "code",
   "execution_count": 75,
   "id": "senior-catholic",
   "metadata": {},
   "outputs": [
    {
     "data": {
      "text/html": [
       "<div>\n",
       "<style scoped>\n",
       "    .dataframe tbody tr th:only-of-type {\n",
       "        vertical-align: middle;\n",
       "    }\n",
       "\n",
       "    .dataframe tbody tr th {\n",
       "        vertical-align: top;\n",
       "    }\n",
       "\n",
       "    .dataframe thead th {\n",
       "        text-align: right;\n",
       "    }\n",
       "</style>\n",
       "<table border=\"1\" class=\"dataframe\">\n",
       "  <thead>\n",
       "    <tr style=\"text-align: right;\">\n",
       "      <th></th>\n",
       "      <th>Age</th>\n",
       "      <th>Pclass</th>\n",
       "      <th>Survived</th>\n",
       "      <th>Sex_female</th>\n",
       "      <th>Sex_male</th>\n",
       "    </tr>\n",
       "  </thead>\n",
       "  <tbody>\n",
       "    <tr>\n",
       "      <th>0</th>\n",
       "      <td>22.0</td>\n",
       "      <td>3</td>\n",
       "      <td>0</td>\n",
       "      <td>0</td>\n",
       "      <td>1</td>\n",
       "    </tr>\n",
       "    <tr>\n",
       "      <th>4</th>\n",
       "      <td>35.0</td>\n",
       "      <td>3</td>\n",
       "      <td>0</td>\n",
       "      <td>0</td>\n",
       "      <td>1</td>\n",
       "    </tr>\n",
       "    <tr>\n",
       "      <th>6</th>\n",
       "      <td>54.0</td>\n",
       "      <td>1</td>\n",
       "      <td>0</td>\n",
       "      <td>0</td>\n",
       "      <td>1</td>\n",
       "    </tr>\n",
       "    <tr>\n",
       "      <th>7</th>\n",
       "      <td>2.0</td>\n",
       "      <td>3</td>\n",
       "      <td>0</td>\n",
       "      <td>0</td>\n",
       "      <td>1</td>\n",
       "    </tr>\n",
       "    <tr>\n",
       "      <th>12</th>\n",
       "      <td>20.0</td>\n",
       "      <td>3</td>\n",
       "      <td>0</td>\n",
       "      <td>0</td>\n",
       "      <td>1</td>\n",
       "    </tr>\n",
       "    <tr>\n",
       "      <th>...</th>\n",
       "      <td>...</td>\n",
       "      <td>...</td>\n",
       "      <td>...</td>\n",
       "      <td>...</td>\n",
       "      <td>...</td>\n",
       "    </tr>\n",
       "    <tr>\n",
       "      <th>883</th>\n",
       "      <td>28.0</td>\n",
       "      <td>2</td>\n",
       "      <td>0</td>\n",
       "      <td>0</td>\n",
       "      <td>1</td>\n",
       "    </tr>\n",
       "    <tr>\n",
       "      <th>884</th>\n",
       "      <td>25.0</td>\n",
       "      <td>3</td>\n",
       "      <td>0</td>\n",
       "      <td>0</td>\n",
       "      <td>1</td>\n",
       "    </tr>\n",
       "    <tr>\n",
       "      <th>886</th>\n",
       "      <td>27.0</td>\n",
       "      <td>2</td>\n",
       "      <td>0</td>\n",
       "      <td>0</td>\n",
       "      <td>1</td>\n",
       "    </tr>\n",
       "    <tr>\n",
       "      <th>889</th>\n",
       "      <td>26.0</td>\n",
       "      <td>1</td>\n",
       "      <td>1</td>\n",
       "      <td>0</td>\n",
       "      <td>1</td>\n",
       "    </tr>\n",
       "    <tr>\n",
       "      <th>890</th>\n",
       "      <td>32.0</td>\n",
       "      <td>3</td>\n",
       "      <td>0</td>\n",
       "      <td>0</td>\n",
       "      <td>1</td>\n",
       "    </tr>\n",
       "  </tbody>\n",
       "</table>\n",
       "<p>453 rows × 5 columns</p>\n",
       "</div>"
      ],
      "text/plain": [
       "      Age  Pclass  Survived  Sex_female  Sex_male\n",
       "0    22.0       3         0           0         1\n",
       "4    35.0       3         0           0         1\n",
       "6    54.0       1         0           0         1\n",
       "7     2.0       3         0           0         1\n",
       "12   20.0       3         0           0         1\n",
       "..    ...     ...       ...         ...       ...\n",
       "883  28.0       2         0           0         1\n",
       "884  25.0       3         0           0         1\n",
       "886  27.0       2         0           0         1\n",
       "889  26.0       1         1           0         1\n",
       "890  32.0       3         0           0         1\n",
       "\n",
       "[453 rows x 5 columns]"
      ]
     },
     "execution_count": 75,
     "metadata": {},
     "output_type": "execute_result"
    }
   ],
   "source": [
    "tabelle_maenner"
   ]
  },
  {
   "cell_type": "code",
   "execution_count": 76,
   "id": "hundred-express",
   "metadata": {},
   "outputs": [
    {
     "data": {
      "text/plain": [
       "0.2052980132450331"
      ]
     },
     "execution_count": 76,
     "metadata": {},
     "output_type": "execute_result"
    }
   ],
   "source": [
    "len(tabelle_maenner_die_ueberlebten) / len(tabelle_maenner)"
   ]
  },
  {
   "cell_type": "markdown",
   "id": "spatial-angle",
   "metadata": {},
   "source": [
    "Jetzt haben wir den Grund verstanden, wieso der *Naive Bayes Klassifkator* so viel besser bei der Einschätzung der Überlebenswahrscheinlichkeit gibt, wenn man ihm das Merkmal *Geschlecht (Sex)* mitgibt:\n",
    "\n",
    "Laut den Trainingsdaten haben ca. 75% der Frauen überlebt, aber nur ca. 20% der Männer."
   ]
  },
  {
   "cell_type": "code",
   "execution_count": null,
   "id": "caring-producer",
   "metadata": {},
   "outputs": [],
   "source": []
  }
 ],
 "metadata": {
  "kernelspec": {
   "display_name": "Python 3",
   "language": "python",
   "name": "python3"
  },
  "language_info": {
   "codemirror_mode": {
    "name": "ipython",
    "version": 3
   },
   "file_extension": ".py",
   "mimetype": "text/x-python",
   "name": "python",
   "nbconvert_exporter": "python",
   "pygments_lexer": "ipython3",
   "version": "3.8.5"
  },
  "toc-autonumbering": true
 },
 "nbformat": 4,
 "nbformat_minor": 5
}
