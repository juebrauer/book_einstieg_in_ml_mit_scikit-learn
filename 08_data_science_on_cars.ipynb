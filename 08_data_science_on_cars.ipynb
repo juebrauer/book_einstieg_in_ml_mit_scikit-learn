{
 "cells": [
  {
   "cell_type": "markdown",
   "id": "valid-interview",
   "metadata": {},
   "source": [
    "# Rohdatensatz explorieren"
   ]
  },
  {
   "cell_type": "markdown",
   "id": "specific-cricket",
   "metadata": {},
   "source": [
    "Der hier verwendete Datensatz ist von Kaggle:\n",
    "\n",
    "\"Used Cars Dataset - Vehicles listings from Craigslist.org\"\n",
    "\n",
    "URL: https://www.kaggle.com/austinreese/craigslist-carstrucks-data\n",
    "\n",
    "Er ist allerdings sehr groß! Entpackt ist es eine .csv Datei mit 1.4 GB und enthält 458213 Angebote von gebrauchten Autos.\n",
    "\n",
    "Deswegen werden wir im ersten Schritt einen kleineren handlicheren Datensatz erzeugen, in dem wir unvollständige Einträge verwerfen."
   ]
  },
  {
   "cell_type": "code",
   "execution_count": null,
   "id": "enhanced-cuisine",
   "metadata": {},
   "outputs": [],
   "source": [
    "import pandas as pd"
   ]
  },
  {
   "cell_type": "code",
   "execution_count": null,
   "id": "whole-purse",
   "metadata": {},
   "outputs": [],
   "source": [
    "fname = \"/home/juebrauer/link_to_vcd/12_datasets/13_craigslist_used_cars/vehicles.csv\"\n",
    "tabelle_gross = pd.read_csv(fname)"
   ]
  },
  {
   "cell_type": "code",
   "execution_count": null,
   "id": "criminal-miracle",
   "metadata": {},
   "outputs": [],
   "source": [
    "tabelle_gross"
   ]
  },
  {
   "cell_type": "markdown",
   "id": "black-procurement",
   "metadata": {},
   "source": [
    "Die Form der Daten gibt uns Auskunft über Anzahl der Zeilen und Spalten (=Merkmale pro Auto):"
   ]
  },
  {
   "cell_type": "code",
   "execution_count": null,
   "id": "natural-decade",
   "metadata": {},
   "outputs": [],
   "source": [
    "tabelle_gross.shape"
   ]
  },
  {
   "cell_type": "markdown",
   "id": "dental-classroom",
   "metadata": {},
   "source": [
    "Schauen wir uns mal ein einziges Beispiel an:"
   ]
  },
  {
   "cell_type": "code",
   "execution_count": null,
   "id": "monetary-barbados",
   "metadata": {},
   "outputs": [],
   "source": [
    "tabelle_gross.iloc[0]"
   ]
  },
  {
   "cell_type": "markdown",
   "id": "tutorial-documentation",
   "metadata": {},
   "source": [
    "Was für Spalten gibt es überhaupt?"
   ]
  },
  {
   "cell_type": "code",
   "execution_count": null,
   "id": "worst-constitution",
   "metadata": {},
   "outputs": [],
   "source": [
    "tabelle_gross.columns"
   ]
  },
  {
   "cell_type": "markdown",
   "id": "absolute-medicine",
   "metadata": {},
   "source": [
    "Allerdings sind nicht alle der 26 Spalten bei den 458213 Autobeispielen vollständig ausgefüllt:"
   ]
  },
  {
   "cell_type": "code",
   "execution_count": null,
   "id": "spectacular-sister",
   "metadata": {},
   "outputs": [],
   "source": [
    "tabelle_gross.count()"
   ]
  },
  {
   "cell_type": "markdown",
   "id": "solar-comparative",
   "metadata": {},
   "source": [
    "Die `count()` Methode es einen Pandas-DataFrames liefert übrigens als Ergebnis eine Pandas-Series:"
   ]
  },
  {
   "cell_type": "code",
   "execution_count": null,
   "id": "fatal-bargain",
   "metadata": {},
   "outputs": [],
   "source": [
    "type( tabelle_gross.count() )"
   ]
  },
  {
   "cell_type": "markdown",
   "id": "applied-liver",
   "metadata": {},
   "source": [
    "D.h. wir können uns diesen Anzahlen von vollständig ausgefüllten Werten pro Spalte als NumPy-Array zurückgeben lassen:"
   ]
  },
  {
   "cell_type": "code",
   "execution_count": null,
   "id": "talented-interview",
   "metadata": {},
   "outputs": [],
   "source": [
    "tabelle_gross.count().values"
   ]
  },
  {
   "cell_type": "markdown",
   "id": "junior-exhaust",
   "metadata": {},
   "source": [
    "Wir können uns auch anders herum ausgeben lassen wieviele Werte fehlen:"
   ]
  },
  {
   "cell_type": "code",
   "execution_count": null,
   "id": "crude-transcript",
   "metadata": {},
   "outputs": [],
   "source": [
    "tabelle_gross.isnull()"
   ]
  },
  {
   "cell_type": "markdown",
   "id": "final-acting",
   "metadata": {},
   "source": [
    "Da wo jetzt `True` steht fehlt ein Wert. Mittels `sum()` können wir dann spaltenweise zählen wieviele Werte fehlen, denn `True` wird als `1` und `False` als `0` interpretiert:"
   ]
  },
  {
   "cell_type": "code",
   "execution_count": null,
   "id": "primary-saskatchewan",
   "metadata": {},
   "outputs": [],
   "source": [
    "tabelle_gross.isnull().sum()"
   ]
  },
  {
   "cell_type": "markdown",
   "id": "arabic-foster",
   "metadata": {},
   "source": [
    "# Kleineren Datensatz erzeugen"
   ]
  },
  {
   "cell_type": "markdown",
   "id": "republican-demand",
   "metadata": {},
   "source": [
    "Wir selektieren jetzt nur einige Spalten, damit die folgenden Analysen handlicher werden:"
   ]
  },
  {
   "cell_type": "code",
   "execution_count": null,
   "id": "ecological-craps",
   "metadata": {},
   "outputs": [],
   "source": [
    "tabelle_klein = tabelle_gross[ [\"price\", \"year\", \"manufacturer\", \"model\", \n",
    "                                \"fuel\", \"odometer\", \"paint_color\", \"state\"] ]"
   ]
  },
  {
   "cell_type": "code",
   "execution_count": null,
   "id": "democratic-correlation",
   "metadata": {},
   "outputs": [],
   "source": [
    "tabelle_klein"
   ]
  },
  {
   "cell_type": "markdown",
   "id": "comparable-affairs",
   "metadata": {},
   "source": [
    "Jetzt verwerfen wir der Einfachheit alle Einträge mit fehlenden (=`NaN`) Werten:"
   ]
  },
  {
   "cell_type": "code",
   "execution_count": null,
   "id": "cheap-peace",
   "metadata": {},
   "outputs": [],
   "source": [
    "tabelle_vollstaendig = tabelle_klein.dropna()"
   ]
  },
  {
   "cell_type": "code",
   "execution_count": null,
   "id": "substantial-nevada",
   "metadata": {},
   "outputs": [],
   "source": [
    "tabelle_vollstaendig"
   ]
  },
  {
   "cell_type": "markdown",
   "id": "varying-disability",
   "metadata": {},
   "source": [
    "Wir benennen jetzt auch die Spalten auf Deutsch um:"
   ]
  },
  {
   "cell_type": "code",
   "execution_count": null,
   "id": "criminal-terrorism",
   "metadata": {},
   "outputs": [],
   "source": [
    "tabelle_vollstaendig = tabelle_vollstaendig.rename( columns= {\"price\"        : \"Preis\",\n",
    "                                                              \"year\"         : \"Baujahr\",\n",
    "                                                              \"manufacturer\" : \"Hersteller\",\n",
    "                                                              \"model\"        : \"Modell\",\n",
    "                                                              \"fuel\"         : \"Kraftstoff\",\n",
    "                                                              \"odometer\"     : \"km-Stand\",\n",
    "                                                              \"paint_color\"  : \"Farbe\",\n",
    "                                                              \"state\"        : \"Bundesstaat\"} )"
   ]
  },
  {
   "cell_type": "code",
   "execution_count": null,
   "id": "lined-james",
   "metadata": {},
   "outputs": [],
   "source": [
    "tabelle_vollstaendig"
   ]
  },
  {
   "cell_type": "markdown",
   "id": "acknowledged-roman",
   "metadata": {},
   "source": [
    "Der Index des Pandas-DataFrames ist nach der Filterung noch nicht durchgehend:"
   ]
  },
  {
   "cell_type": "code",
   "execution_count": null,
   "id": "solid-ambassador",
   "metadata": {},
   "outputs": [],
   "source": [
    "tabelle_vollstaendig.reset_index(drop=True, inplace=True)"
   ]
  },
  {
   "cell_type": "code",
   "execution_count": null,
   "id": "based-success",
   "metadata": {},
   "outputs": [],
   "source": [
    "tabelle_vollstaendig"
   ]
  },
  {
   "cell_type": "code",
   "execution_count": null,
   "id": "restricted-crack",
   "metadata": {},
   "outputs": [],
   "source": [
    "tabelle_vollstaendig.to_csv(\"gebrauchtwagen_usa.csv\", index=False)"
   ]
  },
  {
   "cell_type": "markdown",
   "id": "proof-number",
   "metadata": {},
   "source": [
    "# Kleine gefilterte Tabelle einlesen"
   ]
  },
  {
   "cell_type": "code",
   "execution_count": 1,
   "id": "consolidated-personality",
   "metadata": {},
   "outputs": [],
   "source": [
    "import pandas as pd\n",
    "fname = \"gebrauchtwagen_usa.csv\"\n",
    "tabelle = pd.read_csv( fname, index_col=False )"
   ]
  },
  {
   "cell_type": "code",
   "execution_count": 2,
   "id": "adjusted-coordinator",
   "metadata": {},
   "outputs": [
    {
     "data": {
      "text/html": [
       "<div>\n",
       "<style scoped>\n",
       "    .dataframe tbody tr th:only-of-type {\n",
       "        vertical-align: middle;\n",
       "    }\n",
       "\n",
       "    .dataframe tbody tr th {\n",
       "        vertical-align: top;\n",
       "    }\n",
       "\n",
       "    .dataframe thead th {\n",
       "        text-align: right;\n",
       "    }\n",
       "</style>\n",
       "<table border=\"1\" class=\"dataframe\">\n",
       "  <thead>\n",
       "    <tr style=\"text-align: right;\">\n",
       "      <th></th>\n",
       "      <th>Preis</th>\n",
       "      <th>Baujahr</th>\n",
       "      <th>Hersteller</th>\n",
       "      <th>Modell</th>\n",
       "      <th>Kraftstoff</th>\n",
       "      <th>km-Stand</th>\n",
       "      <th>Farbe</th>\n",
       "      <th>Bundesstaat</th>\n",
       "    </tr>\n",
       "  </thead>\n",
       "  <tbody>\n",
       "    <tr>\n",
       "      <th>0</th>\n",
       "      <td>4900</td>\n",
       "      <td>2006.0</td>\n",
       "      <td>bmw</td>\n",
       "      <td>x3 3.0i</td>\n",
       "      <td>gas</td>\n",
       "      <td>87046.0</td>\n",
       "      <td>blue</td>\n",
       "      <td>al</td>\n",
       "    </tr>\n",
       "    <tr>\n",
       "      <th>1</th>\n",
       "      <td>2000</td>\n",
       "      <td>1974.0</td>\n",
       "      <td>chevrolet</td>\n",
       "      <td>c-10</td>\n",
       "      <td>gas</td>\n",
       "      <td>190000.0</td>\n",
       "      <td>blue</td>\n",
       "      <td>al</td>\n",
       "    </tr>\n",
       "    <tr>\n",
       "      <th>2</th>\n",
       "      <td>19500</td>\n",
       "      <td>2005.0</td>\n",
       "      <td>ford</td>\n",
       "      <td>f350 lariat</td>\n",
       "      <td>diesel</td>\n",
       "      <td>116000.0</td>\n",
       "      <td>blue</td>\n",
       "      <td>al</td>\n",
       "    </tr>\n",
       "    <tr>\n",
       "      <th>3</th>\n",
       "      <td>29590</td>\n",
       "      <td>2016.0</td>\n",
       "      <td>toyota</td>\n",
       "      <td>tacoma double cab sr5</td>\n",
       "      <td>gas</td>\n",
       "      <td>33290.0</td>\n",
       "      <td>red</td>\n",
       "      <td>al</td>\n",
       "    </tr>\n",
       "    <tr>\n",
       "      <th>4</th>\n",
       "      <td>39990</td>\n",
       "      <td>2012.0</td>\n",
       "      <td>ford</td>\n",
       "      <td>mustang shelby gt500 coupe</td>\n",
       "      <td>gas</td>\n",
       "      <td>9692.0</td>\n",
       "      <td>blue</td>\n",
       "      <td>al</td>\n",
       "    </tr>\n",
       "    <tr>\n",
       "      <th>...</th>\n",
       "      <td>...</td>\n",
       "      <td>...</td>\n",
       "      <td>...</td>\n",
       "      <td>...</td>\n",
       "      <td>...</td>\n",
       "      <td>...</td>\n",
       "      <td>...</td>\n",
       "      <td>...</td>\n",
       "    </tr>\n",
       "    <tr>\n",
       "      <th>285872</th>\n",
       "      <td>5300</td>\n",
       "      <td>2013.0</td>\n",
       "      <td>chevrolet</td>\n",
       "      <td>captiva</td>\n",
       "      <td>gas</td>\n",
       "      <td>140000.0</td>\n",
       "      <td>blue</td>\n",
       "      <td>wi</td>\n",
       "    </tr>\n",
       "    <tr>\n",
       "      <th>285873</th>\n",
       "      <td>14995</td>\n",
       "      <td>2014.0</td>\n",
       "      <td>cadillac</td>\n",
       "      <td>srx</td>\n",
       "      <td>gas</td>\n",
       "      <td>83790.0</td>\n",
       "      <td>silver</td>\n",
       "      <td>wi</td>\n",
       "    </tr>\n",
       "    <tr>\n",
       "      <th>285874</th>\n",
       "      <td>17895</td>\n",
       "      <td>2018.0</td>\n",
       "      <td>hyundai</td>\n",
       "      <td>tucson</td>\n",
       "      <td>gas</td>\n",
       "      <td>31888.0</td>\n",
       "      <td>white</td>\n",
       "      <td>wi</td>\n",
       "    </tr>\n",
       "    <tr>\n",
       "      <th>285875</th>\n",
       "      <td>17900</td>\n",
       "      <td>2014.0</td>\n",
       "      <td>cadillac</td>\n",
       "      <td>cts coupe awd</td>\n",
       "      <td>gas</td>\n",
       "      <td>53000.0</td>\n",
       "      <td>black</td>\n",
       "      <td>wy</td>\n",
       "    </tr>\n",
       "    <tr>\n",
       "      <th>285876</th>\n",
       "      <td>1300</td>\n",
       "      <td>2008.0</td>\n",
       "      <td>jeep</td>\n",
       "      <td>grand cherokee</td>\n",
       "      <td>gas</td>\n",
       "      <td>164000.0</td>\n",
       "      <td>white</td>\n",
       "      <td>wy</td>\n",
       "    </tr>\n",
       "  </tbody>\n",
       "</table>\n",
       "<p>285877 rows × 8 columns</p>\n",
       "</div>"
      ],
      "text/plain": [
       "        Preis  Baujahr Hersteller                      Modell Kraftstoff  \\\n",
       "0        4900   2006.0        bmw                     x3 3.0i        gas   \n",
       "1        2000   1974.0  chevrolet                        c-10        gas   \n",
       "2       19500   2005.0       ford                 f350 lariat     diesel   \n",
       "3       29590   2016.0     toyota       tacoma double cab sr5        gas   \n",
       "4       39990   2012.0       ford  mustang shelby gt500 coupe        gas   \n",
       "...       ...      ...        ...                         ...        ...   \n",
       "285872   5300   2013.0  chevrolet                     captiva        gas   \n",
       "285873  14995   2014.0   cadillac                         srx        gas   \n",
       "285874  17895   2018.0    hyundai                      tucson        gas   \n",
       "285875  17900   2014.0   cadillac               cts coupe awd        gas   \n",
       "285876   1300   2008.0       jeep              grand cherokee        gas   \n",
       "\n",
       "        km-Stand   Farbe Bundesstaat  \n",
       "0        87046.0    blue          al  \n",
       "1       190000.0    blue          al  \n",
       "2       116000.0    blue          al  \n",
       "3        33290.0     red          al  \n",
       "4         9692.0    blue          al  \n",
       "...          ...     ...         ...  \n",
       "285872  140000.0    blue          wi  \n",
       "285873   83790.0  silver          wi  \n",
       "285874   31888.0   white          wi  \n",
       "285875   53000.0   black          wy  \n",
       "285876  164000.0   white          wy  \n",
       "\n",
       "[285877 rows x 8 columns]"
      ]
     },
     "execution_count": 2,
     "metadata": {},
     "output_type": "execute_result"
    }
   ],
   "source": [
    "tabelle"
   ]
  },
  {
   "cell_type": "markdown",
   "id": "religious-deadline",
   "metadata": {},
   "source": [
    "# Analyse möglicher Werte in kategorialen Spalten"
   ]
  },
  {
   "cell_type": "markdown",
   "id": "recent-button",
   "metadata": {},
   "source": [
    "Die Tabelle hat nun kategoriale Spalten wie `Hersteller`, `Modell`, `Kraftstoff`, `Farbe` und `Bundesstaat` und numerische Spalten wie `Preis`, `Baujahr`, `km-Stand`.\n",
    "\n",
    "Was für mögliche Aufzählungswerte sind zum Beispiel für `Hersteller` möglich?"
   ]
  },
  {
   "cell_type": "code",
   "execution_count": 3,
   "id": "electric-inflation",
   "metadata": {},
   "outputs": [
    {
     "data": {
      "text/plain": [
       "array(['bmw', 'chevrolet', 'ford', 'toyota', 'jeep', 'honda', 'dodge',\n",
       "       'gmc', 'hyundai', 'subaru', 'mazda', 'mini', 'ram', 'nissan',\n",
       "       'mercedes-benz', 'lexus', 'volkswagen', 'kia', 'lincoln',\n",
       "       'mitsubishi', 'buick', 'audi', 'cadillac', 'infiniti', 'rover',\n",
       "       'acura', 'chrysler', 'pontiac', 'tesla', 'volvo', 'fiat', 'datsun',\n",
       "       'mercury', 'saturn', 'porsche', 'jaguar', 'ferrari', 'alfa-romeo',\n",
       "       'land rover', 'harley-davidson', 'aston-martin', 'morgan'],\n",
       "      dtype=object)"
      ]
     },
     "execution_count": 3,
     "metadata": {},
     "output_type": "execute_result"
    }
   ],
   "source": [
    "tabelle[\"Hersteller\"].unique()"
   ]
  },
  {
   "cell_type": "markdown",
   "id": "sapphire-ministry",
   "metadata": {},
   "source": [
    "Wieviele verschiedene Hersteller gibt es?"
   ]
  },
  {
   "cell_type": "code",
   "execution_count": 4,
   "id": "cardiac-technical",
   "metadata": {},
   "outputs": [
    {
     "data": {
      "text/plain": [
       "42"
      ]
     },
     "execution_count": 4,
     "metadata": {},
     "output_type": "execute_result"
    }
   ],
   "source": [
    "len( tabelle[\"Hersteller\"].unique() )"
   ]
  },
  {
   "cell_type": "markdown",
   "id": "consecutive-satellite",
   "metadata": {},
   "source": [
    "Was für Modelle gibt es?"
   ]
  },
  {
   "cell_type": "code",
   "execution_count": 5,
   "id": "neural-gravity",
   "metadata": {},
   "outputs": [
    {
     "data": {
      "text/plain": [
       "array(['x3 3.0i', 'c-10', 'f350 lariat', ..., 'f-350 crew dump',\n",
       "       'sportage lx 4wd', 'f-150 xlt supercrew cab'], dtype=object)"
      ]
     },
     "execution_count": 5,
     "metadata": {},
     "output_type": "execute_result"
    }
   ],
   "source": [
    "tabelle[\"Modell\"].unique()"
   ]
  },
  {
   "cell_type": "markdown",
   "id": "noble-example",
   "metadata": {},
   "source": [
    "Wieviele verschiedene Modelle gibt es?"
   ]
  },
  {
   "cell_type": "code",
   "execution_count": 6,
   "id": "appointed-trunk",
   "metadata": {},
   "outputs": [
    {
     "data": {
      "text/plain": [
       "18059"
      ]
     },
     "execution_count": 6,
     "metadata": {},
     "output_type": "execute_result"
    }
   ],
   "source": [
    "len( tabelle[\"Modell\"].unique() )"
   ]
  },
  {
   "cell_type": "markdown",
   "id": "prescription-point",
   "metadata": {},
   "source": [
    "Schränken wir uns mal ein. Wieviele BMW Modelle gibt es?"
   ]
  },
  {
   "cell_type": "code",
   "execution_count": 7,
   "id": "reserved-action",
   "metadata": {},
   "outputs": [
    {
     "data": {
      "text/html": [
       "<div>\n",
       "<style scoped>\n",
       "    .dataframe tbody tr th:only-of-type {\n",
       "        vertical-align: middle;\n",
       "    }\n",
       "\n",
       "    .dataframe tbody tr th {\n",
       "        vertical-align: top;\n",
       "    }\n",
       "\n",
       "    .dataframe thead th {\n",
       "        text-align: right;\n",
       "    }\n",
       "</style>\n",
       "<table border=\"1\" class=\"dataframe\">\n",
       "  <thead>\n",
       "    <tr style=\"text-align: right;\">\n",
       "      <th></th>\n",
       "      <th>Preis</th>\n",
       "      <th>Baujahr</th>\n",
       "      <th>Hersteller</th>\n",
       "      <th>Modell</th>\n",
       "      <th>Kraftstoff</th>\n",
       "      <th>km-Stand</th>\n",
       "      <th>Farbe</th>\n",
       "      <th>Bundesstaat</th>\n",
       "    </tr>\n",
       "  </thead>\n",
       "  <tbody>\n",
       "    <tr>\n",
       "      <th>0</th>\n",
       "      <td>4900</td>\n",
       "      <td>2006.0</td>\n",
       "      <td>bmw</td>\n",
       "      <td>x3 3.0i</td>\n",
       "      <td>gas</td>\n",
       "      <td>87046.0</td>\n",
       "      <td>blue</td>\n",
       "      <td>al</td>\n",
       "    </tr>\n",
       "    <tr>\n",
       "      <th>7</th>\n",
       "      <td>36990</td>\n",
       "      <td>2013.0</td>\n",
       "      <td>bmw</td>\n",
       "      <td>m3 coupe 2d</td>\n",
       "      <td>gas</td>\n",
       "      <td>50956.0</td>\n",
       "      <td>black</td>\n",
       "      <td>al</td>\n",
       "    </tr>\n",
       "    <tr>\n",
       "      <th>19</th>\n",
       "      <td>27990</td>\n",
       "      <td>2012.0</td>\n",
       "      <td>bmw</td>\n",
       "      <td>m3 convertible 2d</td>\n",
       "      <td>gas</td>\n",
       "      <td>61881.0</td>\n",
       "      <td>black</td>\n",
       "      <td>al</td>\n",
       "    </tr>\n",
       "    <tr>\n",
       "      <th>78</th>\n",
       "      <td>4900</td>\n",
       "      <td>2006.0</td>\n",
       "      <td>bmw</td>\n",
       "      <td>325ci</td>\n",
       "      <td>gas</td>\n",
       "      <td>150000.0</td>\n",
       "      <td>red</td>\n",
       "      <td>al</td>\n",
       "    </tr>\n",
       "    <tr>\n",
       "      <th>140</th>\n",
       "      <td>18990</td>\n",
       "      <td>2014.0</td>\n",
       "      <td>bmw</td>\n",
       "      <td>3 series</td>\n",
       "      <td>gas</td>\n",
       "      <td>53352.0</td>\n",
       "      <td>white</td>\n",
       "      <td>al</td>\n",
       "    </tr>\n",
       "    <tr>\n",
       "      <th>...</th>\n",
       "      <td>...</td>\n",
       "      <td>...</td>\n",
       "      <td>...</td>\n",
       "      <td>...</td>\n",
       "      <td>...</td>\n",
       "      <td>...</td>\n",
       "      <td>...</td>\n",
       "      <td>...</td>\n",
       "    </tr>\n",
       "    <tr>\n",
       "      <th>285505</th>\n",
       "      <td>26500</td>\n",
       "      <td>2016.0</td>\n",
       "      <td>bmw</td>\n",
       "      <td>x5 xdrive35i</td>\n",
       "      <td>gas</td>\n",
       "      <td>95048.0</td>\n",
       "      <td>grey</td>\n",
       "      <td>va</td>\n",
       "    </tr>\n",
       "    <tr>\n",
       "      <th>285548</th>\n",
       "      <td>15700</td>\n",
       "      <td>2012.0</td>\n",
       "      <td>bmw</td>\n",
       "      <td>335i coupe</td>\n",
       "      <td>gas</td>\n",
       "      <td>59000.0</td>\n",
       "      <td>blue</td>\n",
       "      <td>wa</td>\n",
       "    </tr>\n",
       "    <tr>\n",
       "      <th>285605</th>\n",
       "      <td>22952</td>\n",
       "      <td>2014.0</td>\n",
       "      <td>bmw</td>\n",
       "      <td>3 series</td>\n",
       "      <td>gas</td>\n",
       "      <td>37664.0</td>\n",
       "      <td>grey</td>\n",
       "      <td>wa</td>\n",
       "    </tr>\n",
       "    <tr>\n",
       "      <th>285643</th>\n",
       "      <td>4988</td>\n",
       "      <td>2004.0</td>\n",
       "      <td>bmw</td>\n",
       "      <td>x5</td>\n",
       "      <td>gas</td>\n",
       "      <td>177665.0</td>\n",
       "      <td>white</td>\n",
       "      <td>wa</td>\n",
       "    </tr>\n",
       "    <tr>\n",
       "      <th>285869</th>\n",
       "      <td>13990</td>\n",
       "      <td>2014.0</td>\n",
       "      <td>bmw</td>\n",
       "      <td>i3 hatchback 4d</td>\n",
       "      <td>electric</td>\n",
       "      <td>28446.0</td>\n",
       "      <td>silver</td>\n",
       "      <td>wi</td>\n",
       "    </tr>\n",
       "  </tbody>\n",
       "</table>\n",
       "<p>8677 rows × 8 columns</p>\n",
       "</div>"
      ],
      "text/plain": [
       "        Preis  Baujahr Hersteller             Modell Kraftstoff  km-Stand  \\\n",
       "0        4900   2006.0        bmw            x3 3.0i        gas   87046.0   \n",
       "7       36990   2013.0        bmw        m3 coupe 2d        gas   50956.0   \n",
       "19      27990   2012.0        bmw  m3 convertible 2d        gas   61881.0   \n",
       "78       4900   2006.0        bmw              325ci        gas  150000.0   \n",
       "140     18990   2014.0        bmw           3 series        gas   53352.0   \n",
       "...       ...      ...        ...                ...        ...       ...   \n",
       "285505  26500   2016.0        bmw       x5 xdrive35i        gas   95048.0   \n",
       "285548  15700   2012.0        bmw         335i coupe        gas   59000.0   \n",
       "285605  22952   2014.0        bmw           3 series        gas   37664.0   \n",
       "285643   4988   2004.0        bmw                 x5        gas  177665.0   \n",
       "285869  13990   2014.0        bmw    i3 hatchback 4d   electric   28446.0   \n",
       "\n",
       "         Farbe Bundesstaat  \n",
       "0         blue          al  \n",
       "7        black          al  \n",
       "19       black          al  \n",
       "78         red          al  \n",
       "140      white          al  \n",
       "...        ...         ...  \n",
       "285505    grey          va  \n",
       "285548    blue          wa  \n",
       "285605    grey          wa  \n",
       "285643   white          wa  \n",
       "285869  silver          wi  \n",
       "\n",
       "[8677 rows x 8 columns]"
      ]
     },
     "execution_count": 7,
     "metadata": {},
     "output_type": "execute_result"
    }
   ],
   "source": [
    "nur_BMWs = tabelle[ tabelle[\"Hersteller\"] == \"bmw\" ]\n",
    "nur_BMWs"
   ]
  },
  {
   "cell_type": "code",
   "execution_count": 8,
   "id": "coral-richmond",
   "metadata": {},
   "outputs": [
    {
     "data": {
      "text/plain": [
       "array(['x3 3.0i', 'm3 coupe 2d', 'm3 convertible 2d', '325ci', '3 series',\n",
       "       '328i', 'z3', '1-series', 'z4', '135i', '325is', '330i',\n",
       "       '135i convertible', 'm3 convertible', 'z4 2.5i', '325i',\n",
       "       'x5 xdrive35d', '3 series 328i coupe 2d', 'x5', 'x3 xdrive30i',\n",
       "       '5 series', '3-series', '3 series 335i sedan 4d',\n",
       "       '328i sedan sulev', '428i gran coupe', '528i sedan',\n",
       "       'i3 range extender', 'x3', 'x6 xdrive50i', '6 series', '318i',\n",
       "       'x6', 'x5 xdrive35i', '3 series 328i', '6-series', '550',\n",
       "       '328i nav sport pkg.', 'm3', '7 series', '328d', '328i xdrive',\n",
       "       '335i xdrive', '430i xdrive', 'x6 xdrive50i awd', '320i', '335xi',\n",
       "       '3 series 335i xdrive', 'x3 xdrive28i', '320i xdrive', 'x3 3.0si',\n",
       "       'x2 xdrive28i', 'x1 x', '328d xdrive', 'x4 m-sport awd',\n",
       "       'm3 coupe', '528xi', 'x1', 'x3 m40i m sport pkg awd',\n",
       "       '740i sedan 3.0 liter 315hp turbo i6', 'i3 s w/range extender',\n",
       "       '5 series 528i sedan 4d', 'x4 m40i sport utility 4d',\n",
       "       'i3 range extender hatchback', '328i coupe', 'x5 m',\n",
       "       'x3 sdrive28i', '325xi wagon', '5-series', '4 series',\n",
       "       '325ci convertible', 'x6 xdrive35i sport utility',\n",
       "       'x3 s-drive 28i', '2 series 230i coupe 2d',\n",
       "       'z4 sdrive30i roadster 2d', 'x1 sdrive28i sport utility',\n",
       "       'x3 xdrive35i sport utility', '335i conv', '530i', '328i gt',\n",
       "       '325ic', '535i', '428i coupe', '325si', '328i gt xdrive',\n",
       "       '1 series 135i', 'z4 35i roadster 2d', 'x1 xdrive28i',\n",
       "       '435i gran coupe', '528i', '3 series 335i', '335i m sport',\n",
       "       '2.5l z3 roadster', '6 series 650i convertible 2d', '2 series',\n",
       "       '1 series 135i convertible 2d', '750li', 'x1 xdrive28i awd',\n",
       "       'x3 sdrive28i sport utility', '335i', 'x5 xdrive35i automatic',\n",
       "       'x5 xdrive40e iperformance', '7 series 750li sedan 4d', 'z4 3.0si',\n",
       "       '4 series 428i convertible 2d', '4 series 428i xdrive',\n",
       "       '4 series 428i coupe 2d', 'i3', 'x1 sdrive28i', '5 series 530i',\n",
       "       '2 series m235i coupe 2d', 'i3 s hatchback 4d',\n",
       "       'x4 xdrive28i sport utility', '6 series 640i gran coupe',\n",
       "       'z3 convertible', '428i', '1 series 128i convertible 2d', '330ci',\n",
       "       '528i sedan twin turbo', 'x3 xdrive28i sport utility',\n",
       "       'x5 xdrive35i sport utility', '528xi awd', '335i convertible',\n",
       "       'x5 awd', '645ci convertible', 'z4 2dr roadster 3.0i',\n",
       "       '3 series 328i xdrive', '650i convertible', '325xi',\n",
       "       '3 series 320i', '323i', 'z4 3.0i', '5-series 528i',\n",
       "       '4 series 428i gran coupe', '4 series 428i gran coupe 4d',\n",
       "       '4 series 435i xdrive coupe', 'x6 m', '2 series 228i xdrive',\n",
       "       'x6 sdrive35i', '7 series alpina b7 xdrive',\n",
       "       '7 series 740i sedan 4d', '4 series 435i xdrive',\n",
       "       '4 series 435i coupe 2d', '4 series 440i gran coupe', '328i 98468',\n",
       "       '228i', 'x5 xdrive35i sport activity', '7 series 750i sedan 4d',\n",
       "       '328i xdrive awd', 'x5 xdrive48i sport utility', '335i e90',\n",
       "       '750li / alpina b7', 'x5 4.4i8', '335', '328i convertible',\n",
       "       '5-series 535i', '330 ci', 'x4', 'm4 coupe 2d',\n",
       "       '6 series 650i xdrive', 'x5 sdrive35i', '525i', '330',\n",
       "       'x5 xdrive35d diesel', '430i', 'm4', 'e39 540i', '750 li',\n",
       "       '3 series gran turismo', '750i', '740i', '335i coupe', 'x5 3.0si',\n",
       "       '650xi', '328i sedan', 'z3 coupe', '330i sedan manual',\n",
       "       'x5 xdrive50i sport utility', '3 series 320i xdrive sedan',\n",
       "       'x5 xdrive 50l', '5 series 535i', '123i', 'm5', '128i convertible',\n",
       "       'x5 xdrive35d sport utility', '4 series 440i coupe 2d',\n",
       "       '330ci sport', '550i', 'i3 tera world w/ range extender',\n",
       "       'm4 2020 white 3.0l 6', '2 series m235i', '323is', '740il',\n",
       "       '3-series 325i sedan', '328xi awd', '5 series 535i xdrive sedan',\n",
       "       'm3 sedan 4d', '2002 tii', '320 i', 'x5 xdrive50i',\n",
       "       '530e iperformance', '535i sports package', 'x3 xdrive35i',\n",
       "       'x5 35d', '340i', 'x5 xdrive40e', '4 series 428i', '323ci',\n",
       "       '330e iperformance', '3 series 325i', '7i series', '330i xdrive',\n",
       "       '328xi', 'convertible', 'i3 hatchback 4d', '320i/a',\n",
       "       '535i hybrid active5', '650 i mspt', 'x5 4.8i', '5 series 528i',\n",
       "       '320i sport', '430i sport', '3 - series 328i',\n",
       "       'i3 base w/range extender', '440i', 'm6', '1 series',\n",
       "       'x1 xdrive35i', '335d clean turbo diesel',\n",
       "       '7 series 750li xdrive sedan', '4 series 430i convertible',\n",
       "       '440i coupe', 'x6 xdrive35i', '650i', '530e xdrive iperformance',\n",
       "       '6 series 650i xdrive coupe', '6 series 640i xdrive',\n",
       "       '7 series 750i xdrive sedan', '325 series 3',\n",
       "       '2 series 230i convertible 2d', '540i', '535xi', 'z3 m roadster',\n",
       "       '535i xdrive', '650i coupe 2door automatic v', '535d',\n",
       "       '650i gran coupe', '325i sedan', '335is m-package', '750i / b7',\n",
       "       'z4 3.0i roadster', 'x5 3.0i awd', 'z4 convertible', 'm240i',\n",
       "       '740i sport', '330ci convertible', '3 series 328i convertible',\n",
       "       '5 series 525i', 'x5 sdrive 35i', '128i coupe', '645ci',\n",
       "       'i3 94 ah', 'i3 w/range extender', 'z3 3.0i',\n",
       "       '328i premium sport w/naviga', '330i sedan premium sport',\n",
       "       '328i coupe premium sport', 'x5 3.0i', 'i3 w/ range extender',\n",
       "       '3 series 325ci coupe', 'x3 2.5i', '428i convertible',\n",
       "       '325i convertable', '525i wagon', 'x3 sdrive30i sport utility',\n",
       "       '328i 2007', '640i gran turismo m sports', '328ix',\n",
       "       '750li ultra luxyry m sport', '325i 2004', 'z3 3.0i roadster',\n",
       "       '760li', '750li turbo m package', '745li', '330e', '328i sport',\n",
       "       'x2', 'x4 xdrive28i xdrive28i', 'z3 2.8', '7 series 750li', '328',\n",
       "       '535i m sport package', 'z3 2.3', 'z3 roadster', '323 i rwd',\n",
       "       '428', '525i m sport package', '318ti', 'x5 awd 4dr 35d',\n",
       "       '2 series 228i', '3 series 330i', '325 cic', '5 series 530i sedan',\n",
       "       '3 series 330e iperformance', '325i touring',\n",
       "       'm5 e60 smg v10 monster',\n",
       "       '530e iperformance e-drive clean air vehicle w. stickers',\n",
       "       '540i m-sport', 'i3 range hatchback', '535d m sport package',\n",
       "       '525i 4d', 'x6m', '330i sedan', '1 series 128i coupe 2d',\n",
       "       '1 series 135i coupe 2d', '750li luxury m-sport', 'x5 4.4i',\n",
       "       'x5 xdrive35i awd', 'm2', 'x3 m 3.0si', '335ix', '325ix',\n",
       "       '3 series 328i convertible 2d', '3 series 320i sedan 4d',\n",
       "       '6 series 640i xdrive gran', '3 series 328i sedan',\n",
       "       '5 series 528i xdrive', '530xi', '3 series 330i gt',\n",
       "       '328d xdrive awd', '320', '540', '320is', '5 series 530e xdrive',\n",
       "       'x5 m m', 'x3 m40i', '135i twin turbo', '335i sport',\n",
       "       '535xi wagon', '550i m sport', '335i xdrive coupe',\n",
       "       'x3 awd m/sport', '535i gran turismo', 'x3 xdrive28i awd',\n",
       "       '750li xdrive', '335 x1', 'x3 awd', 'x3 xdrive30i sport utility',\n",
       "       '7-series', '5 series 540i xdrive sedan', '528i xdrive',\n",
       "       'x1xdrive28i sport utility', '528', '5 series 535xi',\n",
       "       '3 series 335i coupe 2d', 'c1330', '318is',\n",
       "       '328 xi awd premium package', '330 xi', 'x5 4.4',\n",
       "       '335xi xdrive awd coupe', '328xi coupe awd', '435i xdrive',\n",
       "       '750ix m sport', 'm-roadster', '340i m sport package',\n",
       "       '3 series 335i xdrive sedan', 'm235i xdrive',\n",
       "       '435i xdrive gran coupe', '128', '525it',\n",
       "       '3 series 328i xdrive sport', '528iat', 'i3 with range extender',\n",
       "       'm3cic', '640i x drive gran coupe', 'x5 xdrive 5.0',\n",
       "       '6 series 650i gran coupe', 'x3 3.0i x drive', '318i convertible',\n",
       "       '4s', 'z 3', '750xi', '535 xi', 'x3 sdrive30i', '635csi', '335is',\n",
       "       '3 series 328xi', 'i8', '325i convertible', '328i only 7ok mile',\n",
       "       '740li', '6 series 640i gran coupe 4d', 'x3 xdrive35i m', '640i',\n",
       "       'x4 xdrive28i', '435i', '3 series 330i xdrive sport',\n",
       "       '328i like new* 70k mile', 'z4 m', '740',\n",
       "       'x5 sdrive 35i m pkg suv', '128i', 'x2 sdrive28i', 'm4 coupe',\n",
       "       'k 1200 lt', '4 series 435i convertible 2d', '3-series 330i', 'm8',\n",
       "       '525xi', 'm3 e90 sedan', '650i grancoupe', '435i m sport package',\n",
       "       'x3 3.0i xdrive', '335d', 'm6 6-series',\n",
       "       '328i hardtop convertible', '328i xdrive coupe', '4 series 435i',\n",
       "       'x5 xdrive 35d', '550i m pkg', '3-series 335i convertible',\n",
       "       '3 series 335i sedan', '335i xdrive gran turismo',\n",
       "       '6-series 650i convertible', '228i xdrive', 'i3 tera world',\n",
       "       '428i m-package 61k', '328i *like new* 70k',\n",
       "       '4 series 435i gran coupe', 'z3 roadster/hard top',\n",
       "       'z3 2.5 roadster', 'z4 3.0', '528e', '230i convertible',\n",
       "       '740li m sport packag', 'e46 m3', 'grand turismo 535i',\n",
       "       '435i *only 61k miles', '328i only 70,000 miles',\n",
       "       '4 series convertible', '3 series 328i coupe', 'x5 35i premium',\n",
       "       '740 il', 'x5 50i m-sport', '535', '30xi awd', '530xi wagon',\n",
       "       'x5 xdrive35i premium', '4 series 430i xdrive', 'm5 sedan 4d',\n",
       "       '633 csi', '3 series 330i sedan', 'x2 m35i', 'x5 xdrive35d awd',\n",
       "       'activehybrid 3', '228i coupe', 'x3 28i', '325e', '328i turbo',\n",
       "       'x6 m50i', 'x5 sdrive40i', '328i gt x-drive', '335i (e90)',\n",
       "       '3 series 340i', '330e iperf m sport', 'x6 sdrive 35i',\n",
       "       'x5 xdrive40i', 'x5 xdrive', '530i xdrive', 'x4 m40i',\n",
       "       '3 series 320i xdrive', 'i8 giga', 'm550i xdrive',\n",
       "       'x3 m competition', '330xi', '8 series', '323 is coupe',\n",
       "       'x3 2.5i awd', 'x5 xdrive35i awd 35i', '750i xdrive',\n",
       "       '330i (e46 zhp)', '325', 'm550i', '550i x-drive', '550i xdrive',\n",
       "       '335i turbo convertible', '328i x-drive awd', '740lxi xdrive',\n",
       "       '2 series m240i', 'x5 30i awd', '535i sedan',\n",
       "       '5 series 535i xdrive', '3 series 328d xdrive', '230i',\n",
       "       '6 series 645ci', '7-series 750li', 'z4 3.0i convertible',\n",
       "       'aplina b7', 'm3ci', '320ix', '640i xdrive', '3 series 325xi',\n",
       "       'x5 35i', '550i xdrive m sport', '535i luxury', 'x3 si 4x4',\n",
       "       'z4 35i', '328i hard top convertible', '428i xdrive', 'x5m',\n",
       "       '335i hard top convertible', '330xi awd', 'xdrive35i awd',\n",
       "       '428i xdrive gran coupe', 'xdrive35i premium awd',\n",
       "       'x1 sdrive e28i', 'x5 xdrive50i-sport', 'm3 competition pkg.',\n",
       "       '750i / alpina b7', '328 i', '328xi coupe', 'x5 xdrive30i awd suv',\n",
       "       'x3 3.5i awd', 'x5 5.0 awd', '340i xdrive', 'x3 4x4',\n",
       "       'x1 xdrive 28i sport', 'm235i', '650i xdrive gran coupe', '528it',\n",
       "       'm2 coupe 2d', '330 cic', '3 series 335xi coupe e92', 'e46 325i',\n",
       "       '540it wagon', '323', '325 xi', '750', 'm3 e36', 'z3m',\n",
       "       '740li xdrive', '328 xdrive', '325 is', '430i xdrive convertible',\n",
       "       'e39 530i', '550i gran tourismo', 'm-4 convertible twinturbo',\n",
       "       '335xi twin turbo awd', '328xi/nav/2.0turbo', 'x5 50i awd suv',\n",
       "       'm sport', '540i xdrive', 'm6 convertible', 'm5 30 jahre',\n",
       "       '335xi awd', '850ci', '550i xdrive 86k', '745 li', 'm550',\n",
       "       '740i m sport package', 'x3 xdrive 28i', '7 series 740i',\n",
       "       '2014 435i convertible', '328xi sedan', '535ix', '325xi awd',\n",
       "       'e30 325is', '335 i', 'x5 m series', 'x3m', '545i',\n",
       "       '7 series 750i', '545i 5 series', '7 series 740li', '530 xi',\n",
       "       'e24 633 csi alpina', '535i x series/ m sport pack',\n",
       "       '335xi xdrive awd sedan', '550xi awd m series', '735i',\n",
       "       '740i sedan', '530xi wagon awd', '328i sports wagon',\n",
       "       '325i sedan 3-series', '750il', '435i gran coupe m-sport', '2002',\n",
       "       '335i 3 series', '2-series', '328xi wagon', '745i',\n",
       "       'x5 xdrive 48i', '750li 4d white sedan', 'z4 roadster',\n",
       "       '335i coupe 3-series', '3-series 328i', 'z4 2.5',\n",
       "       '325 ci convertible', '8 series m850i xdrive gran', 'x3 3.5i',\n",
       "       'm3 zcp', '535 diesel sedan', '530 i', 'x3 3.0siawd 4d 2007',\n",
       "       'x5 series', 'i series', 'i3 tera with range extender',\n",
       "       'x3 xdrive3i', '5 series 540i xdrive', '323i convertible', 'e30',\n",
       "       'x5 3.0 turbo diesel xdrive', 'x5 xdrive 35i premium',\n",
       "       '3-series 328xi xdrive', 'x5 xdrive35i sport', 's1000',\n",
       "       '535i twin turbo engine', 'x6 xdrive50i sport utility', '325xit',\n",
       "       '545i sedan', '328xi xdrive awd', '535d xdrive m sport',\n",
       "       '535i gran turismo xdrive', '3320 xi', 'x7',\n",
       "       '328xi sport edition awd', 'x3 3.0is', '320i xdrive sedan',\n",
       "       '330ci zhp', '325ci convertible e30', '525 i', '3+series',\n",
       "       '5 series 535i 6 speed', 'm3 slicktop', 'x5 diesel',\n",
       "       '550xi m package', '6 series 640i gran turismo', '740i xdrive',\n",
       "       '325i wagon', '540i dinan s2', 'x5 e70', 'z-3', '340i x-drive',\n",
       "       '7 series 750li xdrive', '328i xdrive coupe awd', '430 x-drive',\n",
       "       '328xi gt', '4-series', '3 series 328i 4dr. sedan car',\n",
       "       '535i xdrive gran turismo', 'rex deka', 'i3 rex giga',\n",
       "       '328i xdrive i4 turbo awd', '323 convertible',\n",
       "       'z4 2.5i-convertible', '528 xdrive', '525i xdrive awd',\n",
       "       'x5 xdrive40e sport utility', '750li m sport',\n",
       "       'i3 rex (94 amp-hour battery', '328i xdrive gran turismo',\n",
       "       'i3 rex (94 amp-hour battery)', '5 series gran turismo',\n",
       "       'x-3, 335i xdrive', 'm3 e46', '328 x drive', '135i m sport',\n",
       "       'e60 m5', 'x5 x35i sport utility 4d',\n",
       "       '335 d sport sedan / twin turbo diesel / 102k miles',\n",
       "       'x1 xdrive28i twin turbo / awd / panoramic roof / cold weather + premium + tecnology + driver assist packages /',\n",
       "       '3 series 325ci', '7 series 745li sedan 4d', 'x3 suv',\n",
       "       'x3 xdrive28i automatic', 'x1 xdrive28i automatic',\n",
       "       '335i x-drive sedan', '530',\n",
       "       '750i luxury sport sedan only 55k miles heads up',\n",
       "       '328i low low mills clean car fax', 'x1 sdrive28i suv nav leather',\n",
       "       'x3 awd 2.0l i4 turbo', 'x1 sdrive28i suv', '440i xdrive',\n",
       "       '328i xdrive wagon m pkg sport premium leather moon',\n",
       "       '535i sedan sport premium gps leather moon 2 owners',\n",
       "       'x5 m awd 48k loaded alpine white pano leather 555 hp',\n",
       "       'x3 xdrive28i awd only 64k leather pano 2 owners',\n",
       "       '328i xdrive classic line only 53k sedan premium 19',\n",
       "       '530i sedan sport m pkg 42 service records 1 owner',\n",
       "       '328xi 6 speed manual heated leather navi moon roof', '840ci',\n",
       "       'z4 sdrive30i', '535is', '3 series 4dr sdn 335i rwd',\n",
       "       '3 series 325i 4dr sdn rwd', 'z3 2.8ltr roadster', '2008',\n",
       "       'x1 xdrive', 'e39 m5', '550i gt', '530xi 5 series x drive',\n",
       "       '328 xi', '528 xi', '328i xdrive wagon', '3-series 335i', '330 i',\n",
       "       '330i zhp', '540i sport pkg', 'x5 xdrive48i',\n",
       "       '6-series gran coupe', 'x1 28i xdrive', '335i gt',\n",
       "       '320i x drive awd', '430xi', '750 lix', '5-series 550i',\n",
       "       '428i xdrive convertible', '3-series sport wagon', 'x-5',\n",
       "       '328i wagon', '328 i sulev', '540i - m-sport', '530 ia',\n",
       "       '128 i convert', 'x3 35i', 'x1 xdrive 35i', '328 ci',\n",
       "       'x5 xdrive 35i', 'z4 sdrive35i roadster 2d',\n",
       "       '4 series 428i xdrive coupe', '6 series 650i gran coupe 4d',\n",
       "       '4 series 440i xdrive gran', 'x3 3.0i - 3l', '530i sedan sport',\n",
       "       '3 series 335d sport', '320i sedan', 'e46', '4 series 435i coupe',\n",
       "       'x5 premium w/ 3rd row', 'x6 sport turbo', '335is convt',\n",
       "       '2 series 230i xdrive', '2 series 228i xdrive coupe', 'alpina b7',\n",
       "       '530i e39', '430i gran coupe', '330i sports m pakege',\n",
       "       '6 series 650i', 'x2 xdrive28i sport utility', '328i sulev',\n",
       "       '530i sedan', 'x1 xdrive28i sport utility', '318 is',\n",
       "       '320i x-drive', '524td', 'aplina b7 lwb', '3 series 382i,',\n",
       "       '535i gt x-drive', '650i coupe', 'm3 sedan', 'z4 3.0is',\n",
       "       '228i m sport', 'i3 rwd electric hatchback',\n",
       "       'i3 rwd hybrid-electric auto', '328d (diesel)',\n",
       "       'x3 xdrive35i turbo / awd / panoramic roof / navi / sport + premium + cold weather pkgs / 85k miles',\n",
       "       '328 sulev rwd gas sedan auto', 'x5 m base',\n",
       "       '435 rwd gas coupe auto', '5 series 530i sport-line', 'i3 giga',\n",
       "       'x5 xdrive35i m-sport', 'x6 xdrive35i m-sport',\n",
       "       '3 series 328i m-sport', 'i3 s', '5 series 540i',\n",
       "       '128i 1-series coupe', '530e', 'm coupe', '528i x-drive',\n",
       "       '330i drive wagon', 'm roadster', '3-series gran turismo',\n",
       "       'x5 m awd', '6 series 650i coupe 2d', 'x5 4.6is alpina',\n",
       "       '340i m sports package', 'x3 3.5 xdrive',\n",
       "       '7 series 740li xdrive sedan', '325i e30', '328ci', '530i m sport',\n",
       "       '5 series 528ia', '528i m sport', '4 series 430i xdrive gran',\n",
       "       '328i xdrive sedan', '535i xdrive sedan', 'x3 3.0si awd',\n",
       "       '5 series 540i sedan 4d', '5 series 535i gran turismo',\n",
       "       '535i twin turbo', '3 series 328ix', '2 series 228i coupe 2d',\n",
       "       '328d sports line', 'x5 3.0si awd', '328xi 3 series awd 3.0l',\n",
       "       'x1 xdrive35i sport utility', '645 ci convertible'], dtype=object)"
      ]
     },
     "execution_count": 8,
     "metadata": {},
     "output_type": "execute_result"
    }
   ],
   "source": [
    "nur_BMWs[\"Modell\"].unique()"
   ]
  },
  {
   "cell_type": "code",
   "execution_count": 9,
   "id": "worth-attempt",
   "metadata": {},
   "outputs": [
    {
     "data": {
      "text/plain": [
       "809"
      ]
     },
     "execution_count": 9,
     "metadata": {},
     "output_type": "execute_result"
    }
   ],
   "source": [
    "len( nur_BMWs[\"Modell\"].unique() )"
   ]
  },
  {
   "cell_type": "markdown",
   "id": "imported-collapse",
   "metadata": {},
   "source": [
    "OK. Das sind immer noch 809 verschiedene BMW Modelle!"
   ]
  },
  {
   "cell_type": "code",
   "execution_count": 10,
   "id": "governing-precipitation",
   "metadata": {},
   "outputs": [
    {
     "data": {
      "text/plain": [
       "array(['gas', 'diesel', 'other', 'hybrid', 'electric'], dtype=object)"
      ]
     },
     "execution_count": 10,
     "metadata": {},
     "output_type": "execute_result"
    }
   ],
   "source": [
    "tabelle[\"Kraftstoff\"].unique()"
   ]
  },
  {
   "cell_type": "code",
   "execution_count": 11,
   "id": "entertaining-thesis",
   "metadata": {},
   "outputs": [
    {
     "data": {
      "text/plain": [
       "array(['blue', 'red', 'silver', 'black', 'white', 'grey', 'orange',\n",
       "       'green', 'yellow', 'custom', 'brown', 'purple'], dtype=object)"
      ]
     },
     "execution_count": 11,
     "metadata": {},
     "output_type": "execute_result"
    }
   ],
   "source": [
    "tabelle[\"Farbe\"].unique()"
   ]
  },
  {
   "cell_type": "code",
   "execution_count": 12,
   "id": "responsible-curtis",
   "metadata": {},
   "outputs": [
    {
     "data": {
      "text/plain": [
       "array(['al', 'ak', 'az', 'ar', 'ca', 'co', 'ct', 'dc', 'de', 'fl', 'ga',\n",
       "       'hi', 'id', 'il', 'in', 'ia', 'ks', 'ky', 'la', 'me', 'md', 'ma',\n",
       "       'mi', 'mn', 'ms', 'mo', 'mt', 'nc', 'ne', 'nv', 'nj', 'nm', 'ny',\n",
       "       'nh', 'nd', 'oh', 'ok', 'or', 'pa', 'ri', 'sc', 'sd', 'tn', 'tx',\n",
       "       'ut', 'vt', 'va', 'wa', 'wv', 'wi', 'wy'], dtype=object)"
      ]
     },
     "execution_count": 12,
     "metadata": {},
     "output_type": "execute_result"
    }
   ],
   "source": [
    "tabelle[\"Bundesstaat\"].unique()"
   ]
  },
  {
   "cell_type": "code",
   "execution_count": 13,
   "id": "heard-devon",
   "metadata": {},
   "outputs": [
    {
     "data": {
      "text/plain": [
       "51"
      ]
     },
     "execution_count": 13,
     "metadata": {},
     "output_type": "execute_result"
    }
   ],
   "source": [
    "len( tabelle[\"Bundesstaat\"].unique() )"
   ]
  },
  {
   "cell_type": "markdown",
   "id": "rising-brazil",
   "metadata": {},
   "source": [
    "# Deskriptive Statistik für Plausibilitätschecks"
   ]
  },
  {
   "cell_type": "code",
   "execution_count": 14,
   "id": "recent-shareware",
   "metadata": {},
   "outputs": [
    {
     "data": {
      "text/html": [
       "<div>\n",
       "<style scoped>\n",
       "    .dataframe tbody tr th:only-of-type {\n",
       "        vertical-align: middle;\n",
       "    }\n",
       "\n",
       "    .dataframe tbody tr th {\n",
       "        vertical-align: top;\n",
       "    }\n",
       "\n",
       "    .dataframe thead th {\n",
       "        text-align: right;\n",
       "    }\n",
       "</style>\n",
       "<table border=\"1\" class=\"dataframe\">\n",
       "  <thead>\n",
       "    <tr style=\"text-align: right;\">\n",
       "      <th></th>\n",
       "      <th>Preis</th>\n",
       "      <th>Baujahr</th>\n",
       "      <th>km-Stand</th>\n",
       "    </tr>\n",
       "  </thead>\n",
       "  <tbody>\n",
       "    <tr>\n",
       "      <th>count</th>\n",
       "      <td>2.858770e+05</td>\n",
       "      <td>285877.000000</td>\n",
       "      <td>2.858770e+05</td>\n",
       "    </tr>\n",
       "    <tr>\n",
       "      <th>mean</th>\n",
       "      <td>2.933290e+04</td>\n",
       "      <td>2011.623758</td>\n",
       "      <td>1.020471e+05</td>\n",
       "    </tr>\n",
       "    <tr>\n",
       "      <th>std</th>\n",
       "      <td>6.768121e+06</td>\n",
       "      <td>7.175194</td>\n",
       "      <td>3.824349e+06</td>\n",
       "    </tr>\n",
       "    <tr>\n",
       "      <th>min</th>\n",
       "      <td>0.000000e+00</td>\n",
       "      <td>1911.000000</td>\n",
       "      <td>0.000000e+00</td>\n",
       "    </tr>\n",
       "    <tr>\n",
       "      <th>25%</th>\n",
       "      <td>5.964000e+03</td>\n",
       "      <td>2008.000000</td>\n",
       "      <td>4.113100e+04</td>\n",
       "    </tr>\n",
       "    <tr>\n",
       "      <th>50%</th>\n",
       "      <td>1.259000e+04</td>\n",
       "      <td>2013.000000</td>\n",
       "      <td>8.699600e+04</td>\n",
       "    </tr>\n",
       "    <tr>\n",
       "      <th>75%</th>\n",
       "      <td>2.299000e+04</td>\n",
       "      <td>2016.000000</td>\n",
       "      <td>1.327370e+05</td>\n",
       "    </tr>\n",
       "    <tr>\n",
       "      <th>max</th>\n",
       "      <td>3.615215e+09</td>\n",
       "      <td>2021.000000</td>\n",
       "      <td>2.043756e+09</td>\n",
       "    </tr>\n",
       "  </tbody>\n",
       "</table>\n",
       "</div>"
      ],
      "text/plain": [
       "              Preis        Baujahr      km-Stand\n",
       "count  2.858770e+05  285877.000000  2.858770e+05\n",
       "mean   2.933290e+04    2011.623758  1.020471e+05\n",
       "std    6.768121e+06       7.175194  3.824349e+06\n",
       "min    0.000000e+00    1911.000000  0.000000e+00\n",
       "25%    5.964000e+03    2008.000000  4.113100e+04\n",
       "50%    1.259000e+04    2013.000000  8.699600e+04\n",
       "75%    2.299000e+04    2016.000000  1.327370e+05\n",
       "max    3.615215e+09    2021.000000  2.043756e+09"
      ]
     },
     "execution_count": 14,
     "metadata": {},
     "output_type": "execute_result"
    }
   ],
   "source": [
    "tabelle.describe()"
   ]
  },
  {
   "cell_type": "markdown",
   "id": "broad-tomato",
   "metadata": {},
   "source": [
    "Wie können wir die wissenschaftliche Notation unterdrücken?\n",
    "\n",
    "Siehe https://re-thought.com/how-to-suppress-scientific-notation-in-pandas/"
   ]
  },
  {
   "cell_type": "code",
   "execution_count": 15,
   "id": "basic-saying",
   "metadata": {},
   "outputs": [],
   "source": [
    "pd.options.display.float_format = \"{:.5f}\".format"
   ]
  },
  {
   "cell_type": "code",
   "execution_count": 16,
   "id": "automotive-texture",
   "metadata": {},
   "outputs": [
    {
     "data": {
      "text/html": [
       "<div>\n",
       "<style scoped>\n",
       "    .dataframe tbody tr th:only-of-type {\n",
       "        vertical-align: middle;\n",
       "    }\n",
       "\n",
       "    .dataframe tbody tr th {\n",
       "        vertical-align: top;\n",
       "    }\n",
       "\n",
       "    .dataframe thead th {\n",
       "        text-align: right;\n",
       "    }\n",
       "</style>\n",
       "<table border=\"1\" class=\"dataframe\">\n",
       "  <thead>\n",
       "    <tr style=\"text-align: right;\">\n",
       "      <th></th>\n",
       "      <th>Preis</th>\n",
       "      <th>Baujahr</th>\n",
       "      <th>km-Stand</th>\n",
       "    </tr>\n",
       "  </thead>\n",
       "  <tbody>\n",
       "    <tr>\n",
       "      <th>count</th>\n",
       "      <td>285877.00000</td>\n",
       "      <td>285877.00000</td>\n",
       "      <td>285877.00000</td>\n",
       "    </tr>\n",
       "    <tr>\n",
       "      <th>mean</th>\n",
       "      <td>29332.90293</td>\n",
       "      <td>2011.62376</td>\n",
       "      <td>102047.05506</td>\n",
       "    </tr>\n",
       "    <tr>\n",
       "      <th>std</th>\n",
       "      <td>6768121.45045</td>\n",
       "      <td>7.17519</td>\n",
       "      <td>3824349.10593</td>\n",
       "    </tr>\n",
       "    <tr>\n",
       "      <th>min</th>\n",
       "      <td>0.00000</td>\n",
       "      <td>1911.00000</td>\n",
       "      <td>0.00000</td>\n",
       "    </tr>\n",
       "    <tr>\n",
       "      <th>25%</th>\n",
       "      <td>5964.00000</td>\n",
       "      <td>2008.00000</td>\n",
       "      <td>41131.00000</td>\n",
       "    </tr>\n",
       "    <tr>\n",
       "      <th>50%</th>\n",
       "      <td>12590.00000</td>\n",
       "      <td>2013.00000</td>\n",
       "      <td>86996.00000</td>\n",
       "    </tr>\n",
       "    <tr>\n",
       "      <th>75%</th>\n",
       "      <td>22990.00000</td>\n",
       "      <td>2016.00000</td>\n",
       "      <td>132737.00000</td>\n",
       "    </tr>\n",
       "    <tr>\n",
       "      <th>max</th>\n",
       "      <td>3615215112.00000</td>\n",
       "      <td>2021.00000</td>\n",
       "      <td>2043755555.00000</td>\n",
       "    </tr>\n",
       "  </tbody>\n",
       "</table>\n",
       "</div>"
      ],
      "text/plain": [
       "                 Preis      Baujahr         km-Stand\n",
       "count     285877.00000 285877.00000     285877.00000\n",
       "mean       29332.90293   2011.62376     102047.05506\n",
       "std      6768121.45045      7.17519    3824349.10593\n",
       "min            0.00000   1911.00000          0.00000\n",
       "25%         5964.00000   2008.00000      41131.00000\n",
       "50%        12590.00000   2013.00000      86996.00000\n",
       "75%        22990.00000   2016.00000     132737.00000\n",
       "max   3615215112.00000   2021.00000 2043755555.00000"
      ]
     },
     "execution_count": 16,
     "metadata": {},
     "output_type": "execute_result"
    }
   ],
   "source": [
    "tabelle.describe()"
   ]
  },
  {
   "cell_type": "markdown",
   "id": "organized-saturn",
   "metadata": {},
   "source": [
    "Wir können an der deskriptiven Statistik schnell erkennen: da ist was falsch!\n",
    "\n",
    "Es gibt mindestens ein Auto mit einem gigantischen Preis und ein Auto mit einem gigantischen km-Stand.\n",
    "\n",
    "Wir sollten also mal einen Plausibilitätscheck durchführen:\n",
    "\n",
    "Gibt es Autos, die für mehr als $500000 angeboten werden?"
   ]
  },
  {
   "cell_type": "code",
   "execution_count": 17,
   "id": "anonymous-integer",
   "metadata": {},
   "outputs": [
    {
     "data": {
      "text/html": [
       "<div>\n",
       "<style scoped>\n",
       "    .dataframe tbody tr th:only-of-type {\n",
       "        vertical-align: middle;\n",
       "    }\n",
       "\n",
       "    .dataframe tbody tr th {\n",
       "        vertical-align: top;\n",
       "    }\n",
       "\n",
       "    .dataframe thead th {\n",
       "        text-align: right;\n",
       "    }\n",
       "</style>\n",
       "<table border=\"1\" class=\"dataframe\">\n",
       "  <thead>\n",
       "    <tr style=\"text-align: right;\">\n",
       "      <th></th>\n",
       "      <th>Preis</th>\n",
       "      <th>Baujahr</th>\n",
       "      <th>Hersteller</th>\n",
       "      <th>Modell</th>\n",
       "      <th>Kraftstoff</th>\n",
       "      <th>km-Stand</th>\n",
       "      <th>Farbe</th>\n",
       "      <th>Bundesstaat</th>\n",
       "    </tr>\n",
       "  </thead>\n",
       "  <tbody>\n",
       "    <tr>\n",
       "      <th>58402</th>\n",
       "      <td>999000</td>\n",
       "      <td>2017.00000</td>\n",
       "      <td>mercedes-benz</td>\n",
       "      <td>amg g 63</td>\n",
       "      <td>gas</td>\n",
       "      <td>4085.00000</td>\n",
       "      <td>white</td>\n",
       "      <td>fl</td>\n",
       "    </tr>\n",
       "    <tr>\n",
       "      <th>69477</th>\n",
       "      <td>3429900</td>\n",
       "      <td>2017.00000</td>\n",
       "      <td>jeep</td>\n",
       "      <td>wrangler unlimited</td>\n",
       "      <td>gas</td>\n",
       "      <td>16695.00000</td>\n",
       "      <td>black</td>\n",
       "      <td>fl</td>\n",
       "    </tr>\n",
       "    <tr>\n",
       "      <th>106021</th>\n",
       "      <td>1234567</td>\n",
       "      <td>1997.00000</td>\n",
       "      <td>chevrolet</td>\n",
       "      <td>silverado</td>\n",
       "      <td>gas</td>\n",
       "      <td>150000.00000</td>\n",
       "      <td>blue</td>\n",
       "      <td>ky</td>\n",
       "    </tr>\n",
       "    <tr>\n",
       "      <th>110358</th>\n",
       "      <td>22000000</td>\n",
       "      <td>2015.00000</td>\n",
       "      <td>toyota</td>\n",
       "      <td>tacoma</td>\n",
       "      <td>gas</td>\n",
       "      <td>71000.00000</td>\n",
       "      <td>white</td>\n",
       "      <td>la</td>\n",
       "    </tr>\n",
       "    <tr>\n",
       "      <th>120781</th>\n",
       "      <td>625000</td>\n",
       "      <td>2020.00000</td>\n",
       "      <td>ferrari</td>\n",
       "      <td>488 pista spider</td>\n",
       "      <td>gas</td>\n",
       "      <td>70.00000</td>\n",
       "      <td>silver</td>\n",
       "      <td>ma</td>\n",
       "    </tr>\n",
       "    <tr>\n",
       "      <th>148196</th>\n",
       "      <td>98504250</td>\n",
       "      <td>2008.00000</td>\n",
       "      <td>ford</td>\n",
       "      <td>ranger</td>\n",
       "      <td>gas</td>\n",
       "      <td>119143.00000</td>\n",
       "      <td>grey</td>\n",
       "      <td>nc</td>\n",
       "    </tr>\n",
       "    <tr>\n",
       "      <th>159198</th>\n",
       "      <td>12345678</td>\n",
       "      <td>2004.00000</td>\n",
       "      <td>toyota</td>\n",
       "      <td>prius</td>\n",
       "      <td>hybrid</td>\n",
       "      <td>14200.00000</td>\n",
       "      <td>silver</td>\n",
       "      <td>nj</td>\n",
       "    </tr>\n",
       "    <tr>\n",
       "      <th>190624</th>\n",
       "      <td>123456789</td>\n",
       "      <td>2018.00000</td>\n",
       "      <td>ram</td>\n",
       "      <td>3500 crewcab tradesma</td>\n",
       "      <td>diesel</td>\n",
       "      <td>83700.00000</td>\n",
       "      <td>grey</td>\n",
       "      <td>oh</td>\n",
       "    </tr>\n",
       "    <tr>\n",
       "      <th>239784</th>\n",
       "      <td>3615215112</td>\n",
       "      <td>2006.00000</td>\n",
       "      <td>chevrolet</td>\n",
       "      <td>silverado 2500hd</td>\n",
       "      <td>diesel</td>\n",
       "      <td>117500.00000</td>\n",
       "      <td>red</td>\n",
       "      <td>tx</td>\n",
       "    </tr>\n",
       "    <tr>\n",
       "      <th>240114</th>\n",
       "      <td>1111111</td>\n",
       "      <td>2000.00000</td>\n",
       "      <td>chevrolet</td>\n",
       "      <td>silverado</td>\n",
       "      <td>gas</td>\n",
       "      <td>178000.00000</td>\n",
       "      <td>custom</td>\n",
       "      <td>tx</td>\n",
       "    </tr>\n",
       "    <tr>\n",
       "      <th>254423</th>\n",
       "      <td>875995</td>\n",
       "      <td>2011.00000</td>\n",
       "      <td>chevrolet</td>\n",
       "      <td>tahoe</td>\n",
       "      <td>gas</td>\n",
       "      <td>150315.00000</td>\n",
       "      <td>silver</td>\n",
       "      <td>va</td>\n",
       "    </tr>\n",
       "  </tbody>\n",
       "</table>\n",
       "</div>"
      ],
      "text/plain": [
       "             Preis    Baujahr     Hersteller                 Modell  \\\n",
       "58402       999000 2017.00000  mercedes-benz               amg g 63   \n",
       "69477      3429900 2017.00000           jeep     wrangler unlimited   \n",
       "106021     1234567 1997.00000      chevrolet              silverado   \n",
       "110358    22000000 2015.00000         toyota                 tacoma   \n",
       "120781      625000 2020.00000        ferrari       488 pista spider   \n",
       "148196    98504250 2008.00000           ford                 ranger   \n",
       "159198    12345678 2004.00000         toyota                  prius   \n",
       "190624   123456789 2018.00000            ram  3500 crewcab tradesma   \n",
       "239784  3615215112 2006.00000      chevrolet       silverado 2500hd   \n",
       "240114     1111111 2000.00000      chevrolet              silverado   \n",
       "254423      875995 2011.00000      chevrolet                  tahoe   \n",
       "\n",
       "       Kraftstoff     km-Stand   Farbe Bundesstaat  \n",
       "58402         gas   4085.00000   white          fl  \n",
       "69477         gas  16695.00000   black          fl  \n",
       "106021        gas 150000.00000    blue          ky  \n",
       "110358        gas  71000.00000   white          la  \n",
       "120781        gas     70.00000  silver          ma  \n",
       "148196        gas 119143.00000    grey          nc  \n",
       "159198     hybrid  14200.00000  silver          nj  \n",
       "190624     diesel  83700.00000    grey          oh  \n",
       "239784     diesel 117500.00000     red          tx  \n",
       "240114        gas 178000.00000  custom          tx  \n",
       "254423        gas 150315.00000  silver          va  "
      ]
     },
     "execution_count": 17,
     "metadata": {},
     "output_type": "execute_result"
    }
   ],
   "source": [
    "tabelle[ tabelle[\"Preis\"] > 500000 ]"
   ]
  },
  {
   "cell_type": "markdown",
   "id": "classical-camcorder",
   "metadata": {},
   "source": [
    "Tatsächlich! Diese Preise sind nicht wirklich ernst zu nehmen vermute ich. Daher entfernen wir diese von der Liste:"
   ]
  },
  {
   "cell_type": "code",
   "execution_count": 18,
   "id": "retained-gauge",
   "metadata": {},
   "outputs": [
    {
     "data": {
      "text/plain": [
       "285877"
      ]
     },
     "execution_count": 18,
     "metadata": {},
     "output_type": "execute_result"
    }
   ],
   "source": [
    "len(tabelle)"
   ]
  },
  {
   "cell_type": "code",
   "execution_count": 19,
   "id": "flying-arctic",
   "metadata": {},
   "outputs": [],
   "source": [
    "tabelle = tabelle[ tabelle[\"Preis\"] <= 500000 ]"
   ]
  },
  {
   "cell_type": "code",
   "execution_count": 20,
   "id": "streaming-dream",
   "metadata": {},
   "outputs": [
    {
     "data": {
      "text/plain": [
       "285866"
      ]
     },
     "execution_count": 20,
     "metadata": {},
     "output_type": "execute_result"
    }
   ],
   "source": [
    "len(tabelle)"
   ]
  },
  {
   "cell_type": "markdown",
   "id": "adjacent-magic",
   "metadata": {},
   "source": [
    "Und jetzt zu unrealistischen km-Ständen. Gibt es irgendein Auto-Angebot mit mehr als 500000 Meilen?"
   ]
  },
  {
   "cell_type": "code",
   "execution_count": 21,
   "id": "strong-monte",
   "metadata": {},
   "outputs": [
    {
     "data": {
      "text/html": [
       "<div>\n",
       "<style scoped>\n",
       "    .dataframe tbody tr th:only-of-type {\n",
       "        vertical-align: middle;\n",
       "    }\n",
       "\n",
       "    .dataframe tbody tr th {\n",
       "        vertical-align: top;\n",
       "    }\n",
       "\n",
       "    .dataframe thead th {\n",
       "        text-align: right;\n",
       "    }\n",
       "</style>\n",
       "<table border=\"1\" class=\"dataframe\">\n",
       "  <thead>\n",
       "    <tr style=\"text-align: right;\">\n",
       "      <th></th>\n",
       "      <th>Preis</th>\n",
       "      <th>Baujahr</th>\n",
       "      <th>Hersteller</th>\n",
       "      <th>Modell</th>\n",
       "      <th>Kraftstoff</th>\n",
       "      <th>km-Stand</th>\n",
       "      <th>Farbe</th>\n",
       "      <th>Bundesstaat</th>\n",
       "    </tr>\n",
       "  </thead>\n",
       "  <tbody>\n",
       "    <tr>\n",
       "      <th>430</th>\n",
       "      <td>15000</td>\n",
       "      <td>2003.00000</td>\n",
       "      <td>volvo</td>\n",
       "      <td>vnl 780</td>\n",
       "      <td>diesel</td>\n",
       "      <td>1000000.00000</td>\n",
       "      <td>white</td>\n",
       "      <td>al</td>\n",
       "    </tr>\n",
       "    <tr>\n",
       "      <th>535</th>\n",
       "      <td>2200</td>\n",
       "      <td>1999.00000</td>\n",
       "      <td>gmc</td>\n",
       "      <td>savana 3500</td>\n",
       "      <td>gas</td>\n",
       "      <td>513189.00000</td>\n",
       "      <td>blue</td>\n",
       "      <td>al</td>\n",
       "    </tr>\n",
       "    <tr>\n",
       "      <th>722</th>\n",
       "      <td>3950</td>\n",
       "      <td>1941.00000</td>\n",
       "      <td>dodge</td>\n",
       "      <td>brothers</td>\n",
       "      <td>gas</td>\n",
       "      <td>999999.00000</td>\n",
       "      <td>green</td>\n",
       "      <td>al</td>\n",
       "    </tr>\n",
       "    <tr>\n",
       "      <th>2220</th>\n",
       "      <td>3777</td>\n",
       "      <td>2009.00000</td>\n",
       "      <td>pontiac</td>\n",
       "      <td>vibe gt</td>\n",
       "      <td>gas</td>\n",
       "      <td>1840000.00000</td>\n",
       "      <td>black</td>\n",
       "      <td>al</td>\n",
       "    </tr>\n",
       "    <tr>\n",
       "      <th>2283</th>\n",
       "      <td>10000</td>\n",
       "      <td>1967.00000</td>\n",
       "      <td>mercury</td>\n",
       "      <td>cougar</td>\n",
       "      <td>gas</td>\n",
       "      <td>1000000.00000</td>\n",
       "      <td>custom</td>\n",
       "      <td>al</td>\n",
       "    </tr>\n",
       "    <tr>\n",
       "      <th>...</th>\n",
       "      <td>...</td>\n",
       "      <td>...</td>\n",
       "      <td>...</td>\n",
       "      <td>...</td>\n",
       "      <td>...</td>\n",
       "      <td>...</td>\n",
       "      <td>...</td>\n",
       "      <td>...</td>\n",
       "    </tr>\n",
       "    <tr>\n",
       "      <th>281438</th>\n",
       "      <td>8300</td>\n",
       "      <td>2006.00000</td>\n",
       "      <td>volvo</td>\n",
       "      <td>vnl780</td>\n",
       "      <td>diesel</td>\n",
       "      <td>1800000.00000</td>\n",
       "      <td>green</td>\n",
       "      <td>ma</td>\n",
       "    </tr>\n",
       "    <tr>\n",
       "      <th>282370</th>\n",
       "      <td>5000</td>\n",
       "      <td>2011.00000</td>\n",
       "      <td>jeep</td>\n",
       "      <td>patriot</td>\n",
       "      <td>gas</td>\n",
       "      <td>1340000.00000</td>\n",
       "      <td>silver</td>\n",
       "      <td>nc</td>\n",
       "    </tr>\n",
       "    <tr>\n",
       "      <th>283421</th>\n",
       "      <td>500</td>\n",
       "      <td>2007.00000</td>\n",
       "      <td>volkswagen</td>\n",
       "      <td>rabbit</td>\n",
       "      <td>gas</td>\n",
       "      <td>1000000.00000</td>\n",
       "      <td>black</td>\n",
       "      <td>nh</td>\n",
       "    </tr>\n",
       "    <tr>\n",
       "      <th>285192</th>\n",
       "      <td>6900</td>\n",
       "      <td>2012.00000</td>\n",
       "      <td>jeep</td>\n",
       "      <td>patriot latitude 4x4</td>\n",
       "      <td>gas</td>\n",
       "      <td>985114.00000</td>\n",
       "      <td>black</td>\n",
       "      <td>tx</td>\n",
       "    </tr>\n",
       "    <tr>\n",
       "      <th>285351</th>\n",
       "      <td>7500</td>\n",
       "      <td>1999.00000</td>\n",
       "      <td>volvo</td>\n",
       "      <td>660</td>\n",
       "      <td>diesel</td>\n",
       "      <td>660568.00000</td>\n",
       "      <td>white</td>\n",
       "      <td>tx</td>\n",
       "    </tr>\n",
       "  </tbody>\n",
       "</table>\n",
       "<p>406 rows × 8 columns</p>\n",
       "</div>"
      ],
      "text/plain": [
       "        Preis    Baujahr  Hersteller                Modell Kraftstoff  \\\n",
       "430     15000 2003.00000       volvo               vnl 780     diesel   \n",
       "535      2200 1999.00000         gmc           savana 3500        gas   \n",
       "722      3950 1941.00000       dodge              brothers        gas   \n",
       "2220     3777 2009.00000     pontiac               vibe gt        gas   \n",
       "2283    10000 1967.00000     mercury                cougar        gas   \n",
       "...       ...        ...         ...                   ...        ...   \n",
       "281438   8300 2006.00000       volvo                vnl780     diesel   \n",
       "282370   5000 2011.00000        jeep               patriot        gas   \n",
       "283421    500 2007.00000  volkswagen                rabbit        gas   \n",
       "285192   6900 2012.00000        jeep  patriot latitude 4x4        gas   \n",
       "285351   7500 1999.00000       volvo                   660     diesel   \n",
       "\n",
       "            km-Stand   Farbe Bundesstaat  \n",
       "430    1000000.00000   white          al  \n",
       "535     513189.00000    blue          al  \n",
       "722     999999.00000   green          al  \n",
       "2220   1840000.00000   black          al  \n",
       "2283   1000000.00000  custom          al  \n",
       "...              ...     ...         ...  \n",
       "281438 1800000.00000   green          ma  \n",
       "282370 1340000.00000  silver          nc  \n",
       "283421 1000000.00000   black          nh  \n",
       "285192  985114.00000   black          tx  \n",
       "285351  660568.00000   white          tx  \n",
       "\n",
       "[406 rows x 8 columns]"
      ]
     },
     "execution_count": 21,
     "metadata": {},
     "output_type": "execute_result"
    }
   ],
   "source": [
    "tabelle[ tabelle[\"km-Stand\"] > 500000 ]"
   ]
  },
  {
   "cell_type": "markdown",
   "id": "understanding-honey",
   "metadata": {},
   "source": [
    "Vielleicht stimmen bei einigen Angeboten diese km-Stände. Aber die Angebote mit genau oder größer 1.000.000 Meilen kommen mir sehr unplausibel vor! Also entfernen:"
   ]
  },
  {
   "cell_type": "code",
   "execution_count": 22,
   "id": "optical-massage",
   "metadata": {},
   "outputs": [],
   "source": [
    "tabelle = tabelle[ tabelle[\"km-Stand\"] < 999999 ]"
   ]
  },
  {
   "cell_type": "code",
   "execution_count": 23,
   "id": "linear-migration",
   "metadata": {},
   "outputs": [
    {
     "data": {
      "text/plain": [
       "285594"
      ]
     },
     "execution_count": 23,
     "metadata": {},
     "output_type": "execute_result"
    }
   ],
   "source": [
    "len(tabelle)"
   ]
  },
  {
   "cell_type": "markdown",
   "id": "computational-rogers",
   "metadata": {},
   "source": [
    "Es sind jetzt also nochmal ein paar Autos weniger geworden.\n",
    "\n",
    "Schauen wir uns jetzt nochmal die deskriptive Statistik an:"
   ]
  },
  {
   "cell_type": "code",
   "execution_count": 24,
   "id": "patent-intention",
   "metadata": {},
   "outputs": [
    {
     "data": {
      "text/html": [
       "<div>\n",
       "<style scoped>\n",
       "    .dataframe tbody tr th:only-of-type {\n",
       "        vertical-align: middle;\n",
       "    }\n",
       "\n",
       "    .dataframe tbody tr th {\n",
       "        vertical-align: top;\n",
       "    }\n",
       "\n",
       "    .dataframe thead th {\n",
       "        text-align: right;\n",
       "    }\n",
       "</style>\n",
       "<table border=\"1\" class=\"dataframe\">\n",
       "  <thead>\n",
       "    <tr style=\"text-align: right;\">\n",
       "      <th></th>\n",
       "      <th>Preis</th>\n",
       "      <th>Baujahr</th>\n",
       "      <th>km-Stand</th>\n",
       "    </tr>\n",
       "  </thead>\n",
       "  <tbody>\n",
       "    <tr>\n",
       "      <th>count</th>\n",
       "      <td>285594.00000</td>\n",
       "      <td>285594.00000</td>\n",
       "      <td>285594.00000</td>\n",
       "    </tr>\n",
       "    <tr>\n",
       "      <th>mean</th>\n",
       "      <td>15769.97752</td>\n",
       "      <td>2011.63544</td>\n",
       "      <td>92608.04043</td>\n",
       "    </tr>\n",
       "    <tr>\n",
       "      <th>std</th>\n",
       "      <td>13566.60094</td>\n",
       "      <td>7.15256</td>\n",
       "      <td>62831.59941</td>\n",
       "    </tr>\n",
       "    <tr>\n",
       "      <th>min</th>\n",
       "      <td>0.00000</td>\n",
       "      <td>1911.00000</td>\n",
       "      <td>0.00000</td>\n",
       "    </tr>\n",
       "    <tr>\n",
       "      <th>25%</th>\n",
       "      <td>5975.50000</td>\n",
       "      <td>2008.00000</td>\n",
       "      <td>41074.50000</td>\n",
       "    </tr>\n",
       "    <tr>\n",
       "      <th>50%</th>\n",
       "      <td>12590.00000</td>\n",
       "      <td>2013.00000</td>\n",
       "      <td>86860.00000</td>\n",
       "    </tr>\n",
       "    <tr>\n",
       "      <th>75%</th>\n",
       "      <td>22990.00000</td>\n",
       "      <td>2016.00000</td>\n",
       "      <td>132528.00000</td>\n",
       "    </tr>\n",
       "    <tr>\n",
       "      <th>max</th>\n",
       "      <td>389500.00000</td>\n",
       "      <td>2021.00000</td>\n",
       "      <td>999990.00000</td>\n",
       "    </tr>\n",
       "  </tbody>\n",
       "</table>\n",
       "</div>"
      ],
      "text/plain": [
       "             Preis      Baujahr     km-Stand\n",
       "count 285594.00000 285594.00000 285594.00000\n",
       "mean   15769.97752   2011.63544  92608.04043\n",
       "std    13566.60094      7.15256  62831.59941\n",
       "min        0.00000   1911.00000      0.00000\n",
       "25%     5975.50000   2008.00000  41074.50000\n",
       "50%    12590.00000   2013.00000  86860.00000\n",
       "75%    22990.00000   2016.00000 132528.00000\n",
       "max   389500.00000   2021.00000 999990.00000"
      ]
     },
     "execution_count": 24,
     "metadata": {},
     "output_type": "execute_result"
    }
   ],
   "source": [
    "tabelle.describe()"
   ]
  },
  {
   "cell_type": "markdown",
   "id": "athletic-annotation",
   "metadata": {},
   "source": [
    "# Analyse eines einzelnen Merkmals: Histogramm"
   ]
  },
  {
   "cell_type": "markdown",
   "id": "sticky-hello",
   "metadata": {},
   "source": [
    "Wir nehmen mal ein einzelnes Merkmal genauer unter die Lupe: den Preis.\n",
    "\n",
    "Um zu verstehen wie oft bestimmte Preise für gebrauchte Autos verlangt werden, können Histogramme erzeugt werden:"
   ]
  },
  {
   "cell_type": "code",
   "execution_count": 25,
   "id": "personalized-upset",
   "metadata": {},
   "outputs": [
    {
     "data": {
      "image/png": "[encoded data removed]",
      "text/plain": [
       "<Figure size 432x288 with 1 Axes>"
      ]
     },
     "metadata": {
      "needs_background": "light"
     },
     "output_type": "display_data"
    }
   ],
   "source": [
    "from matplotlib import pyplot as plt\n",
    "\n",
    "plt.hist( tabelle[\"Preis\"] )\n",
    "plt.show()"
   ]
  },
  {
   "cell_type": "markdown",
   "id": "subjective-great",
   "metadata": {},
   "source": [
    "Na das war ja nicht sehr hilfreich. Die wenigen Ausreißer / Angebote mit hohen Preisen machen uns das Histogramm kaputt. Also gleich nochmal: dieses Mal schränken wir die Preise noch so ein, dass wir als Maximalpreis genau den Preis nehmen, so dass 95% der Autos dabei sind:"
   ]
  },
  {
   "cell_type": "code",
   "execution_count": 26,
   "id": "documentary-tamil",
   "metadata": {},
   "outputs": [
    {
     "data": {
      "text/plain": [
       "39991.0"
      ]
     },
     "execution_count": 26,
     "metadata": {},
     "output_type": "execute_result"
    }
   ],
   "source": [
    "verkaufspreis = tabelle[\"Preis\"].quantile(0.95)\n",
    "verkaufspreis"
   ]
  },
  {
   "cell_type": "code",
   "execution_count": 27,
   "id": "incomplete-mistress",
   "metadata": {},
   "outputs": [],
   "source": [
    "autos_typische_verkaufspreise = tabelle[ tabelle[\"Preis\"] < verkaufspreis ]"
   ]
  },
  {
   "cell_type": "code",
   "execution_count": 28,
   "id": "seasonal-pakistan",
   "metadata": {},
   "outputs": [
    {
     "data": {
      "image/png": "[encoded data removed]",
      "text/plain": [
       "<Figure size 432x288 with 1 Axes>"
      ]
     },
     "metadata": {
      "needs_background": "light"
     },
     "output_type": "display_data"
    }
   ],
   "source": [
    "plt.hist( autos_typische_verkaufspreise[\"Preis\"] )\n",
    "plt.show()"
   ]
  },
  {
   "cell_type": "markdown",
   "id": "prospective-ballet",
   "metadata": {},
   "source": [
    "Wir können die Unterteilung jetzt noch feiner machen:"
   ]
  },
  {
   "cell_type": "code",
   "execution_count": 29,
   "id": "specialized-hotel",
   "metadata": {},
   "outputs": [
    {
     "data": {
      "image/png": "[encoded data removed]",
      "text/plain": [
       "<Figure size 432x288 with 1 Axes>"
      ]
     },
     "metadata": {
      "needs_background": "light"
     },
     "output_type": "display_data"
    }
   ],
   "source": [
    "plt.hist( autos_typische_verkaufspreise[\"Preis\"], bins=40 )\n",
    "plt.show()"
   ]
  },
  {
   "cell_type": "markdown",
   "id": "acceptable-treasure",
   "metadata": {},
   "source": [
    "Man sieht, dass die meisten gebrauchten Autos anscheinend für unter $1000 gehandelt werden.\n",
    "\n",
    "Jetzt wäre es noch schön, das Histogramm-Diagramm hübscher zu machen, z.B., dass man die einzelnen Balken der Häufigkeiten klar unterscheiden kann:"
   ]
  },
  {
   "cell_type": "code",
   "execution_count": 36,
   "id": "simple-invention",
   "metadata": {},
   "outputs": [
    {
     "data": {
      "image/png": "[encoded data removed]",
      "text/plain": [
       "<Figure size 432x288 with 1 Axes>"
      ]
     },
     "metadata": {
      "needs_background": "light"
     },
     "output_type": "display_data"
    }
   ],
   "source": [
    "plt.hist( autos_typische_verkaufspreise[\"Preis\"], bins=40, edgecolor='black', linewidth=1.2,\n",
    "         color=\"lightblue\" )\n",
    "plt.show()"
   ]
  },
  {
   "cell_type": "markdown",
   "id": "exotic-isolation",
   "metadata": {},
   "source": [
    "Das Diagramm könnte noch verbessert werden:\n",
    "- größer\n",
    "- Achsen beschriften\n",
    "- Titel"
   ]
  },
  {
   "cell_type": "code",
   "execution_count": 64,
   "id": "biological-prevention",
   "metadata": {},
   "outputs": [
    {
     "data": {
      "image/png": "[encoded data removed]",
      "text/plain": [
       "<Figure size 600x300 with 1 Axes>"
      ]
     },
     "metadata": {
      "needs_background": "light"
     },
     "output_type": "display_data"
    }
   ],
   "source": [
    "figure = plt.gcf()\n",
    "\n",
    "px = 1/plt.rcParams['figure.dpi']  # pixel in inches\n",
    "figure.set_size_inches(600*px, 300*px)\n",
    "\n",
    "plt.hist( autos_typische_verkaufspreise[\"Preis\"], bins=40, edgecolor='black', linewidth=1.2,\n",
    "          color=\"lightblue\" )\n",
    "\n",
    "plt.xlabel(\"\\nVerkaufspreis\", fontsize=14)\n",
    "plt.ylabel(\"Häufigkeit\\n\", fontsize=14)\n",
    "plt.title(\"Zu welchem Preis wurden die Autos wie oft verkauft?\\n\", fontsize=16)\n",
    "plt.show()"
   ]
  },
  {
   "cell_type": "markdown",
   "id": "incorrect-transsexual",
   "metadata": {},
   "source": [
    "Schön wäre auch noch ein Gitter mit Hilfslinien zum besser Ablesen der Werte:"
   ]
  },
  {
   "cell_type": "code",
   "execution_count": 72,
   "id": "sharing-police",
   "metadata": {},
   "outputs": [
    {
     "data": {
      "image/png": "[encoded data removed]",
      "text/plain": [
       "<Figure size 600x300 with 1 Axes>"
      ]
     },
     "metadata": {
      "needs_background": "light"
     },
     "output_type": "display_data"
    }
   ],
   "source": [
    "figure = plt.gcf()\n",
    "\n",
    "px = 1/plt.rcParams['figure.dpi']  # pixel in inches\n",
    "figure.set_size_inches(600*px, 300*px)\n",
    "\n",
    "plt.hist( autos_typische_verkaufspreise[\"Preis\"], bins=40, edgecolor='black', linewidth=1.2,\n",
    "          color=\"lightblue\" )\n",
    "\n",
    "axis = plt.gca()\n",
    "axis.set_axisbelow(True)\n",
    "plt.grid(linestyle=\"--\", color=\"gray\")\n",
    "\n",
    "plt.xlabel(\"\\nVerkaufspreis\", fontsize=14)\n",
    "plt.ylabel(\"Häufigkeit\\n\", fontsize=14)\n",
    "plt.title(\"Zu welchem Preis wurden die Autos wie oft verkauft?\\n\", fontsize=16)\n",
    "plt.show()"
   ]
  },
  {
   "cell_type": "markdown",
   "id": "opposite-dallas",
   "metadata": {},
   "source": [
    "Die Anzahl und die genauen Stellen der Gitterhilfslinien können folgendermaßen definiert werden:"
   ]
  },
  {
   "cell_type": "code",
   "execution_count": 92,
   "id": "armed-template",
   "metadata": {},
   "outputs": [
    {
     "data": {
      "image/png": "[encoded data removed]",
      "text/plain": [
       "<Figure size 800x400 with 1 Axes>"
      ]
     },
     "metadata": {
      "needs_background": "light"
     },
     "output_type": "display_data"
    }
   ],
   "source": [
    "import numpy as np\n",
    "\n",
    "figure = plt.gcf()\n",
    "\n",
    "px = 1/plt.rcParams['figure.dpi']  # pixel in inches\n",
    "figure.set_size_inches(800*px, 400*px)\n",
    "\n",
    "plt.hist( autos_typische_verkaufspreise[\"Preis\"], bins=40, edgecolor='black', linewidth=1.2,\n",
    "          color=\"lightblue\" )\n",
    "\n",
    "ax = plt.gca()\n",
    "ax.set_axisbelow(True)\n",
    "\n",
    "x_ticks = np.arange(0, 40000, 1000)\n",
    "y_ticks = np.arange(0, 25000, 2000)\n",
    "ax.set_xticks(x_ticks)\n",
    "ax.set_yticks(y_ticks)\n",
    "\n",
    "plt.grid(linestyle=\"--\", color=\"gray\")\n",
    "\n",
    "plt.xlabel(\"\\nVerkaufspreis\", fontsize=14)\n",
    "plt.ylabel(\"Häufigkeit\\n\", fontsize=14)\n",
    "plt.title(\"Zu welchem Preis wurden die Autos wie oft verkauft?\\n\", fontsize=16)\n",
    "plt.show()"
   ]
  },
  {
   "cell_type": "markdown",
   "id": "jewish-example",
   "metadata": {},
   "source": [
    "Jetzt haben wir viel mehr Hilfslinien, aber auch ein neues Problem: die Beschriftungen der Ticks auf der horizontalen Achse überlappen sich!"
   ]
  },
  {
   "cell_type": "code",
   "execution_count": 102,
   "id": "second-trauma",
   "metadata": {},
   "outputs": [
    {
     "name": "stdout",
     "output_type": "stream",
     "text": [
      "[    0  1000  2000  3000  4000  5000  6000  7000  8000  9000 10000 11000\n",
      " 12000 13000 14000 15000 16000 17000 18000 19000 20000 21000 22000 23000\n",
      " 24000 25000 26000 27000 28000 29000 30000 31000 32000 33000 34000 35000\n",
      " 36000 37000 38000 39000]\n",
      "[0, '', '', '', '', 5000, '', '', '', '', 10000, '', '', '', '', 15000, '', '', '', '', 20000, '', '', '', '', 25000, '', '', '', '', 30000, '', '', '', '', 35000, '', '', '', '']\n"
     ]
    },
    {
     "data": {
      "image/png": "[encoded data removed]",
      "text/plain": [
       "<Figure size 800x400 with 1 Axes>"
      ]
     },
     "metadata": {
      "needs_background": "light"
     },
     "output_type": "display_data"
    }
   ],
   "source": [
    "import numpy as np\n",
    "\n",
    "figure = plt.gcf()\n",
    "\n",
    "px = 1/plt.rcParams['figure.dpi']  # pixel in inches\n",
    "figure.set_size_inches(800*px, 400*px)\n",
    "\n",
    "plt.hist( autos_typische_verkaufspreise[\"Preis\"], bins=40, edgecolor='black', linewidth=1.2,\n",
    "          color=\"lightblue\" )\n",
    "\n",
    "ax = plt.gca()\n",
    "ax.set_axisbelow(True)\n",
    "\n",
    "x_ticks = np.arange(0, 40000, 1000)\n",
    "y_ticks = np.arange(0, 25000, 2000)\n",
    "ax.set_xticks(x_ticks)\n",
    "ax.set_yticks(y_ticks)\n",
    "\n",
    "print(x_ticks)\n",
    "x_tick_labels = []\n",
    "for x in x_ticks:\n",
    "    if x % 5000 == 0:\n",
    "        x_tick_labels.append(x)\n",
    "    else:\n",
    "        x_tick_labels.append(\"\")\n",
    "print(x_tick_labels)\n",
    "\n",
    "ax.set_xticklabels( x_tick_labels, rotation=90 )\n",
    "\n",
    "plt.grid(linestyle=\"--\", color=\"gray\")\n",
    "\n",
    "plt.xlabel(\"\\nVerkaufspreis\", fontsize=14)\n",
    "plt.ylabel(\"Häufigkeit\\n\", fontsize=14)\n",
    "plt.title(\"Zu welchem Preis wurden die Autos wie oft verkauft?\\n\", fontsize=16)\n",
    "plt.show()"
   ]
  },
  {
   "cell_type": "markdown",
   "id": "lucky-thumbnail",
   "metadata": {},
   "source": [
    "Ein tolles Diagramm! Jetzt wollen wir es abspeichern."
   ]
  },
  {
   "cell_type": "code",
   "execution_count": 106,
   "id": "infectious-relative",
   "metadata": {},
   "outputs": [
    {
     "name": "stdout",
     "output_type": "stream",
     "text": [
      "x_ticks:  [    0  1000  2000  3000  4000  5000  6000  7000  8000  9000 10000 11000\n",
      " 12000 13000 14000 15000 16000 17000 18000 19000 20000 21000 22000 23000\n",
      " 24000 25000 26000 27000 28000 29000 30000 31000 32000 33000 34000 35000\n",
      " 36000 37000 38000 39000]\n",
      "x_tick_labels:  [0, '', '', '', '', 5000, '', '', '', '', 10000, '', '', '', '', 15000, '', '', '', '', 20000, '', '', '', '', 25000, '', '', '', '', 30000, '', '', '', '', 35000, '', '', '', '']\n"
     ]
    },
    {
     "data": {
      "image/png": "[encoded data removed]",
      "text/plain": [
       "<Figure size 800x400 with 1 Axes>"
      ]
     },
     "metadata": {
      "needs_background": "light"
     },
     "output_type": "display_data"
    }
   ],
   "source": [
    "import numpy as np\n",
    "\n",
    "figure = plt.gcf()\n",
    "\n",
    "px = 1/plt.rcParams['figure.dpi']  # pixel in inches\n",
    "figure.set_size_inches(800*px, 400*px)\n",
    "\n",
    "plt.hist( autos_typische_verkaufspreise[\"Preis\"], bins=40, edgecolor='black', linewidth=1.2,\n",
    "          color=\"lightgreen\" )\n",
    "\n",
    "ax = plt.gca()\n",
    "ax.set_axisbelow(True)\n",
    "\n",
    "x_ticks = np.arange(0, 40000, 1000)\n",
    "y_ticks = np.arange(0, 25000, 2000)\n",
    "ax.set_xticks(x_ticks)\n",
    "ax.set_yticks(y_ticks)\n",
    "\n",
    "print(\"x_ticks: \", x_ticks)\n",
    "x_tick_labels = []\n",
    "for x in x_ticks:\n",
    "    if x % 5000 == 0:\n",
    "        x_tick_labels.append(x)\n",
    "    else:\n",
    "        x_tick_labels.append(\"\")\n",
    "print(\"x_tick_labels: \", x_tick_labels)\n",
    "\n",
    "ax.set_xticklabels( x_tick_labels, rotation=90 )\n",
    "\n",
    "plt.grid(linestyle=\"--\", color=\"gray\")\n",
    "\n",
    "plt.xlabel(\"\\nVerkaufspreis\", fontsize=14)\n",
    "plt.ylabel(\"Häufigkeit\\n\", fontsize=14)\n",
    "plt.title(\"Zu welchem Preis wurden die Autos wie oft verkauft?\\n\", fontsize=16)\n",
    "\n",
    "plt.savefig(\"verkaufspreis_histogramm.pdf\", transparent=False)\n",
    "plt.show()"
   ]
  },
  {
   "cell_type": "markdown",
   "id": "quiet-loading",
   "metadata": {},
   "source": [
    "Jetzt wäre es toll, wenn der Mittelwert noch im Diagramm eingezeichnet wäre, z.B. als Linie:"
   ]
  },
  {
   "cell_type": "code",
   "execution_count": 107,
   "id": "standing-lemon",
   "metadata": {},
   "outputs": [
    {
     "data": {
      "text/plain": [
       "0          4900\n",
       "1          2000\n",
       "2         19500\n",
       "3         29590\n",
       "4         39990\n",
       "          ...  \n",
       "285872     5300\n",
       "285873    14995\n",
       "285874    17895\n",
       "285875    17900\n",
       "285876     1300\n",
       "Name: Preis, Length: 271300, dtype: int64"
      ]
     },
     "execution_count": 107,
     "metadata": {},
     "output_type": "execute_result"
    }
   ],
   "source": [
    "autos_typische_verkaufspreise[\"Preis\"]"
   ]
  },
  {
   "cell_type": "code",
   "execution_count": 108,
   "id": "wrapped-memorial",
   "metadata": {},
   "outputs": [
    {
     "data": {
      "text/plain": [
       "13868.411481754516"
      ]
     },
     "execution_count": 108,
     "metadata": {},
     "output_type": "execute_result"
    }
   ],
   "source": [
    "autos_typische_verkaufspreise[\"Preis\"].mean()"
   ]
  },
  {
   "cell_type": "markdown",
   "id": "meaning-conducting",
   "metadata": {},
   "source": [
    "Es gibt in der deskriptiven Statistik aber auch noch andere *Lageparameter*, v.a. den Median:"
   ]
  },
  {
   "cell_type": "code",
   "execution_count": 110,
   "id": "liked-delta",
   "metadata": {},
   "outputs": [
    {
     "data": {
      "text/plain": [
       "11900.0"
      ]
     },
     "execution_count": 110,
     "metadata": {},
     "output_type": "execute_result"
    }
   ],
   "source": [
    "autos_typische_verkaufspreise[\"Preis\"].median()"
   ]
  },
  {
   "cell_type": "markdown",
   "id": "dynamic-boxing",
   "metadata": {},
   "source": [
    "Zum Unterschied Mittelwert vs. Median:"
   ]
  },
  {
   "cell_type": "code",
   "execution_count": 116,
   "id": "manufactured-western",
   "metadata": {},
   "outputs": [],
   "source": [
    "daten = np.array( [1,2,3,4, 5, 6,7,8,9] )"
   ]
  },
  {
   "cell_type": "code",
   "execution_count": 121,
   "id": "canadian-upset",
   "metadata": {},
   "outputs": [
    {
     "data": {
      "text/plain": [
       "5.0"
      ]
     },
     "execution_count": 121,
     "metadata": {},
     "output_type": "execute_result"
    }
   ],
   "source": [
    "np.mean( daten )"
   ]
  },
  {
   "cell_type": "code",
   "execution_count": 122,
   "id": "disabled-logistics",
   "metadata": {},
   "outputs": [
    {
     "data": {
      "text/plain": [
       "5.0"
      ]
     },
     "execution_count": 122,
     "metadata": {},
     "output_type": "execute_result"
    }
   ],
   "source": [
    "np.median( daten )"
   ]
  },
  {
   "cell_type": "code",
   "execution_count": 123,
   "id": "secure-diabetes",
   "metadata": {},
   "outputs": [],
   "source": [
    "daten2 = np.array( [1,2,3,4, 5, 6,7,80000,9] )"
   ]
  },
  {
   "cell_type": "code",
   "execution_count": 124,
   "id": "intended-bunch",
   "metadata": {},
   "outputs": [
    {
     "data": {
      "text/plain": [
       "8893.0"
      ]
     },
     "execution_count": 124,
     "metadata": {},
     "output_type": "execute_result"
    }
   ],
   "source": [
    "np.mean( daten2 )"
   ]
  },
  {
   "cell_type": "code",
   "execution_count": 125,
   "id": "continuing-supply",
   "metadata": {},
   "outputs": [
    {
     "data": {
      "text/plain": [
       "5.0"
      ]
     },
     "execution_count": 125,
     "metadata": {},
     "output_type": "execute_result"
    }
   ],
   "source": [
    "np.median( daten2 )"
   ]
  },
  {
   "cell_type": "markdown",
   "id": "exclusive-africa",
   "metadata": {},
   "source": [
    "Der Mittelwert ist also anfällig für Ausreißer, der Median nicht. Daher nehmen wir jetzt den Median:"
   ]
  },
  {
   "cell_type": "code",
   "execution_count": 131,
   "id": "forward-student",
   "metadata": {},
   "outputs": [
    {
     "data": {
      "text/plain": [
       "11900.0"
      ]
     },
     "execution_count": 131,
     "metadata": {},
     "output_type": "execute_result"
    }
   ],
   "source": [
    "verkaufspreis_median = autos_typische_verkaufspreise[\"Preis\"].median()\n",
    "verkaufspreis_median"
   ]
  },
  {
   "cell_type": "code",
   "execution_count": 148,
   "id": "athletic-league",
   "metadata": {},
   "outputs": [
    {
     "name": "stdout",
     "output_type": "stream",
     "text": [
      "x_ticks:  [    0  1000  2000  3000  4000  5000  6000  7000  8000  9000 10000 11000\n",
      " 12000 13000 14000 15000 16000 17000 18000 19000 20000 21000 22000 23000\n",
      " 24000 25000 26000 27000 28000 29000 30000 31000 32000 33000 34000 35000\n",
      " 36000 37000 38000 39000]\n",
      "x_tick_labels:  [0, '', '', '', '', 5000, '', '', '', '', 10000, '', '', '', '', 15000, '', '', '', '', 20000, '', '', '', '', 25000, '', '', '', '', 30000, '', '', '', '', 35000, '', '', '', '']\n"
     ]
    },
    {
     "data": {
      "image/png": "[encoded data removed]",
      "text/plain": [
       "<Figure size 800x400 with 1 Axes>"
      ]
     },
     "metadata": {
      "needs_background": "light"
     },
     "output_type": "display_data"
    }
   ],
   "source": [
    "import numpy as np\n",
    "\n",
    "figure = plt.gcf()\n",
    "\n",
    "px = 1/plt.rcParams['figure.dpi']  # pixel in inches\n",
    "figure.set_size_inches(800*px, 400*px)\n",
    "\n",
    "plt.hist( autos_typische_verkaufspreise[\"Preis\"], bins=40, edgecolor='black', linewidth=1.2,\n",
    "          color=\"lightgreen\" )\n",
    "\n",
    "ax = plt.gca()\n",
    "ax.set_axisbelow(True)\n",
    "\n",
    "x_ticks = np.arange(0, 40000, 1000)\n",
    "y_ticks = np.arange(0, 25000, 2000)\n",
    "ax.set_xticks(x_ticks)\n",
    "ax.set_yticks(y_ticks)\n",
    "\n",
    "print(\"x_ticks: \", x_ticks)\n",
    "x_tick_labels = []\n",
    "for x in x_ticks:\n",
    "    if x % 5000 == 0:\n",
    "        x_tick_labels.append(x)\n",
    "    else:\n",
    "        x_tick_labels.append(\"\")\n",
    "print(\"x_tick_labels: \", x_tick_labels)\n",
    "\n",
    "ax.set_xticklabels( x_tick_labels, rotation=90 )\n",
    "\n",
    "plt.grid(linestyle=\"--\", color=\"gray\")\n",
    "\n",
    "plt.xlabel(\"\\nVerkaufspreis\", fontsize=14)\n",
    "plt.ylabel(\"Häufigkeit\\n\", fontsize=14)\n",
    "plt.title(\"Zu welchem Preis wurden die Autos wie oft verkauft?\\n\", fontsize=16)\n",
    "\n",
    "plt.axvline(verkaufspreis_median, color='red', linestyle='dashed', linewidth=2)\n",
    "\n",
    "min_ylim, max_ylim = plt.ylim()\n",
    "props = dict(boxstyle='round', facecolor='lightgray', edgecolor=\"red\", alpha=0.9)\n",
    "plt.text(verkaufspreis_median*1.1, max_ylim*0.95,\n",
    "         'Median: ${:.1f}'.format(verkaufspreis_median),\n",
    "         bbox=props, color=\"red\")\n",
    "\n",
    "plt.savefig(\"verkaufspreis_histogramm.pdf\", transparent=False)\n",
    "plt.show()\n",
    "\n"
   ]
  },
  {
   "cell_type": "code",
   "execution_count": null,
   "id": "sharing-victory",
   "metadata": {},
   "outputs": [],
   "source": []
  }
 ],
 "metadata": {
  "kernelspec": {
   "display_name": "Python 3",
   "language": "python",
   "name": "python3"
  },
  "language_info": {
   "codemirror_mode": {
    "name": "ipython",
    "version": 3
   },
   "file_extension": ".py",
   "mimetype": "text/x-python",
   "name": "python",
   "nbconvert_exporter": "python",
   "pygments_lexer": "ipython3",
   "version": "3.8.5"
  },
  "toc": {
   "base_numbering": 1,
   "nav_menu": {},
   "number_sections": true,
   "sideBar": true,
   "skip_h1_title": false,
   "title_cell": "Table of Contents",
   "title_sidebar": "Contents",
   "toc_cell": false,
   "toc_position": {
    "height": "calc(100% - 180px)",
    "left": "10px",
    "top": "150px",
    "width": "262.333px"
   },
   "toc_section_display": true,
   "toc_window_display": true
  }
 },
 "nbformat": 4,
 "nbformat_minor": 5
}
