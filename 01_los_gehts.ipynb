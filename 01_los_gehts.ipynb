{
 "cells": [
  {
   "cell_type": "markdown",
   "metadata": {},
   "source": [
    "# Los geht's mit Machine Learning!\n",
    "\n",
    "Herzlich willkommen zu einem kompakten und schnellen Einstieg in das Maschinelle Lernen mit Hilfe der Python-Bibliothek **scikit-learn**.\n",
    "\n",
    "Wozu diese Bibliothek? Diese Machine-Learning Bibliothek hilft Ihnen alle möglichen Probleme rund um die Themen\n",
    "\n",
    "- Regression\n",
    "- Klassifikation\n",
    "- Clustering\n",
    "    \n",
    "rasch und effektiv zu lösen. Dabei bedeutet *Machine-Learning* (deutsch: Maschinelles Lernen), dass der Computer anhand von Daten sogenannte *Modelle* lernt, die diese Probleme für Sie lösen.\n",
    "\n",
    "Aber jetzt erstmal: was bitte schön bedeuten diese drei Begriffe aus dem Bereich des Maschinellen Lernens?\n",
    "\n",
    "**1. Regression:**\n",
    "Hier geht es darum, Maschinelles Lernen zu verwenden, um Werte möglichst gut vorhersagen zu können.\n",
    "\n",
    "Beispiel: Sie haben einen Webshop für Modellflugzeuge und entsprechendes Zubehör. Als Eingabe haben Sie vier Informationen zu Ihrem Kunden:\n",
    "\n",
    "- Geschlecht\n",
    "- Alter\n",
    "- Wohnort\n",
    "- Umsatz: Für wieviel Geld bestellt der Kunde durchschnittlich jährlich bei Ihnen\n",
    "\n",
    "Sie haben solche Angaben für 1000 Kunden. Jetzt wollen Sie ein Modell anhand von diesen 1000 Beispielkunden (= *Trainingsdaten*) erlernen, das Ihnen nur aus den Informationen Geschlecht, Alter und Wohnort vorhersagt, wieviel Umsatz Ihnen ein Kunde in etwa durchschnittlich jährlich machen wird:\n",
    "\n",
    "          (Geschlecht, Alter, Wohnort)\n",
    "                      |\n",
    "                      |\n",
    "                      v\n",
    "     ------------------------------------\n",
    "      Machine Learning Modell (Regressor)\n",
    "     ------------------------------------\n",
    "                      |\n",
    "                      |\n",
    "                      v\n",
    "         prädizierter durchschnittlicher\n",
    "         jährlicher Umsatz für diesen Kunden\n",
    "    \n",
    "Haben Sie diese drei Informationen zu einem Kunden, können Sie dann sozusagen in die Zukunft schauen, d.h. vorhersagen (*prädizieren*), wieviel Umsatz Ihnen dieser Kunde in Zukunft bescheren wird.\n",
    "\n",
    "\n",
    "**2. Klassifikation:**\n",
    "Hier geht es darum, Maschinelles Lernen zu verwenden, um Daten grob zu klassifizieren.\n",
    "\n",
    "Bleiben wir einfach bei dem obigen Beispiel. Sie könnten Ihre Kunden zum Beispiel in\n",
    "\n",
    "* Klasse 1: Premium-Kunden mit einem durschnittlichen Umsatz > 1000€ / Jahr\n",
    "* Klasse 2: Basis-Kunden mit einem durchschnittlichen Umsatz zwischen 100€ und 1000€ / Jahr\n",
    "* Klasse 3: Gelegenheits-Kunden mit einem durchschnittlichen Umsatz < 100€ / Jahr\n",
    "\n",
    "einteilen. Also in 3 sogenannte *Klassen*.\n",
    "\n",
    "Jetzt können Sie versuchen ein Modell wieder anhand von Trainingsdaten zu erlernen, dass bei Eingabe von Geschlecht, Alter, Wohnort die entsprechende Klasse vorhersagt:\n",
    "\n",
    "\n",
    "            (Geschlecht, Alter, Wohnort)\n",
    "                        |\n",
    "                        |\n",
    "                        v\n",
    "     -----------------------------------------\n",
    "      Machine Learning Modell (Klassifikator)\n",
    "     -----------------------------------------\n",
    "                        |\n",
    "                        |\n",
    "                        v\n",
    "                Klasse 1, 2 oder 3?\n",
    "                \n",
    "**3. Clustering**\n",
    "\n",
    "Hier geht es darum, Maschinelles Lernen zu verwenden, um Strukturen in Daten zu erkennen und meist auch zu visualisieren.\n",
    "\n",
    "Wir bleiben immer noch bei dem Webshop-Beispiel. Greifen wir uns mal zwei Merkmale unserer Kunden heraus: das Alter und den durschnittlichen Umsatz / Jahr. Das heißt, jetzt wäre jeder der 1000 Beispielkunden als ein 2D-Merkmalsvektor beschrieben:\n",
    "\n",
    "    (Alter, Umsatz)\n",
    "\n",
    "Wenn wir jetzt jeden dieser 1000 Kunden als 2D-Punkt in ein (Alter, Umsatz)-Diagramm plotten, könnten es sein, dass schon alleine durch das Hinschauen gewissen Strukturen erkennbar sind.\n",
    "\n",
    "Um das als Beispiel zu verdeutlichen, erzeugen wir hier mal ein paar Beispieldaten. Keine Sorge, Sie müssen den Python-Code an dieser Stelle noch nicht verstehen!"
   ]
  },
  {
   "cell_type": "code",
   "execution_count": 84,
   "metadata": {},
   "outputs": [],
   "source": [
    "import numpy as np\n",
    "kunden = []\n",
    "anz_kunden = 1000\n",
    "for i in range(0, anz_kunden):    \n",
    "    alter = np.random.randint(low=18, high=99)    \n",
    "    \n",
    "    if alter<25: \n",
    "        # junge Kunden haben noch nicht so viel Geld\n",
    "        # und kaufen sehr günstige Modellflieger\n",
    "        umsatz = np.random.normal(loc=100, scale=30.0)\n",
    "        \n",
    "    elif alter>25 and alter<65:\n",
    "        # berufstätige Kunden haben viel Geld für teueres Spielzeug\n",
    "        # und kaufen Profi-Spielzeug\n",
    "        umsatz = np.random.normal(loc=300, scale=40.0)\n",
    "        \n",
    "    else:\n",
    "        # ältere Kunden bestellen nur einfache Modellflieger für Ihre Enkel\n",
    "        umsatz = np.random.normal(loc=50, scale=25.0)\n",
    "    \n",
    "    neuer_kunde = (alter, umsatz)\n",
    "    kunden.append( neuer_kunde )"
   ]
  },
  {
   "cell_type": "markdown",
   "metadata": {},
   "source": [
    "Diese Beispieldaten können wir jetzt in zwei separate Liste entpacken und dann plotten:"
   ]
  },
  {
   "cell_type": "code",
   "execution_count": 85,
   "metadata": {},
   "outputs": [],
   "source": [
    "liste_alter, liste_umsaetze = zip(*kunden)"
   ]
  },
  {
   "cell_type": "code",
   "execution_count": 86,
   "metadata": {},
   "outputs": [
    {
     "data": {
      "text/plain": [
       "(31, 91, 78, 20, 39)"
      ]
     },
     "execution_count": 86,
     "metadata": {},
     "output_type": "execute_result"
    }
   ],
   "source": [
    "liste_alter[:5]"
   ]
  },
  {
   "cell_type": "code",
   "execution_count": 87,
   "metadata": {},
   "outputs": [
    {
     "data": {
      "text/plain": [
       "(301.93313579649976,\n",
       " 41.254371174944296,\n",
       " 81.14199757721128,\n",
       " 79.22901557011804,\n",
       " 287.6688880097133)"
      ]
     },
     "execution_count": 87,
     "metadata": {},
     "output_type": "execute_result"
    }
   ],
   "source": [
    "liste_umsaetze[:5]"
   ]
  },
  {
   "cell_type": "code",
   "execution_count": 88,
   "metadata": {},
   "outputs": [
    {
     "data": {
      "image/png": "[encoded data removed]",
      "text/plain": [
       "<Figure size 432x288 with 1 Axes>"
      ]
     },
     "metadata": {
      "needs_background": "light"
     },
     "output_type": "display_data"
    }
   ],
   "source": [
    "from matplotlib import pyplot as plt\n",
    "\n",
    "plt.scatter(liste_alter, liste_umsaetze, marker=\".\")\n",
    "plt.xlabel(\"Alter\")\n",
    "plt.ylabel(\"Durschnittlicher Umsatz in EUR / Jahr\")\n",
    "plt.grid()\n",
    "plt.title(\"Beispielkundendaten\")\n",
    "plt.show()"
   ]
  },
  {
   "cell_type": "markdown",
   "metadata": {},
   "source": [
    "Ein Maschinelles Lernverfahren zum sogenannten *Clustering* könnte diese drei gut voneinander abgegrenzten Ballungen (der Fachbegriff lautet *Cluster*) im (Alter, Umsatz)-Merkmalsraum erkennen und uns mitteilen, dass es drei Cluster gefunden hat und deren räumliche Ausdehnung beschreiben. Wie? Zum Beispiel durch einen Mittelpunkt jeden Clusters und einen Schätzung des jeweiligen Clusteradius.\n",
    "\n",
    "In diesem einfachen zwei-dimensionalen Fall würde uns Menschen auch eine Visualisierung reichen. Aber was ist, wenn der Merkmalsvektor eines Kunden 6-dimensional ist, weil er viele Informationen enthält? Eine Visualisierung ist nicht mehr direkt möglich (nur noch indirekt über Dimensionsreduktionsverfahren) und trotzdem kann es auch in diesem 6-dimensionalen Merkmalsraum Ballungen geben, die wertvolle Informationen über Kundenmuster enthalten. Ein Clustering-Verfahren kann uns dann hier helfen, die Anzahl, Lage und Ausbreitung der Cluster herauszufinden."
   ]
  },
  {
   "cell_type": "markdown",
   "metadata": {},
   "source": [
    "# Ein paar Hintergründe zu scikit-learn"
   ]
  },
  {
   "cell_type": "markdown",
   "metadata": {},
   "source": [
    "Die Bibliothek scikit-learn wurde im Jahre 2007 von David Cournapeau als ein \"Google Summer of Code Projekt\" ins Leben gerufen. Bei diesem Projekt arbeiten Studenten begleitend mit Mentoren von Firmen an einem realen Projekt. Die erste Version wurde jedoch erst im Januar 2010 veröffentlicht, nachdem Fabian Pedregosa, Gael Varoquaux, Alexandre Gramfort and Vincent Michel - alle vom *Institut national de recherche en informatique et en automatique (INRIA)*, zu deutsch: Nationales Forschungsinstitut für Informatik und Automatisierung - das Projekt übernahmen.\n",
    "\n",
    "Inzwischen ist scikit-learn ein Open-Source-Projekt, das von Freiwilligen weiterentwickelt wird und jeder kann beitragen. Den Originalcode findet man übrigens unter:\n",
    "\n",
    "https://github.com/scikit-learn/scikit-learn\n",
    "\n",
    "scikit-learn ist zu großen Teilen in Python geschrieben und nutzt die Bibliothek *NumPy (Numerical Python)* sehr intensiv für die Umsetzung wichtiger Linearer-Algebra-Operationen. Einige Algorithmen sind aber auch in *Cython* geschrieben. Cython erlaubt die Kombination von Python und C und damit insbesondere die Anbindung von externen Bibliotheken an den Standard CPython-Interpreter. Der CPython-Interpreter ist übrigens der Interpreter, der Ihren Python-Code ausführt! Einige Machine-Learning-Verfahren wie z.B. die *Support Vector Machines (SVM)* werden mittels Cython in Python zur Verfügung gestellt. Im Hintergrund läuft dann aber eine bekannte und altbewährte C-Implementierung namens LIBSVM der Support-Vektor-Maschinen. Einfach gesagt: scikit-learn ist in großen Teilen Python-Code, aber besteht auch aus viel C-Code.\n",
    "\n",
    "Die aktuelle Version im März 2021 von scikit-learn ist die Version 0.24 und unter\n",
    "\n",
    "https://scikit-learn.org/stable/install.html\n",
    "\n",
    "können Sie nachlesen, wie Sie scikit-learn auf Ihrem System installieren können. Unter Linux mittels des `conda`-Paketmanagers geht es zum Beispiel recht einfach mittels:\n",
    "\n",
    "    conda install scikit-learn\n",
    "    \n",
    "    \n",
    "Übrigens wird die Bibliothek korrekt als *scikit-learn* berzeichnet und geschrieben und _nicht_ etwa:\n",
    "\n",
    "* scikit\n",
    "* SciKit\n",
    "* sci-kit learn\n",
    "    \n",
    "\n",
    " "
   ]
  },
  {
   "cell_type": "code",
   "execution_count": null,
   "metadata": {},
   "outputs": [],
   "source": []
  }
 ],
 "metadata": {
  "kernelspec": {
   "display_name": "Python 3",
   "language": "python",
   "name": "python3"
  },
  "language_info": {
   "codemirror_mode": {
    "name": "ipython",
    "version": 3
   },
   "file_extension": ".py",
   "mimetype": "text/x-python",
   "name": "python",
   "nbconvert_exporter": "python",
   "pygments_lexer": "ipython3",
   "version": "3.8.5"
  }
 },
 "nbformat": 4,
 "nbformat_minor": 4
}
